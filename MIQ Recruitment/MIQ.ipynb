{
 "cells": [
  {
   "cell_type": "code",
   "execution_count": 1,
   "metadata": {},
   "outputs": [],
   "source": [
    "import pandas as pd\n",
    "import numpy as np\n",
    "import matplotlib.pyplot as plt\n",
    "import seaborn as sns\n",
    "\n",
    "import warnings\n",
    "warnings.filterwarnings('ignore')\n",
    "\n",
    "sns.set()\n"
   ]
  },
  {
   "cell_type": "code",
   "execution_count": 2,
   "metadata": {},
   "outputs": [
    {
     "data": {
      "text/plain": [
       "(49999, 15)"
      ]
     },
     "execution_count": 2,
     "metadata": {},
     "output_type": "execute_result"
    }
   ],
   "source": [
    "df = pd.read_excel('Fashion - Assignment Data (3).xlsx', header=[1])\n",
    "\n",
    "df.shape"
   ]
  },
  {
   "cell_type": "code",
   "execution_count": 3,
   "metadata": {},
   "outputs": [
    {
     "data": {
      "text/html": [
       "<div>\n",
       "<style scoped>\n",
       "    .dataframe tbody tr th:only-of-type {\n",
       "        vertical-align: middle;\n",
       "    }\n",
       "\n",
       "    .dataframe tbody tr th {\n",
       "        vertical-align: top;\n",
       "    }\n",
       "\n",
       "    .dataframe thead th {\n",
       "        text-align: right;\n",
       "    }\n",
       "</style>\n",
       "<table border=\"1\" class=\"dataframe\">\n",
       "  <thead>\n",
       "    <tr style=\"text-align: right;\">\n",
       "      <th></th>\n",
       "      <th>timestamp</th>\n",
       "      <th>user ID</th>\n",
       "      <th>ip_address</th>\n",
       "      <th>Product_Name</th>\n",
       "      <th>Product_ID</th>\n",
       "      <th>Is_First_Order</th>\n",
       "      <th>User_Gender</th>\n",
       "      <th>Payment_Type</th>\n",
       "      <th>Number_of_Products</th>\n",
       "      <th>Order_Coupon_Code</th>\n",
       "      <th>City</th>\n",
       "      <th>Country_Province</th>\n",
       "      <th>User_Birthday</th>\n",
       "      <th>Country</th>\n",
       "      <th>Revenue</th>\n",
       "    </tr>\n",
       "  </thead>\n",
       "  <tbody>\n",
       "    <tr>\n",
       "      <th>0</th>\n",
       "      <td>2017-10-21 20:52:31</td>\n",
       "      <td>0</td>\n",
       "      <td>49.227.243.31</td>\n",
       "      <td>Kendrick</td>\n",
       "      <td>SE043SH31VBS</td>\n",
       "      <td>0</td>\n",
       "      <td>female</td>\n",
       "      <td>cc@braintree</td>\n",
       "      <td>1</td>\n",
       "      <td>YAY15</td>\n",
       "      <td>Kaitaia</td>\n",
       "      <td>NaN</td>\n",
       "      <td>1993-10-05 00:00:00</td>\n",
       "      <td>NZ</td>\n",
       "      <td>212.5</td>\n",
       "    </tr>\n",
       "    <tr>\n",
       "      <th>1</th>\n",
       "      <td>2017-10-21 20:55:12</td>\n",
       "      <td>0</td>\n",
       "      <td>111.220.172.119</td>\n",
       "      <td>Smartwatch Bradshaw Gold</td>\n",
       "      <td>MI329AC90OUB</td>\n",
       "      <td>1</td>\n",
       "      <td>male</td>\n",
       "      <td>pbi@afterpay</td>\n",
       "      <td>1</td>\n",
       "      <td>NaN</td>\n",
       "      <td>Shepparton</td>\n",
       "      <td>VIC</td>\n",
       "      <td>NaN</td>\n",
       "      <td>AU</td>\n",
       "      <td>526.36</td>\n",
       "    </tr>\n",
       "    <tr>\n",
       "      <th>2</th>\n",
       "      <td>2017-10-21 20:56:41</td>\n",
       "      <td>0</td>\n",
       "      <td>210.84.59.179</td>\n",
       "      <td>Classic Slides</td>\n",
       "      <td>SA849SH69SAK</td>\n",
       "      <td>1</td>\n",
       "      <td>female</td>\n",
       "      <td>cc@braintree</td>\n",
       "      <td>1</td>\n",
       "      <td>NaN</td>\n",
       "      <td>Essendon</td>\n",
       "      <td>VIC</td>\n",
       "      <td>NaN</td>\n",
       "      <td>AU</td>\n",
       "      <td>77.23</td>\n",
       "    </tr>\n",
       "    <tr>\n",
       "      <th>3</th>\n",
       "      <td>2017-10-21 20:59:27</td>\n",
       "      <td>0</td>\n",
       "      <td>59.167.79.119</td>\n",
       "      <td>Bonaire Flared Sleeve Tunic</td>\n",
       "      <td>SH045AA22AGR</td>\n",
       "      <td>0</td>\n",
       "      <td>female</td>\n",
       "      <td>pbi@afterpay</td>\n",
       "      <td>1</td>\n",
       "      <td>NaN</td>\n",
       "      <td>Karabar</td>\n",
       "      <td>NSW</td>\n",
       "      <td>NaN</td>\n",
       "      <td>AU</td>\n",
       "      <td>190.91</td>\n",
       "    </tr>\n",
       "    <tr>\n",
       "      <th>4</th>\n",
       "      <td>2017-10-21 21:00:56</td>\n",
       "      <td>0</td>\n",
       "      <td>1.129.107.188</td>\n",
       "      <td>Tall Tales Man Style Pants</td>\n",
       "      <td>MA146AA45RAK</td>\n",
       "      <td>0</td>\n",
       "      <td>female</td>\n",
       "      <td>cc@braintree</td>\n",
       "      <td>1</td>\n",
       "      <td>NaN</td>\n",
       "      <td>Mosman</td>\n",
       "      <td>NSW</td>\n",
       "      <td>NaN</td>\n",
       "      <td>AU</td>\n",
       "      <td>204.09</td>\n",
       "    </tr>\n",
       "  </tbody>\n",
       "</table>\n",
       "</div>"
      ],
      "text/plain": [
       "            timestamp  user ID       ip_address                 Product_Name  \\\n",
       "0 2017-10-21 20:52:31        0    49.227.243.31                     Kendrick   \n",
       "1 2017-10-21 20:55:12        0  111.220.172.119     Smartwatch Bradshaw Gold   \n",
       "2 2017-10-21 20:56:41        0    210.84.59.179               Classic Slides   \n",
       "3 2017-10-21 20:59:27        0    59.167.79.119  Bonaire Flared Sleeve Tunic   \n",
       "4 2017-10-21 21:00:56        0    1.129.107.188   Tall Tales Man Style Pants   \n",
       "\n",
       "     Product_ID Is_First_Order User_Gender  Payment_Type Number_of_Products  \\\n",
       "0  SE043SH31VBS              0      female  cc@braintree                  1   \n",
       "1  MI329AC90OUB              1        male  pbi@afterpay                  1   \n",
       "2  SA849SH69SAK              1      female  cc@braintree                  1   \n",
       "3  SH045AA22AGR              0      female  pbi@afterpay                  1   \n",
       "4  MA146AA45RAK              0      female  cc@braintree                  1   \n",
       "\n",
       "  Order_Coupon_Code        City Country_Province        User_Birthday Country  \\\n",
       "0             YAY15     Kaitaia              NaN  1993-10-05 00:00:00      NZ   \n",
       "1               NaN  Shepparton              VIC                  NaN      AU   \n",
       "2               NaN    Essendon              VIC                  NaN      AU   \n",
       "3               NaN     Karabar              NSW                  NaN      AU   \n",
       "4               NaN      Mosman              NSW                  NaN      AU   \n",
       "\n",
       "  Revenue  \n",
       "0   212.5  \n",
       "1  526.36  \n",
       "2   77.23  \n",
       "3  190.91  \n",
       "4  204.09  "
      ]
     },
     "execution_count": 3,
     "metadata": {},
     "output_type": "execute_result"
    }
   ],
   "source": [
    "df.head()"
   ]
  },
  {
   "cell_type": "code",
   "execution_count": 4,
   "metadata": {},
   "outputs": [
    {
     "data": {
      "text/plain": [
       "263"
      ]
     },
     "execution_count": 4,
     "metadata": {},
     "output_type": "execute_result"
    }
   ],
   "source": [
    "df['Number_of_Products'].nunique()"
   ]
  },
  {
   "cell_type": "code",
   "execution_count": 5,
   "metadata": {},
   "outputs": [
    {
     "data": {
      "text/plain": [
       "36019"
      ]
     },
     "execution_count": 5,
     "metadata": {},
     "output_type": "execute_result"
    }
   ],
   "source": [
    "df['Product_ID'].nunique()"
   ]
  },
  {
   "cell_type": "code",
   "execution_count": 6,
   "metadata": {},
   "outputs": [
    {
     "name": "stdout",
     "output_type": "stream",
     "text": [
      "<class 'pandas.core.frame.DataFrame'>\n",
      "RangeIndex: 49999 entries, 0 to 49998\n",
      "Data columns (total 15 columns):\n",
      " #   Column              Non-Null Count  Dtype         \n",
      "---  ------              --------------  -----         \n",
      " 0   timestamp           49999 non-null  datetime64[ns]\n",
      " 1   user ID             49999 non-null  int64         \n",
      " 2   ip_address          49999 non-null  object        \n",
      " 3   Product_Name        49999 non-null  object        \n",
      " 4   Product_ID          49999 non-null  object        \n",
      " 5   Is_First_Order      49999 non-null  object        \n",
      " 6   User_Gender         48825 non-null  object        \n",
      " 7   Payment_Type        49999 non-null  object        \n",
      " 8   Number_of_Products  49999 non-null  object        \n",
      " 9   Order_Coupon_Code   11894 non-null  object        \n",
      " 10  City                49662 non-null  object        \n",
      " 11  Country_Province    45819 non-null  object        \n",
      " 12  User_Birthday       22724 non-null  object        \n",
      " 13  Country             49999 non-null  object        \n",
      " 14  Revenue             49999 non-null  object        \n",
      "dtypes: datetime64[ns](1), int64(1), object(13)\n",
      "memory usage: 5.7+ MB\n"
     ]
    }
   ],
   "source": [
    "df.info()"
   ]
  },
  {
   "cell_type": "markdown",
   "metadata": {},
   "source": [
    "# Task"
   ]
  },
  {
   "cell_type": "markdown",
   "metadata": {},
   "source": [
    "### 1. Provide an overview of the brand's sales by the following attributes:\n",
    "1. •\tOverall - Total Sales and Revenue in the given time period\n",
    "2. •\tBasket - Avg. unique quantity, revenue per order.\n",
    "3. •\tAttributes - Time of Day, Day of Week, Geography, Payment Type\n",
    "4. •\tFrequency - How many are single/multiple purchasers? What is the frequency of multi-purchase? Any typical attributes?"
   ]
  },
  {
   "cell_type": "markdown",
   "metadata": {},
   "source": [
    "Before Any Analysis, Exploring the data is a necessary step to do first"
   ]
  },
  {
   "cell_type": "code",
   "execution_count": 21,
   "metadata": {
    "scrolled": true
   },
   "outputs": [
    {
     "data": {
      "text/html": [
       "<div>\n",
       "<style scoped>\n",
       "    .dataframe tbody tr th:only-of-type {\n",
       "        vertical-align: middle;\n",
       "    }\n",
       "\n",
       "    .dataframe tbody tr th {\n",
       "        vertical-align: top;\n",
       "    }\n",
       "\n",
       "    .dataframe thead th {\n",
       "        text-align: right;\n",
       "    }\n",
       "</style>\n",
       "<table border=\"1\" class=\"dataframe\">\n",
       "  <thead>\n",
       "    <tr style=\"text-align: right;\">\n",
       "      <th></th>\n",
       "      <th>timestamp</th>\n",
       "      <th>user ID</th>\n",
       "      <th>ip_address</th>\n",
       "      <th>Product_Name</th>\n",
       "      <th>Product_ID</th>\n",
       "      <th>Is_First_Order</th>\n",
       "      <th>User_Gender</th>\n",
       "      <th>Payment_Type</th>\n",
       "      <th>Number_of_Products</th>\n",
       "      <th>Order_Coupon_Code</th>\n",
       "      <th>City</th>\n",
       "      <th>Country_Province</th>\n",
       "      <th>User_Birthday</th>\n",
       "      <th>Country</th>\n",
       "      <th>Revenue</th>\n",
       "    </tr>\n",
       "  </thead>\n",
       "  <tbody>\n",
       "    <tr>\n",
       "      <th>5052</th>\n",
       "      <td>2017-10-05 00:50:56</td>\n",
       "      <td>4407</td>\n",
       "      <td>66.102.6.141</td>\n",
       "      <td>undefined</td>\n",
       "      <td>undefined</td>\n",
       "      <td>undefined</td>\n",
       "      <td>undefined</td>\n",
       "      <td>undefined</td>\n",
       "      <td>undefined</td>\n",
       "      <td>undefined</td>\n",
       "      <td>undefined</td>\n",
       "      <td>undefined</td>\n",
       "      <td>undefined</td>\n",
       "      <td>undefined</td>\n",
       "      <td>undefined</td>\n",
       "    </tr>\n",
       "    <tr>\n",
       "      <th>7324</th>\n",
       "      <td>2017-10-09 09:37:51</td>\n",
       "      <td>6344</td>\n",
       "      <td>66.102.6.242</td>\n",
       "      <td>undefined</td>\n",
       "      <td>undefined</td>\n",
       "      <td>undefined</td>\n",
       "      <td>undefined</td>\n",
       "      <td>undefined</td>\n",
       "      <td>undefined</td>\n",
       "      <td>undefined</td>\n",
       "      <td>undefined</td>\n",
       "      <td>undefined</td>\n",
       "      <td>undefined</td>\n",
       "      <td>undefined</td>\n",
       "      <td>undefined</td>\n",
       "    </tr>\n",
       "    <tr>\n",
       "      <th>7821</th>\n",
       "      <td>2017-10-20 02:09:48</td>\n",
       "      <td>6779</td>\n",
       "      <td>66.249.88.56</td>\n",
       "      <td>undefined</td>\n",
       "      <td>undefined</td>\n",
       "      <td>undefined</td>\n",
       "      <td>undefined</td>\n",
       "      <td>undefined</td>\n",
       "      <td>undefined</td>\n",
       "      <td>undefined</td>\n",
       "      <td>undefined</td>\n",
       "      <td>undefined</td>\n",
       "      <td>undefined</td>\n",
       "      <td>undefined</td>\n",
       "      <td>undefined</td>\n",
       "    </tr>\n",
       "    <tr>\n",
       "      <th>10450</th>\n",
       "      <td>2017-10-19 00:18:09</td>\n",
       "      <td>9107</td>\n",
       "      <td>66.102.6.139</td>\n",
       "      <td>undefined</td>\n",
       "      <td>undefined</td>\n",
       "      <td>undefined</td>\n",
       "      <td>undefined</td>\n",
       "      <td>undefined</td>\n",
       "      <td>undefined</td>\n",
       "      <td>undefined</td>\n",
       "      <td>undefined</td>\n",
       "      <td>undefined</td>\n",
       "      <td>undefined</td>\n",
       "      <td>undefined</td>\n",
       "      <td>undefined</td>\n",
       "    </tr>\n",
       "    <tr>\n",
       "      <th>10940</th>\n",
       "      <td>2017-10-06 02:59:02</td>\n",
       "      <td>9556</td>\n",
       "      <td>66.102.6.79</td>\n",
       "      <td>undefined</td>\n",
       "      <td>undefined</td>\n",
       "      <td>undefined</td>\n",
       "      <td>undefined</td>\n",
       "      <td>undefined</td>\n",
       "      <td>undefined</td>\n",
       "      <td>undefined</td>\n",
       "      <td>undefined</td>\n",
       "      <td>undefined</td>\n",
       "      <td>undefined</td>\n",
       "      <td>undefined</td>\n",
       "      <td>undefined</td>\n",
       "    </tr>\n",
       "    <tr>\n",
       "      <th>13740</th>\n",
       "      <td>2017-10-08 05:55:50</td>\n",
       "      <td>12043</td>\n",
       "      <td>66.249.88.23</td>\n",
       "      <td>undefined</td>\n",
       "      <td>undefined</td>\n",
       "      <td>undefined</td>\n",
       "      <td>undefined</td>\n",
       "      <td>undefined</td>\n",
       "      <td>undefined</td>\n",
       "      <td>undefined</td>\n",
       "      <td>undefined</td>\n",
       "      <td>undefined</td>\n",
       "      <td>undefined</td>\n",
       "      <td>undefined</td>\n",
       "      <td>undefined</td>\n",
       "    </tr>\n",
       "    <tr>\n",
       "      <th>21219</th>\n",
       "      <td>2017-10-11 13:38:30</td>\n",
       "      <td>18641</td>\n",
       "      <td>66.249.88.23</td>\n",
       "      <td>undefined</td>\n",
       "      <td>undefined</td>\n",
       "      <td>undefined</td>\n",
       "      <td>undefined</td>\n",
       "      <td>undefined</td>\n",
       "      <td>undefined</td>\n",
       "      <td>undefined</td>\n",
       "      <td>undefined</td>\n",
       "      <td>undefined</td>\n",
       "      <td>undefined</td>\n",
       "      <td>undefined</td>\n",
       "      <td>undefined</td>\n",
       "    </tr>\n",
       "    <tr>\n",
       "      <th>23648</th>\n",
       "      <td>2017-10-07 05:45:39</td>\n",
       "      <td>20792</td>\n",
       "      <td>66.102.8.211</td>\n",
       "      <td>undefined</td>\n",
       "      <td>undefined</td>\n",
       "      <td>undefined</td>\n",
       "      <td>undefined</td>\n",
       "      <td>undefined</td>\n",
       "      <td>undefined</td>\n",
       "      <td>undefined</td>\n",
       "      <td>undefined</td>\n",
       "      <td>undefined</td>\n",
       "      <td>undefined</td>\n",
       "      <td>undefined</td>\n",
       "      <td>undefined</td>\n",
       "    </tr>\n",
       "    <tr>\n",
       "      <th>23896</th>\n",
       "      <td>2017-10-08 01:33:48</td>\n",
       "      <td>21017</td>\n",
       "      <td>66.102.8.215</td>\n",
       "      <td>undefined</td>\n",
       "      <td>undefined</td>\n",
       "      <td>undefined</td>\n",
       "      <td>undefined</td>\n",
       "      <td>undefined</td>\n",
       "      <td>undefined</td>\n",
       "      <td>undefined</td>\n",
       "      <td>undefined</td>\n",
       "      <td>undefined</td>\n",
       "      <td>undefined</td>\n",
       "      <td>undefined</td>\n",
       "      <td>undefined</td>\n",
       "    </tr>\n",
       "    <tr>\n",
       "      <th>24674</th>\n",
       "      <td>2017-10-08 05:55:52</td>\n",
       "      <td>21714</td>\n",
       "      <td>66.102.8.211</td>\n",
       "      <td>undefined</td>\n",
       "      <td>undefined</td>\n",
       "      <td>undefined</td>\n",
       "      <td>undefined</td>\n",
       "      <td>undefined</td>\n",
       "      <td>undefined</td>\n",
       "      <td>undefined</td>\n",
       "      <td>undefined</td>\n",
       "      <td>undefined</td>\n",
       "      <td>undefined</td>\n",
       "      <td>undefined</td>\n",
       "      <td>undefined</td>\n",
       "    </tr>\n",
       "    <tr>\n",
       "      <th>30591</th>\n",
       "      <td>2017-10-02 20:12:22</td>\n",
       "      <td>26975</td>\n",
       "      <td>66.249.88.21</td>\n",
       "      <td>undefined</td>\n",
       "      <td>undefined</td>\n",
       "      <td>undefined</td>\n",
       "      <td>undefined</td>\n",
       "      <td>undefined</td>\n",
       "      <td>undefined</td>\n",
       "      <td>undefined</td>\n",
       "      <td>undefined</td>\n",
       "      <td>undefined</td>\n",
       "      <td>undefined</td>\n",
       "      <td>undefined</td>\n",
       "      <td>undefined</td>\n",
       "    </tr>\n",
       "    <tr>\n",
       "      <th>31969</th>\n",
       "      <td>2017-10-06 04:41:30</td>\n",
       "      <td>28193</td>\n",
       "      <td>66.102.6.79</td>\n",
       "      <td>undefined</td>\n",
       "      <td>undefined</td>\n",
       "      <td>undefined</td>\n",
       "      <td>undefined</td>\n",
       "      <td>undefined</td>\n",
       "      <td>undefined</td>\n",
       "      <td>undefined</td>\n",
       "      <td>undefined</td>\n",
       "      <td>undefined</td>\n",
       "      <td>undefined</td>\n",
       "      <td>undefined</td>\n",
       "      <td>undefined</td>\n",
       "    </tr>\n",
       "    <tr>\n",
       "      <th>38604</th>\n",
       "      <td>2017-10-07 01:00:26</td>\n",
       "      <td>34114</td>\n",
       "      <td>66.102.6.242</td>\n",
       "      <td>undefined</td>\n",
       "      <td>undefined</td>\n",
       "      <td>undefined</td>\n",
       "      <td>undefined</td>\n",
       "      <td>undefined</td>\n",
       "      <td>undefined</td>\n",
       "      <td>undefined</td>\n",
       "      <td>undefined</td>\n",
       "      <td>undefined</td>\n",
       "      <td>undefined</td>\n",
       "      <td>undefined</td>\n",
       "      <td>undefined</td>\n",
       "    </tr>\n",
       "    <tr>\n",
       "      <th>43106</th>\n",
       "      <td>2017-10-10 11:48:23</td>\n",
       "      <td>38045</td>\n",
       "      <td>66.102.8.211</td>\n",
       "      <td>undefined</td>\n",
       "      <td>undefined</td>\n",
       "      <td>undefined</td>\n",
       "      <td>undefined</td>\n",
       "      <td>undefined</td>\n",
       "      <td>undefined</td>\n",
       "      <td>undefined</td>\n",
       "      <td>undefined</td>\n",
       "      <td>undefined</td>\n",
       "      <td>undefined</td>\n",
       "      <td>undefined</td>\n",
       "      <td>undefined</td>\n",
       "    </tr>\n",
       "    <tr>\n",
       "      <th>43202</th>\n",
       "      <td>2017-10-03 21:33:11</td>\n",
       "      <td>38133</td>\n",
       "      <td>66.102.8.211</td>\n",
       "      <td>undefined</td>\n",
       "      <td>undefined</td>\n",
       "      <td>undefined</td>\n",
       "      <td>undefined</td>\n",
       "      <td>undefined</td>\n",
       "      <td>undefined</td>\n",
       "      <td>undefined</td>\n",
       "      <td>undefined</td>\n",
       "      <td>undefined</td>\n",
       "      <td>undefined</td>\n",
       "      <td>undefined</td>\n",
       "      <td>undefined</td>\n",
       "    </tr>\n",
       "  </tbody>\n",
       "</table>\n",
       "</div>"
      ],
      "text/plain": [
       "                timestamp  user ID    ip_address Product_Name Product_ID  \\\n",
       "5052  2017-10-05 00:50:56     4407  66.102.6.141    undefined  undefined   \n",
       "7324  2017-10-09 09:37:51     6344  66.102.6.242    undefined  undefined   \n",
       "7821  2017-10-20 02:09:48     6779  66.249.88.56    undefined  undefined   \n",
       "10450 2017-10-19 00:18:09     9107  66.102.6.139    undefined  undefined   \n",
       "10940 2017-10-06 02:59:02     9556   66.102.6.79    undefined  undefined   \n",
       "13740 2017-10-08 05:55:50    12043  66.249.88.23    undefined  undefined   \n",
       "21219 2017-10-11 13:38:30    18641  66.249.88.23    undefined  undefined   \n",
       "23648 2017-10-07 05:45:39    20792  66.102.8.211    undefined  undefined   \n",
       "23896 2017-10-08 01:33:48    21017  66.102.8.215    undefined  undefined   \n",
       "24674 2017-10-08 05:55:52    21714  66.102.8.211    undefined  undefined   \n",
       "30591 2017-10-02 20:12:22    26975  66.249.88.21    undefined  undefined   \n",
       "31969 2017-10-06 04:41:30    28193   66.102.6.79    undefined  undefined   \n",
       "38604 2017-10-07 01:00:26    34114  66.102.6.242    undefined  undefined   \n",
       "43106 2017-10-10 11:48:23    38045  66.102.8.211    undefined  undefined   \n",
       "43202 2017-10-03 21:33:11    38133  66.102.8.211    undefined  undefined   \n",
       "\n",
       "      Is_First_Order User_Gender Payment_Type Number_of_Products  \\\n",
       "5052       undefined   undefined    undefined          undefined   \n",
       "7324       undefined   undefined    undefined          undefined   \n",
       "7821       undefined   undefined    undefined          undefined   \n",
       "10450      undefined   undefined    undefined          undefined   \n",
       "10940      undefined   undefined    undefined          undefined   \n",
       "13740      undefined   undefined    undefined          undefined   \n",
       "21219      undefined   undefined    undefined          undefined   \n",
       "23648      undefined   undefined    undefined          undefined   \n",
       "23896      undefined   undefined    undefined          undefined   \n",
       "24674      undefined   undefined    undefined          undefined   \n",
       "30591      undefined   undefined    undefined          undefined   \n",
       "31969      undefined   undefined    undefined          undefined   \n",
       "38604      undefined   undefined    undefined          undefined   \n",
       "43106      undefined   undefined    undefined          undefined   \n",
       "43202      undefined   undefined    undefined          undefined   \n",
       "\n",
       "      Order_Coupon_Code       City Country_Province User_Birthday    Country  \\\n",
       "5052          undefined  undefined        undefined     undefined  undefined   \n",
       "7324          undefined  undefined        undefined     undefined  undefined   \n",
       "7821          undefined  undefined        undefined     undefined  undefined   \n",
       "10450         undefined  undefined        undefined     undefined  undefined   \n",
       "10940         undefined  undefined        undefined     undefined  undefined   \n",
       "13740         undefined  undefined        undefined     undefined  undefined   \n",
       "21219         undefined  undefined        undefined     undefined  undefined   \n",
       "23648         undefined  undefined        undefined     undefined  undefined   \n",
       "23896         undefined  undefined        undefined     undefined  undefined   \n",
       "24674         undefined  undefined        undefined     undefined  undefined   \n",
       "30591         undefined  undefined        undefined     undefined  undefined   \n",
       "31969         undefined  undefined        undefined     undefined  undefined   \n",
       "38604         undefined  undefined        undefined     undefined  undefined   \n",
       "43106         undefined  undefined        undefined     undefined  undefined   \n",
       "43202         undefined  undefined        undefined     undefined  undefined   \n",
       "\n",
       "         Revenue  \n",
       "5052   undefined  \n",
       "7324   undefined  \n",
       "7821   undefined  \n",
       "10450  undefined  \n",
       "10940  undefined  \n",
       "13740  undefined  \n",
       "21219  undefined  \n",
       "23648  undefined  \n",
       "23896  undefined  \n",
       "24674  undefined  \n",
       "30591  undefined  \n",
       "31969  undefined  \n",
       "38604  undefined  \n",
       "43106  undefined  \n",
       "43202  undefined  "
      ]
     },
     "execution_count": 21,
     "metadata": {},
     "output_type": "execute_result"
    }
   ],
   "source": [
    "df[df['Revenue'] == 'undefined']"
   ]
  },
  {
   "cell_type": "markdown",
   "metadata": {},
   "source": [
    "There are about 15 entries in the data which appers to be wrongly stored as a result of an error in the system maybe.\n",
    "\n",
    "I decided to drop this entries since it won't offer any value to the analysis"
   ]
  },
  {
   "cell_type": "code",
   "execution_count": 3,
   "metadata": {},
   "outputs": [
    {
     "name": "stdout",
     "output_type": "stream",
     "text": [
      "Before Removing undefined entries (49999, 15)\n",
      "After Removing undefined entries (49984, 15)\n"
     ]
    }
   ],
   "source": [
    "print('Before Removing undefined entries', df.shape)\n",
    "\n",
    "df = df[df['Revenue'] != 'undefined']\n",
    "\n",
    "print('After Removing undefined entries', df.shape)"
   ]
  },
  {
   "cell_type": "markdown",
   "metadata": {},
   "source": [
    "I converted the Revenue columns to integer"
   ]
  },
  {
   "cell_type": "code",
   "execution_count": 4,
   "metadata": {
    "scrolled": true
   },
   "outputs": [],
   "source": [
    "df['Revenue'] = df['Revenue'].astype(float)"
   ]
  },
  {
   "cell_type": "code",
   "execution_count": 45,
   "metadata": {},
   "outputs": [],
   "source": [
    "# fill missing values\n",
    "df['User_Gender'] = df['User_Gender'].fillna(df['User_Gender'].mode()[0])\n",
    "df['City'] = df['City'].fillna(df['City'].mode()[0])\n",
    "df['Country_Province'] = df['Country_Province'].fillna(df['Country_Province'].mode()[0])"
   ]
  },
  {
   "cell_type": "code",
   "execution_count": 111,
   "metadata": {},
   "outputs": [],
   "source": [
    "df['User_Gender'] = df['User_Gender'].map({'female':0, 'male':1}).astype(int)\n",
    "df['Is_First_Order'] = df['Is_First_Order'].astype(int)"
   ]
  },
  {
   "cell_type": "markdown",
   "metadata": {},
   "source": [
    "**Overall Total Sales and Revenue**"
   ]
  },
  {
   "cell_type": "markdown",
   "metadata": {},
   "source": [
    "The Overall Total Revenue is given by the summation of all values in the Revenue column"
   ]
  },
  {
   "cell_type": "code",
   "execution_count": 9,
   "metadata": {},
   "outputs": [
    {
     "name": "stdout",
     "output_type": "stream",
     "text": [
      "The Total Revenue is 6699843.72\n"
     ]
    }
   ],
   "source": [
    "total_revenue = round(sum(df['Revenue']), 2)\n",
    "\n",
    "print(f\"The Total Revenue is {total_revenue}\")"
   ]
  },
  {
   "cell_type": "markdown",
   "metadata": {},
   "source": [
    "Since the sales column is not given explicitly,\n",
    "\n",
    "The Overall Total Sales is "
   ]
  },
  {
   "cell_type": "markdown",
   "metadata": {},
   "source": [
    "**• Basket - Avg. unique quantity, revenue per order**"
   ]
  },
  {
   "cell_type": "code",
   "execution_count": 28,
   "metadata": {},
   "outputs": [
    {
     "data": {
      "text/plain": [
       "Index(['timestamp', 'user ID', 'ip_address', 'Product_Name', 'Product_ID',\n",
       "       'Is_First_Order', 'User_Gender', 'Payment_Type', 'Number_of_Products',\n",
       "       'Order_Coupon_Code', 'City', 'Country_Province', 'User_Birthday',\n",
       "       'Country', 'Revenue'],\n",
       "      dtype='object')"
      ]
     },
     "execution_count": 28,
     "metadata": {},
     "output_type": "execute_result"
    }
   ],
   "source": [
    "df.columns"
   ]
  },
  {
   "cell_type": "code",
   "execution_count": 29,
   "metadata": {},
   "outputs": [
    {
     "data": {
      "text/plain": [
       "array([0, 1], dtype=object)"
      ]
     },
     "execution_count": 29,
     "metadata": {},
     "output_type": "execute_result"
    }
   ],
   "source": [
    "df['Is_First_Order'].unique()"
   ]
  },
  {
   "cell_type": "markdown",
   "metadata": {},
   "source": [
    "**Average Revenue per Order**"
   ]
  },
  {
   "cell_type": "code",
   "execution_count": 31,
   "metadata": {},
   "outputs": [
    {
     "data": {
      "text/html": [
       "<div>\n",
       "<style scoped>\n",
       "    .dataframe tbody tr th:only-of-type {\n",
       "        vertical-align: middle;\n",
       "    }\n",
       "\n",
       "    .dataframe tbody tr th {\n",
       "        vertical-align: top;\n",
       "    }\n",
       "\n",
       "    .dataframe thead th {\n",
       "        text-align: right;\n",
       "    }\n",
       "</style>\n",
       "<table border=\"1\" class=\"dataframe\">\n",
       "  <thead>\n",
       "    <tr style=\"text-align: right;\">\n",
       "      <th></th>\n",
       "      <th>Revenue</th>\n",
       "    </tr>\n",
       "    <tr>\n",
       "      <th>Is_First_Order</th>\n",
       "      <th></th>\n",
       "    </tr>\n",
       "  </thead>\n",
       "  <tbody>\n",
       "    <tr>\n",
       "      <th>0</th>\n",
       "      <td>137.922154</td>\n",
       "    </tr>\n",
       "    <tr>\n",
       "      <th>1</th>\n",
       "      <td>120.945754</td>\n",
       "    </tr>\n",
       "  </tbody>\n",
       "</table>\n",
       "</div>"
      ],
      "text/plain": [
       "                   Revenue\n",
       "Is_First_Order            \n",
       "0               137.922154\n",
       "1               120.945754"
      ]
     },
     "execution_count": 31,
     "metadata": {},
     "output_type": "execute_result"
    }
   ],
   "source": [
    "pd.DataFrame(df.groupby('Is_First_Order')['Revenue'].mean())"
   ]
  },
  {
   "cell_type": "markdown",
   "metadata": {},
   "source": [
    "**Average Unique Quantity per Order**"
   ]
  },
  {
   "cell_type": "code",
   "execution_count": 12,
   "metadata": {},
   "outputs": [
    {
     "data": {
      "text/html": [
       "<div>\n",
       "<style scoped>\n",
       "    .dataframe tbody tr th:only-of-type {\n",
       "        vertical-align: middle;\n",
       "    }\n",
       "\n",
       "    .dataframe tbody tr th {\n",
       "        vertical-align: top;\n",
       "    }\n",
       "\n",
       "    .dataframe thead th {\n",
       "        text-align: right;\n",
       "    }\n",
       "</style>\n",
       "<table border=\"1\" class=\"dataframe\">\n",
       "  <thead>\n",
       "    <tr style=\"text-align: right;\">\n",
       "      <th></th>\n",
       "      <th>Is_First_Order</th>\n",
       "      <th>Number_of_Products</th>\n",
       "      <th>Revenue</th>\n",
       "    </tr>\n",
       "  </thead>\n",
       "  <tbody>\n",
       "    <tr>\n",
       "      <th>0</th>\n",
       "      <td>0</td>\n",
       "      <td>2,2,2,2,2,2,2,1</td>\n",
       "      <td>0.00</td>\n",
       "    </tr>\n",
       "    <tr>\n",
       "      <th>1</th>\n",
       "      <td>0</td>\n",
       "      <td>1,1,1,1,1,1,1,2,1,1,1,1,1,1,1,1,1</td>\n",
       "      <td>0.00</td>\n",
       "    </tr>\n",
       "    <tr>\n",
       "      <th>2</th>\n",
       "      <td>0</td>\n",
       "      <td>1,2,1,1,2</td>\n",
       "      <td>0.00</td>\n",
       "    </tr>\n",
       "    <tr>\n",
       "      <th>3</th>\n",
       "      <td>0</td>\n",
       "      <td>1,1,1,1,1,1,1,1,1,1,1,1,1,1,1,1</td>\n",
       "      <td>40.11</td>\n",
       "    </tr>\n",
       "    <tr>\n",
       "      <th>4</th>\n",
       "      <td>0</td>\n",
       "      <td>1,1,2,1,2,1,1,1,2,2,1,1,2,2</td>\n",
       "      <td>44.23</td>\n",
       "    </tr>\n",
       "    <tr>\n",
       "      <th>...</th>\n",
       "      <td>...</td>\n",
       "      <td>...</td>\n",
       "      <td>...</td>\n",
       "    </tr>\n",
       "    <tr>\n",
       "      <th>318</th>\n",
       "      <td>0</td>\n",
       "      <td>1,1,1,1,1,1,1,1,1,1,1,1,1,1,1,1,1,1,1,1,1,1,2,...</td>\n",
       "      <td>2344.23</td>\n",
       "    </tr>\n",
       "    <tr>\n",
       "      <th>319</th>\n",
       "      <td>0</td>\n",
       "      <td>2,2,2,1,2,1,1</td>\n",
       "      <td>2788.94</td>\n",
       "    </tr>\n",
       "    <tr>\n",
       "      <th>320</th>\n",
       "      <td>0</td>\n",
       "      <td>1,1,1,1,1,1,1,1,1,1,1,1,1,1,1,1,1,1,2,1,1,1,1,...</td>\n",
       "      <td>3245.62</td>\n",
       "    </tr>\n",
       "    <tr>\n",
       "      <th>321</th>\n",
       "      <td>1</td>\n",
       "      <td>1,1,1,1,1,1,1,1,1,1,1,1,1,1,1,1,1,1,1,1,1,2,1,...</td>\n",
       "      <td>3473.17</td>\n",
       "    </tr>\n",
       "    <tr>\n",
       "      <th>322</th>\n",
       "      <td>0</td>\n",
       "      <td>1,2,2,1,1,1,1,1,1,2,1,2,2,1,1,1,2,2,1,1,2,2,2,...</td>\n",
       "      <td>5387.71</td>\n",
       "    </tr>\n",
       "  </tbody>\n",
       "</table>\n",
       "<p>323 rows × 3 columns</p>\n",
       "</div>"
      ],
      "text/plain": [
       "     Is_First_Order                                 Number_of_Products  \\\n",
       "0                 0                                    2,2,2,2,2,2,2,1   \n",
       "1                 0                  1,1,1,1,1,1,1,2,1,1,1,1,1,1,1,1,1   \n",
       "2                 0                                          1,2,1,1,2   \n",
       "3                 0                    1,1,1,1,1,1,1,1,1,1,1,1,1,1,1,1   \n",
       "4                 0                        1,1,2,1,2,1,1,1,2,2,1,1,2,2   \n",
       "..              ...                                                ...   \n",
       "318               0  1,1,1,1,1,1,1,1,1,1,1,1,1,1,1,1,1,1,1,1,1,1,2,...   \n",
       "319               0                                      2,2,2,1,2,1,1   \n",
       "320               0  1,1,1,1,1,1,1,1,1,1,1,1,1,1,1,1,1,1,2,1,1,1,1,...   \n",
       "321               1  1,1,1,1,1,1,1,1,1,1,1,1,1,1,1,1,1,1,1,1,1,2,1,...   \n",
       "322               0  1,2,2,1,1,1,1,1,1,2,1,2,2,1,1,1,2,2,1,1,2,2,2,...   \n",
       "\n",
       "     Revenue  \n",
       "0       0.00  \n",
       "1       0.00  \n",
       "2       0.00  \n",
       "3      40.11  \n",
       "4      44.23  \n",
       "..       ...  \n",
       "318  2344.23  \n",
       "319  2788.94  \n",
       "320  3245.62  \n",
       "321  3473.17  \n",
       "322  5387.71  \n",
       "\n",
       "[323 rows x 3 columns]"
      ]
     },
     "execution_count": 12,
     "metadata": {},
     "output_type": "execute_result"
    }
   ],
   "source": [
    "avg_unQ = pd.DataFrame(df.groupby(['Is_First_Order', 'Number_of_Products'])['Revenue'].mean().sort_values()).reset_index()\n",
    "avg_unQ"
   ]
  },
  {
   "cell_type": "markdown",
   "metadata": {},
   "source": [
    "There appears to be some products that were sold to non first time orders and generated no revenue. Maybe as a result of discount or promo (coupon codes)"
   ]
  },
  {
   "cell_type": "code",
   "execution_count": 17,
   "metadata": {},
   "outputs": [],
   "source": [
    "df_no_revenue = df[df['Revenue'] <= 1]"
   ]
  },
  {
   "cell_type": "code",
   "execution_count": 18,
   "metadata": {},
   "outputs": [
    {
     "data": {
      "text/plain": [
       "0.95"
      ]
     },
     "execution_count": 18,
     "metadata": {},
     "output_type": "execute_result"
    }
   ],
   "source": [
    "df_no_revenue['Revenue'].max()"
   ]
  },
  {
   "cell_type": "code",
   "execution_count": null,
   "metadata": {},
   "outputs": [],
   "source": []
  },
  {
   "cell_type": "code",
   "execution_count": 38,
   "metadata": {},
   "outputs": [
    {
     "data": {
      "text/html": [
       "<div>\n",
       "<style scoped>\n",
       "    .dataframe tbody tr th:only-of-type {\n",
       "        vertical-align: middle;\n",
       "    }\n",
       "\n",
       "    .dataframe tbody tr th {\n",
       "        vertical-align: top;\n",
       "    }\n",
       "\n",
       "    .dataframe thead th {\n",
       "        text-align: right;\n",
       "    }\n",
       "</style>\n",
       "<table border=\"1\" class=\"dataframe\">\n",
       "  <thead>\n",
       "    <tr style=\"text-align: right;\">\n",
       "      <th></th>\n",
       "      <th>timestamp</th>\n",
       "      <th>user ID</th>\n",
       "      <th>ip_address</th>\n",
       "      <th>Product_Name</th>\n",
       "      <th>Product_ID</th>\n",
       "      <th>Is_First_Order</th>\n",
       "      <th>User_Gender</th>\n",
       "      <th>Payment_Type</th>\n",
       "      <th>Number_of_Products</th>\n",
       "      <th>Order_Coupon_Code</th>\n",
       "      <th>City</th>\n",
       "      <th>Country_Province</th>\n",
       "      <th>User_Birthday</th>\n",
       "      <th>Country</th>\n",
       "      <th>Revenue</th>\n",
       "    </tr>\n",
       "  </thead>\n",
       "  <tbody>\n",
       "    <tr>\n",
       "      <th>0</th>\n",
       "      <td>2017-10-21 20:52:31</td>\n",
       "      <td>0</td>\n",
       "      <td>49.227.243.31</td>\n",
       "      <td>Kendrick</td>\n",
       "      <td>SE043SH31VBS</td>\n",
       "      <td>0</td>\n",
       "      <td>female</td>\n",
       "      <td>cc@braintree</td>\n",
       "      <td>1</td>\n",
       "      <td>YAY15</td>\n",
       "      <td>Kaitaia</td>\n",
       "      <td>NaN</td>\n",
       "      <td>1993-10-05 00:00:00</td>\n",
       "      <td>NZ</td>\n",
       "      <td>212.50</td>\n",
       "    </tr>\n",
       "    <tr>\n",
       "      <th>1</th>\n",
       "      <td>2017-10-21 20:55:12</td>\n",
       "      <td>0</td>\n",
       "      <td>111.220.172.119</td>\n",
       "      <td>Smartwatch Bradshaw Gold</td>\n",
       "      <td>MI329AC90OUB</td>\n",
       "      <td>1</td>\n",
       "      <td>male</td>\n",
       "      <td>pbi@afterpay</td>\n",
       "      <td>1</td>\n",
       "      <td>NaN</td>\n",
       "      <td>Shepparton</td>\n",
       "      <td>VIC</td>\n",
       "      <td>NaN</td>\n",
       "      <td>AU</td>\n",
       "      <td>526.36</td>\n",
       "    </tr>\n",
       "    <tr>\n",
       "      <th>2</th>\n",
       "      <td>2017-10-21 20:56:41</td>\n",
       "      <td>0</td>\n",
       "      <td>210.84.59.179</td>\n",
       "      <td>Classic Slides</td>\n",
       "      <td>SA849SH69SAK</td>\n",
       "      <td>1</td>\n",
       "      <td>female</td>\n",
       "      <td>cc@braintree</td>\n",
       "      <td>1</td>\n",
       "      <td>NaN</td>\n",
       "      <td>Essendon</td>\n",
       "      <td>VIC</td>\n",
       "      <td>NaN</td>\n",
       "      <td>AU</td>\n",
       "      <td>77.23</td>\n",
       "    </tr>\n",
       "    <tr>\n",
       "      <th>3</th>\n",
       "      <td>2017-10-21 20:59:27</td>\n",
       "      <td>0</td>\n",
       "      <td>59.167.79.119</td>\n",
       "      <td>Bonaire Flared Sleeve Tunic</td>\n",
       "      <td>SH045AA22AGR</td>\n",
       "      <td>0</td>\n",
       "      <td>female</td>\n",
       "      <td>pbi@afterpay</td>\n",
       "      <td>1</td>\n",
       "      <td>NaN</td>\n",
       "      <td>Karabar</td>\n",
       "      <td>NSW</td>\n",
       "      <td>NaN</td>\n",
       "      <td>AU</td>\n",
       "      <td>190.91</td>\n",
       "    </tr>\n",
       "    <tr>\n",
       "      <th>4</th>\n",
       "      <td>2017-10-21 21:00:56</td>\n",
       "      <td>0</td>\n",
       "      <td>1.129.107.188</td>\n",
       "      <td>Tall Tales Man Style Pants</td>\n",
       "      <td>MA146AA45RAK</td>\n",
       "      <td>0</td>\n",
       "      <td>female</td>\n",
       "      <td>cc@braintree</td>\n",
       "      <td>1</td>\n",
       "      <td>NaN</td>\n",
       "      <td>Mosman</td>\n",
       "      <td>NSW</td>\n",
       "      <td>NaN</td>\n",
       "      <td>AU</td>\n",
       "      <td>204.09</td>\n",
       "    </tr>\n",
       "  </tbody>\n",
       "</table>\n",
       "</div>"
      ],
      "text/plain": [
       "            timestamp  user ID       ip_address                 Product_Name  \\\n",
       "0 2017-10-21 20:52:31        0    49.227.243.31                     Kendrick   \n",
       "1 2017-10-21 20:55:12        0  111.220.172.119     Smartwatch Bradshaw Gold   \n",
       "2 2017-10-21 20:56:41        0    210.84.59.179               Classic Slides   \n",
       "3 2017-10-21 20:59:27        0    59.167.79.119  Bonaire Flared Sleeve Tunic   \n",
       "4 2017-10-21 21:00:56        0    1.129.107.188   Tall Tales Man Style Pants   \n",
       "\n",
       "     Product_ID Is_First_Order User_Gender  Payment_Type Number_of_Products  \\\n",
       "0  SE043SH31VBS              0      female  cc@braintree                  1   \n",
       "1  MI329AC90OUB              1        male  pbi@afterpay                  1   \n",
       "2  SA849SH69SAK              1      female  cc@braintree                  1   \n",
       "3  SH045AA22AGR              0      female  pbi@afterpay                  1   \n",
       "4  MA146AA45RAK              0      female  cc@braintree                  1   \n",
       "\n",
       "  Order_Coupon_Code        City Country_Province        User_Birthday Country  \\\n",
       "0             YAY15     Kaitaia              NaN  1993-10-05 00:00:00      NZ   \n",
       "1               NaN  Shepparton              VIC                  NaN      AU   \n",
       "2               NaN    Essendon              VIC                  NaN      AU   \n",
       "3               NaN     Karabar              NSW                  NaN      AU   \n",
       "4               NaN      Mosman              NSW                  NaN      AU   \n",
       "\n",
       "   Revenue  \n",
       "0   212.50  \n",
       "1   526.36  \n",
       "2    77.23  \n",
       "3   190.91  \n",
       "4   204.09  "
      ]
     },
     "execution_count": 38,
     "metadata": {},
     "output_type": "execute_result"
    }
   ],
   "source": [
    "df.head()"
   ]
  },
  {
   "cell_type": "code",
   "execution_count": 39,
   "metadata": {},
   "outputs": [
    {
     "data": {
      "text/plain": [
       "(33435, 36018)"
      ]
     },
     "execution_count": 39,
     "metadata": {},
     "output_type": "execute_result"
    }
   ],
   "source": [
    "df['Product_Name'].nunique(), df.Product_ID.nunique()"
   ]
  },
  {
   "cell_type": "markdown",
   "metadata": {},
   "source": [
    "**• Attributes - Time of Day, Day of Week, Geography, Payment Type**"
   ]
  },
  {
   "cell_type": "code",
   "execution_count": 19,
   "metadata": {},
   "outputs": [],
   "source": [
    "df['timestamp'] = pd.to_datetime(df['timestamp'])"
   ]
  },
  {
   "cell_type": "code",
   "execution_count": 20,
   "metadata": {},
   "outputs": [],
   "source": [
    "# Time of Day\n",
    "df['Time_of_Day'] = df['timestamp'].dt.time\n",
    "df['Day_of_week'] = df['timestamp'].dt.dayofweek\n"
   ]
  },
  {
   "cell_type": "code",
   "execution_count": 21,
   "metadata": {},
   "outputs": [],
   "source": [
    "df['Week_Day_Name'] = df['timestamp'].dt.day_name()"
   ]
  },
  {
   "cell_type": "code",
   "execution_count": 22,
   "metadata": {},
   "outputs": [
    {
     "data": {
      "text/html": [
       "<div>\n",
       "<style scoped>\n",
       "    .dataframe tbody tr th:only-of-type {\n",
       "        vertical-align: middle;\n",
       "    }\n",
       "\n",
       "    .dataframe tbody tr th {\n",
       "        vertical-align: top;\n",
       "    }\n",
       "\n",
       "    .dataframe thead th {\n",
       "        text-align: right;\n",
       "    }\n",
       "</style>\n",
       "<table border=\"1\" class=\"dataframe\">\n",
       "  <thead>\n",
       "    <tr style=\"text-align: right;\">\n",
       "      <th></th>\n",
       "      <th>Time_of_Day</th>\n",
       "      <th>Day_of_week</th>\n",
       "      <th>Week_Day_Name</th>\n",
       "    </tr>\n",
       "  </thead>\n",
       "  <tbody>\n",
       "    <tr>\n",
       "      <th>0</th>\n",
       "      <td>20:52:31</td>\n",
       "      <td>5</td>\n",
       "      <td>Saturday</td>\n",
       "    </tr>\n",
       "    <tr>\n",
       "      <th>1</th>\n",
       "      <td>20:55:12</td>\n",
       "      <td>5</td>\n",
       "      <td>Saturday</td>\n",
       "    </tr>\n",
       "    <tr>\n",
       "      <th>2</th>\n",
       "      <td>20:56:41</td>\n",
       "      <td>5</td>\n",
       "      <td>Saturday</td>\n",
       "    </tr>\n",
       "    <tr>\n",
       "      <th>3</th>\n",
       "      <td>20:59:27</td>\n",
       "      <td>5</td>\n",
       "      <td>Saturday</td>\n",
       "    </tr>\n",
       "    <tr>\n",
       "      <th>4</th>\n",
       "      <td>21:00:56</td>\n",
       "      <td>5</td>\n",
       "      <td>Saturday</td>\n",
       "    </tr>\n",
       "  </tbody>\n",
       "</table>\n",
       "</div>"
      ],
      "text/plain": [
       "  Time_of_Day  Day_of_week Week_Day_Name\n",
       "0    20:52:31            5      Saturday\n",
       "1    20:55:12            5      Saturday\n",
       "2    20:56:41            5      Saturday\n",
       "3    20:59:27            5      Saturday\n",
       "4    21:00:56            5      Saturday"
      ]
     },
     "execution_count": 22,
     "metadata": {},
     "output_type": "execute_result"
    }
   ],
   "source": [
    "df[['Time_of_Day', 'Day_of_week', 'Week_Day_Name']].head()"
   ]
  },
  {
   "cell_type": "code",
   "execution_count": 23,
   "metadata": {},
   "outputs": [
    {
     "name": "stdout",
     "output_type": "stream",
     "text": [
      "The start date for the data was 2017-10-01 00:00:23 and the end date was 2017-10-21 23:59:50\n"
     ]
    }
   ],
   "source": [
    "start_date = df['timestamp'].min()\n",
    "end_date = df['timestamp'].max()\n",
    "\n",
    "print(f\"The start date for the data was {start_date} and the end date was {end_date}\")"
   ]
  },
  {
   "cell_type": "code",
   "execution_count": 24,
   "metadata": {},
   "outputs": [
    {
     "name": "stdout",
     "output_type": "stream",
     "text": [
      "First Purchase occur at exactly 2017-10-01 00:00:23\n"
     ]
    }
   ],
   "source": [
    "print('First Purchase occur at exactly', start_date)\n"
   ]
  },
  {
   "cell_type": "code",
   "execution_count": 25,
   "metadata": {},
   "outputs": [
    {
     "data": {
      "text/html": [
       "<div>\n",
       "<style scoped>\n",
       "    .dataframe tbody tr th:only-of-type {\n",
       "        vertical-align: middle;\n",
       "    }\n",
       "\n",
       "    .dataframe tbody tr th {\n",
       "        vertical-align: top;\n",
       "    }\n",
       "\n",
       "    .dataframe thead th {\n",
       "        text-align: right;\n",
       "    }\n",
       "</style>\n",
       "<table border=\"1\" class=\"dataframe\">\n",
       "  <thead>\n",
       "    <tr style=\"text-align: right;\">\n",
       "      <th></th>\n",
       "      <th>Revenue</th>\n",
       "    </tr>\n",
       "    <tr>\n",
       "      <th>Week_Day_Name</th>\n",
       "      <th></th>\n",
       "    </tr>\n",
       "  </thead>\n",
       "  <tbody>\n",
       "    <tr>\n",
       "      <th>Friday</th>\n",
       "      <td>129.418651</td>\n",
       "    </tr>\n",
       "    <tr>\n",
       "      <th>Monday</th>\n",
       "      <td>137.189925</td>\n",
       "    </tr>\n",
       "    <tr>\n",
       "      <th>Saturday</th>\n",
       "      <td>139.936707</td>\n",
       "    </tr>\n",
       "    <tr>\n",
       "      <th>Sunday</th>\n",
       "      <td>142.022981</td>\n",
       "    </tr>\n",
       "    <tr>\n",
       "      <th>Thursday</th>\n",
       "      <td>131.072122</td>\n",
       "    </tr>\n",
       "    <tr>\n",
       "      <th>Tuesday</th>\n",
       "      <td>132.736519</td>\n",
       "    </tr>\n",
       "    <tr>\n",
       "      <th>Wednesday</th>\n",
       "      <td>130.611464</td>\n",
       "    </tr>\n",
       "  </tbody>\n",
       "</table>\n",
       "</div>"
      ],
      "text/plain": [
       "                  Revenue\n",
       "Week_Day_Name            \n",
       "Friday         129.418651\n",
       "Monday         137.189925\n",
       "Saturday       139.936707\n",
       "Sunday         142.022981\n",
       "Thursday       131.072122\n",
       "Tuesday        132.736519\n",
       "Wednesday      130.611464"
      ]
     },
     "execution_count": 25,
     "metadata": {},
     "output_type": "execute_result"
    }
   ],
   "source": [
    "# On Average, which day does the brand make the highest revenue?\n",
    "\n",
    "pd.DataFrame(df.groupby('Week_Day_Name')['Revenue'].mean())"
   ]
  },
  {
   "cell_type": "code",
   "execution_count": 26,
   "metadata": {},
   "outputs": [
    {
     "data": {
      "image/png": "[encoded data removed]",
      "text/plain": [
       "<Figure size 1080x540 with 1 Axes>"
      ]
     },
     "metadata": {},
     "output_type": "display_data"
    }
   ],
   "source": [
    "df.groupby('Week_Day_Name')['Revenue'].mean().sort_values(ascending=False).plot.bar(figsize=(15, 7.5))\n",
    "plt.title('Average Revenue per Day', size=20, fontweight='bold')\n",
    "plt.xlabel('WeekDay', size=15); plt.ylabel('Revenue', size=15)\n",
    "plt.xticks(size=13, rotation=0); plt.yticks(size=13)\n",
    "plt.show()"
   ]
  },
  {
   "cell_type": "markdown",
   "metadata": {},
   "source": [
    "One Average, Highest revenue was recorded on Sunday,"
   ]
  },
  {
   "cell_type": "markdown",
   "metadata": {},
   "source": [
    "**Payment Type**"
   ]
  },
  {
   "cell_type": "code",
   "execution_count": 27,
   "metadata": {},
   "outputs": [
    {
     "name": "stdout",
     "output_type": "stream",
     "text": [
      "Customer Uses 4 Unique Payment Type\n"
     ]
    }
   ],
   "source": [
    "print(f\"Customer Uses {df['Payment_Type'].nunique()} Unique Payment Type\")"
   ]
  },
  {
   "cell_type": "code",
   "execution_count": 29,
   "metadata": {},
   "outputs": [
    {
     "data": {
      "text/plain": [
       "array(['cc@braintree', 'pbi@afterpay', 'paypal@braintree', 'NoPayment'],\n",
       "      dtype=object)"
      ]
     },
     "execution_count": 29,
     "metadata": {},
     "output_type": "execute_result"
    }
   ],
   "source": [
    "df['Payment_Type'].unique()"
   ]
  },
  {
   "cell_type": "code",
   "execution_count": 31,
   "metadata": {},
   "outputs": [
    {
     "data": {
      "image/png": "[encoded data removed]",
      "text/plain": [
       "<Figure size 1080x540 with 1 Axes>"
      ]
     },
     "metadata": {},
     "output_type": "display_data"
    }
   ],
   "source": [
    "# which payment type is the most common amongst customers?\n",
    "df['Payment_Type'].value_counts().plot.bar(figsize=(15, 7.5))\n",
    "plt.title('Distribution of Payment Type', size=20, fontweight='bold')\n",
    "plt.xlabel('Payment Type', size=15); plt.ylabel('Frequency', size=15)\n",
    "plt.xticks(size=13, rotation=0); plt.yticks(size=13)\n",
    "plt.show()"
   ]
  },
  {
   "cell_type": "code",
   "execution_count": 32,
   "metadata": {},
   "outputs": [
    {
     "data": {
      "image/png": "[encoded data removed]",
      "text/plain": [
       "<Figure size 1080x540 with 1 Axes>"
      ]
     },
     "metadata": {},
     "output_type": "display_data"
    }
   ],
   "source": [
    "# which payment method generate more revenue?\n",
    "df.groupby('Payment_Type')['Revenue'].mean().sort_values(ascending=False).plot.bar(figsize=(15, 7.5))\n",
    "plt.title('Average Revenue per Payment Type', size=20, fontweight='bold')\n",
    "plt.xlabel('Payment Type', size=15); plt.ylabel('Revenue', size=15)\n",
    "plt.xticks(size=13, rotation=0); plt.yticks(size=13)\n",
    "plt.show()"
   ]
  },
  {
   "cell_type": "code",
   "execution_count": 33,
   "metadata": {},
   "outputs": [
    {
     "data": {
      "text/plain": [
       "cc@braintree        47.541213\n",
       "pbi@afterpay        26.364437\n",
       "paypal@braintree    24.125720\n",
       "NoPayment            1.968630\n",
       "Name: Payment_Type, dtype: float64"
      ]
     },
     "execution_count": 33,
     "metadata": {},
     "output_type": "execute_result"
    }
   ],
   "source": [
    "df['Payment_Type'].value_counts(normalize=True)*100"
   ]
  },
  {
   "cell_type": "markdown",
   "metadata": {},
   "source": [
    "Despite Many Users 47.54% using the `cc@braintree` method of payment, the average revenue on each payment type is almost similar with exception of NoPayment method. This tells us that "
   ]
  },
  {
   "cell_type": "code",
   "execution_count": 47,
   "metadata": {},
   "outputs": [
    {
     "data": {
      "text/html": [
       "<div>\n",
       "<style scoped>\n",
       "    .dataframe tbody tr th:only-of-type {\n",
       "        vertical-align: middle;\n",
       "    }\n",
       "\n",
       "    .dataframe tbody tr th {\n",
       "        vertical-align: top;\n",
       "    }\n",
       "\n",
       "    .dataframe thead th {\n",
       "        text-align: right;\n",
       "    }\n",
       "</style>\n",
       "<table border=\"1\" class=\"dataframe\">\n",
       "  <thead>\n",
       "    <tr style=\"text-align: right;\">\n",
       "      <th></th>\n",
       "      <th></th>\n",
       "      <th>Week_Day_Name</th>\n",
       "    </tr>\n",
       "    <tr>\n",
       "      <th>Week_Day_Name</th>\n",
       "      <th>Payment_Type</th>\n",
       "      <th></th>\n",
       "    </tr>\n",
       "  </thead>\n",
       "  <tbody>\n",
       "    <tr>\n",
       "      <th rowspan=\"4\" valign=\"top\">Friday</th>\n",
       "      <th>NoPayment</th>\n",
       "      <td>123</td>\n",
       "    </tr>\n",
       "    <tr>\n",
       "      <th>cc@braintree</th>\n",
       "      <td>2564</td>\n",
       "    </tr>\n",
       "    <tr>\n",
       "      <th>paypal@braintree</th>\n",
       "      <td>1344</td>\n",
       "    </tr>\n",
       "    <tr>\n",
       "      <th>pbi@afterpay</th>\n",
       "      <td>1426</td>\n",
       "    </tr>\n",
       "    <tr>\n",
       "      <th rowspan=\"4\" valign=\"top\">Monday</th>\n",
       "      <th>NoPayment</th>\n",
       "      <td>162</td>\n",
       "    </tr>\n",
       "    <tr>\n",
       "      <th>cc@braintree</th>\n",
       "      <td>3726</td>\n",
       "    </tr>\n",
       "    <tr>\n",
       "      <th>paypal@braintree</th>\n",
       "      <td>1718</td>\n",
       "    </tr>\n",
       "    <tr>\n",
       "      <th>pbi@afterpay</th>\n",
       "      <td>1909</td>\n",
       "    </tr>\n",
       "    <tr>\n",
       "      <th rowspan=\"4\" valign=\"top\">Saturday</th>\n",
       "      <th>NoPayment</th>\n",
       "      <td>60</td>\n",
       "    </tr>\n",
       "    <tr>\n",
       "      <th>cc@braintree</th>\n",
       "      <td>2111</td>\n",
       "    </tr>\n",
       "    <tr>\n",
       "      <th>paypal@braintree</th>\n",
       "      <td>1112</td>\n",
       "    </tr>\n",
       "    <tr>\n",
       "      <th>pbi@afterpay</th>\n",
       "      <td>1029</td>\n",
       "    </tr>\n",
       "    <tr>\n",
       "      <th rowspan=\"4\" valign=\"top\">Sunday</th>\n",
       "      <th>NoPayment</th>\n",
       "      <td>83</td>\n",
       "    </tr>\n",
       "    <tr>\n",
       "      <th>cc@braintree</th>\n",
       "      <td>2884</td>\n",
       "    </tr>\n",
       "    <tr>\n",
       "      <th>paypal@braintree</th>\n",
       "      <td>1398</td>\n",
       "    </tr>\n",
       "    <tr>\n",
       "      <th>pbi@afterpay</th>\n",
       "      <td>1358</td>\n",
       "    </tr>\n",
       "    <tr>\n",
       "      <th rowspan=\"4\" valign=\"top\">Thursday</th>\n",
       "      <th>NoPayment</th>\n",
       "      <td>162</td>\n",
       "    </tr>\n",
       "    <tr>\n",
       "      <th>cc@braintree</th>\n",
       "      <td>3772</td>\n",
       "    </tr>\n",
       "    <tr>\n",
       "      <th>paypal@braintree</th>\n",
       "      <td>1984</td>\n",
       "    </tr>\n",
       "    <tr>\n",
       "      <th>pbi@afterpay</th>\n",
       "      <td>2361</td>\n",
       "    </tr>\n",
       "    <tr>\n",
       "      <th rowspan=\"4\" valign=\"top\">Tuesday</th>\n",
       "      <th>NoPayment</th>\n",
       "      <td>195</td>\n",
       "    </tr>\n",
       "    <tr>\n",
       "      <th>cc@braintree</th>\n",
       "      <td>4208</td>\n",
       "    </tr>\n",
       "    <tr>\n",
       "      <th>paypal@braintree</th>\n",
       "      <td>2138</td>\n",
       "    </tr>\n",
       "    <tr>\n",
       "      <th>pbi@afterpay</th>\n",
       "      <td>2447</td>\n",
       "    </tr>\n",
       "    <tr>\n",
       "      <th rowspan=\"4\" valign=\"top\">Wednesday</th>\n",
       "      <th>NoPayment</th>\n",
       "      <td>199</td>\n",
       "    </tr>\n",
       "    <tr>\n",
       "      <th>cc@braintree</th>\n",
       "      <td>4498</td>\n",
       "    </tr>\n",
       "    <tr>\n",
       "      <th>paypal@braintree</th>\n",
       "      <td>2365</td>\n",
       "    </tr>\n",
       "    <tr>\n",
       "      <th>pbi@afterpay</th>\n",
       "      <td>2648</td>\n",
       "    </tr>\n",
       "  </tbody>\n",
       "</table>\n",
       "</div>"
      ],
      "text/plain": [
       "                                Week_Day_Name\n",
       "Week_Day_Name Payment_Type                   \n",
       "Friday        NoPayment                   123\n",
       "              cc@braintree               2564\n",
       "              paypal@braintree           1344\n",
       "              pbi@afterpay               1426\n",
       "Monday        NoPayment                   162\n",
       "              cc@braintree               3726\n",
       "              paypal@braintree           1718\n",
       "              pbi@afterpay               1909\n",
       "Saturday      NoPayment                    60\n",
       "              cc@braintree               2111\n",
       "              paypal@braintree           1112\n",
       "              pbi@afterpay               1029\n",
       "Sunday        NoPayment                    83\n",
       "              cc@braintree               2884\n",
       "              paypal@braintree           1398\n",
       "              pbi@afterpay               1358\n",
       "Thursday      NoPayment                   162\n",
       "              cc@braintree               3772\n",
       "              paypal@braintree           1984\n",
       "              pbi@afterpay               2361\n",
       "Tuesday       NoPayment                   195\n",
       "              cc@braintree               4208\n",
       "              paypal@braintree           2138\n",
       "              pbi@afterpay               2447\n",
       "Wednesday     NoPayment                   199\n",
       "              cc@braintree               4498\n",
       "              paypal@braintree           2365\n",
       "              pbi@afterpay               2648"
      ]
     },
     "execution_count": 47,
     "metadata": {},
     "output_type": "execute_result"
    }
   ],
   "source": [
    "# which payment type is most common on a daily basis?\n",
    "pd.DataFrame(df.groupby(['Week_Day_Name','Payment_Type'])['Week_Day_Name'].count())"
   ]
  },
  {
   "cell_type": "markdown",
   "metadata": {},
   "source": [
    "Some Customer uses noPayment method. Most likely they did not pay\n",
    "\n",
    "Why?"
   ]
  },
  {
   "cell_type": "code",
   "execution_count": 48,
   "metadata": {},
   "outputs": [
    {
     "data": {
      "text/plain": [
       "0.0"
      ]
     },
     "execution_count": 48,
     "metadata": {},
     "output_type": "execute_result"
    }
   ],
   "source": [
    "df[df['Revenue'] == 'NoPayment']['Revenue'].sum()"
   ]
  },
  {
   "cell_type": "markdown",
   "metadata": {},
   "source": [
    "They did not generate any revenue"
   ]
  },
  {
   "cell_type": "markdown",
   "metadata": {},
   "source": [
    "**• Frequency - How many are single/multiple purchasers? What is the frequency of multi-purchase? Any typical attributes?**\n",
    "\n",
    "By my Understanding, Single purchasers are those customers that transact only once within the dataset while multiple purchasers are the inverse"
   ]
  },
  {
   "cell_type": "code",
   "execution_count": 50,
   "metadata": {},
   "outputs": [
    {
     "data": {
      "text/plain": [
       "44089"
      ]
     },
     "execution_count": 50,
     "metadata": {},
     "output_type": "execute_result"
    }
   ],
   "source": [
    "# finding userid with a one time occurenced\n",
    "df['user ID'].nunique()"
   ]
  },
  {
   "cell_type": "code",
   "execution_count": 85,
   "metadata": {},
   "outputs": [
    {
     "data": {
      "text/plain": [
       "44089"
      ]
     },
     "execution_count": 85,
     "metadata": {},
     "output_type": "execute_result"
    }
   ],
   "source": [
    "a = dict(df['user ID'].value_counts())\n",
    "len(a)"
   ]
  },
  {
   "cell_type": "code",
   "execution_count": null,
   "metadata": {},
   "outputs": [],
   "source": []
  },
  {
   "cell_type": "code",
   "execution_count": 93,
   "metadata": {},
   "outputs": [
    {
     "data": {
      "text/html": [
       "<div>\n",
       "<style scoped>\n",
       "    .dataframe tbody tr th:only-of-type {\n",
       "        vertical-align: middle;\n",
       "    }\n",
       "\n",
       "    .dataframe tbody tr th {\n",
       "        vertical-align: top;\n",
       "    }\n",
       "\n",
       "    .dataframe thead th {\n",
       "        text-align: right;\n",
       "    }\n",
       "</style>\n",
       "<table border=\"1\" class=\"dataframe\">\n",
       "  <thead>\n",
       "    <tr style=\"text-align: right;\">\n",
       "      <th></th>\n",
       "      <th>user ID</th>\n",
       "      <th>Count</th>\n",
       "    </tr>\n",
       "  </thead>\n",
       "  <tbody>\n",
       "    <tr>\n",
       "      <th>0</th>\n",
       "      <td>0</td>\n",
       "      <td>121</td>\n",
       "    </tr>\n",
       "    <tr>\n",
       "      <th>42174</th>\n",
       "      <td>42189</td>\n",
       "      <td>96</td>\n",
       "    </tr>\n",
       "    <tr>\n",
       "      <th>6036</th>\n",
       "      <td>6037</td>\n",
       "      <td>70</td>\n",
       "    </tr>\n",
       "    <tr>\n",
       "      <th>34678</th>\n",
       "      <td>34691</td>\n",
       "      <td>58</td>\n",
       "    </tr>\n",
       "    <tr>\n",
       "      <th>32445</th>\n",
       "      <td>32457</td>\n",
       "      <td>14</td>\n",
       "    </tr>\n",
       "  </tbody>\n",
       "</table>\n",
       "</div>"
      ],
      "text/plain": [
       "       user ID  Count\n",
       "0            0    121\n",
       "42174    42189     96\n",
       "6036      6037     70\n",
       "34678    34691     58\n",
       "32445    32457     14"
      ]
     },
     "execution_count": 93,
     "metadata": {},
     "output_type": "execute_result"
    }
   ],
   "source": [
    "from collections import Counter\n",
    "user_id = Counter(df['user ID'])\n",
    "\n",
    "users = pd.DataFrame(data=zip(user_id.keys(), user_id.values()), columns=['user ID', 'Count']).sort_values(by='Count', ascending=False)\n",
    "\n",
    "users.head()"
   ]
  },
  {
   "cell_type": "code",
   "execution_count": 94,
   "metadata": {},
   "outputs": [
    {
     "data": {
      "text/plain": [
       "79556"
      ]
     },
     "execution_count": 94,
     "metadata": {},
     "output_type": "execute_result"
    }
   ],
   "source": [
    "# how many single users?\n",
    "users[users['Count'] == 1].size"
   ]
  },
  {
   "cell_type": "code",
   "execution_count": 97,
   "metadata": {},
   "outputs": [
    {
     "data": {
      "text/plain": [
       "8622"
      ]
     },
     "execution_count": 97,
     "metadata": {},
     "output_type": "execute_result"
    }
   ],
   "source": [
    "# how many multiple purchasers?\n",
    "users[users['Count'] > 1].size"
   ]
  },
  {
   "cell_type": "markdown",
   "metadata": {},
   "source": [
    "### 2. Product Affinity \n",
    "Which products are more likely to sell together?"
   ]
  },
  {
   "cell_type": "markdown",
   "metadata": {},
   "source": [
    "I Used an Association Rule based on Country Province"
   ]
  },
  {
   "cell_type": "code",
   "execution_count": 136,
   "metadata": {},
   "outputs": [
    {
     "data": {
      "text/plain": [
       "NSW    21742\n",
       "VIC    11233\n",
       "QLD     5246\n",
       "WA      2959\n",
       "SA      2808\n",
       "ACT      867\n",
       "TAS      766\n",
       "NT       183\n",
       "Name: Country_Province, dtype: int64"
      ]
     },
     "execution_count": 136,
     "metadata": {},
     "output_type": "execute_result"
    }
   ],
   "source": [
    "df['Country_Province'].value_counts()"
   ]
  },
  {
   "cell_type": "code",
   "execution_count": 5,
   "metadata": {},
   "outputs": [],
   "source": [
    "df1 = df[df['Country_Province'] == 'SA']"
   ]
  },
  {
   "cell_type": "code",
   "execution_count": 10,
   "metadata": {},
   "outputs": [
    {
     "data": {
      "text/html": [
       "<div>\n",
       "<style scoped>\n",
       "    .dataframe tbody tr th:only-of-type {\n",
       "        vertical-align: middle;\n",
       "    }\n",
       "\n",
       "    .dataframe tbody tr th {\n",
       "        vertical-align: top;\n",
       "    }\n",
       "\n",
       "    .dataframe thead th {\n",
       "        text-align: right;\n",
       "    }\n",
       "</style>\n",
       "<table border=\"1\" class=\"dataframe\">\n",
       "  <thead>\n",
       "    <tr style=\"text-align: right;\">\n",
       "      <th></th>\n",
       "      <th>Bodhi Top</th>\n",
       "      <th>Holly Bottoms</th>\n",
       "      <th>John Dress</th>\n",
       "      <th>\"Danny\" ChattyFeet Novelty Socks</th>\n",
       "      <th>\"Petite\" Tatum Diamante Strappy Heel Sandals</th>\n",
       "      <th>003 Jeans</th>\n",
       "      <th>1 5/8\" Polo Player Plaque Belt</th>\n",
       "      <th>134/S</th>\n",
       "      <th>1460 8 Eye Boots Smooth</th>\n",
       "      <th>2 Pack 3/4 Leggings</th>\n",
       "      <th>...</th>\n",
       "      <th>Zip Through Dress</th>\n",
       "      <th>Zoe Dress</th>\n",
       "      <th>Zoe Loafers</th>\n",
       "      <th>Zoe Tights</th>\n",
       "      <th>Zoe V-Back Tee</th>\n",
       "      <th>Zoey Off-Shoulder Top</th>\n",
       "      <th>Zoey Silky Cami</th>\n",
       "      <th>Zonal Cooling Relay Tank</th>\n",
       "      <th>Zoom All Out Low - Men's</th>\n",
       "      <th>Zsa Zsa 3/4</th>\n",
       "    </tr>\n",
       "  </thead>\n",
       "  <tbody>\n",
       "    <tr>\n",
       "      <th>0</th>\n",
       "      <td>False</td>\n",
       "      <td>False</td>\n",
       "      <td>False</td>\n",
       "      <td>False</td>\n",
       "      <td>False</td>\n",
       "      <td>False</td>\n",
       "      <td>False</td>\n",
       "      <td>False</td>\n",
       "      <td>False</td>\n",
       "      <td>False</td>\n",
       "      <td>...</td>\n",
       "      <td>False</td>\n",
       "      <td>False</td>\n",
       "      <td>False</td>\n",
       "      <td>False</td>\n",
       "      <td>False</td>\n",
       "      <td>False</td>\n",
       "      <td>False</td>\n",
       "      <td>False</td>\n",
       "      <td>False</td>\n",
       "      <td>False</td>\n",
       "    </tr>\n",
       "    <tr>\n",
       "      <th>1</th>\n",
       "      <td>False</td>\n",
       "      <td>False</td>\n",
       "      <td>False</td>\n",
       "      <td>False</td>\n",
       "      <td>False</td>\n",
       "      <td>False</td>\n",
       "      <td>False</td>\n",
       "      <td>False</td>\n",
       "      <td>False</td>\n",
       "      <td>False</td>\n",
       "      <td>...</td>\n",
       "      <td>False</td>\n",
       "      <td>False</td>\n",
       "      <td>False</td>\n",
       "      <td>False</td>\n",
       "      <td>False</td>\n",
       "      <td>False</td>\n",
       "      <td>False</td>\n",
       "      <td>False</td>\n",
       "      <td>False</td>\n",
       "      <td>False</td>\n",
       "    </tr>\n",
       "    <tr>\n",
       "      <th>2</th>\n",
       "      <td>False</td>\n",
       "      <td>False</td>\n",
       "      <td>False</td>\n",
       "      <td>False</td>\n",
       "      <td>False</td>\n",
       "      <td>False</td>\n",
       "      <td>False</td>\n",
       "      <td>False</td>\n",
       "      <td>False</td>\n",
       "      <td>False</td>\n",
       "      <td>...</td>\n",
       "      <td>False</td>\n",
       "      <td>False</td>\n",
       "      <td>False</td>\n",
       "      <td>False</td>\n",
       "      <td>False</td>\n",
       "      <td>False</td>\n",
       "      <td>False</td>\n",
       "      <td>False</td>\n",
       "      <td>False</td>\n",
       "      <td>False</td>\n",
       "    </tr>\n",
       "    <tr>\n",
       "      <th>3</th>\n",
       "      <td>False</td>\n",
       "      <td>False</td>\n",
       "      <td>False</td>\n",
       "      <td>False</td>\n",
       "      <td>False</td>\n",
       "      <td>False</td>\n",
       "      <td>False</td>\n",
       "      <td>False</td>\n",
       "      <td>False</td>\n",
       "      <td>False</td>\n",
       "      <td>...</td>\n",
       "      <td>False</td>\n",
       "      <td>False</td>\n",
       "      <td>False</td>\n",
       "      <td>False</td>\n",
       "      <td>False</td>\n",
       "      <td>False</td>\n",
       "      <td>False</td>\n",
       "      <td>False</td>\n",
       "      <td>False</td>\n",
       "      <td>False</td>\n",
       "    </tr>\n",
       "    <tr>\n",
       "      <th>4</th>\n",
       "      <td>False</td>\n",
       "      <td>False</td>\n",
       "      <td>False</td>\n",
       "      <td>False</td>\n",
       "      <td>False</td>\n",
       "      <td>False</td>\n",
       "      <td>False</td>\n",
       "      <td>False</td>\n",
       "      <td>False</td>\n",
       "      <td>False</td>\n",
       "      <td>...</td>\n",
       "      <td>False</td>\n",
       "      <td>False</td>\n",
       "      <td>False</td>\n",
       "      <td>False</td>\n",
       "      <td>False</td>\n",
       "      <td>False</td>\n",
       "      <td>False</td>\n",
       "      <td>False</td>\n",
       "      <td>False</td>\n",
       "      <td>False</td>\n",
       "    </tr>\n",
       "    <tr>\n",
       "      <th>5</th>\n",
       "      <td>False</td>\n",
       "      <td>False</td>\n",
       "      <td>False</td>\n",
       "      <td>False</td>\n",
       "      <td>False</td>\n",
       "      <td>False</td>\n",
       "      <td>False</td>\n",
       "      <td>False</td>\n",
       "      <td>False</td>\n",
       "      <td>False</td>\n",
       "      <td>...</td>\n",
       "      <td>False</td>\n",
       "      <td>False</td>\n",
       "      <td>False</td>\n",
       "      <td>False</td>\n",
       "      <td>False</td>\n",
       "      <td>False</td>\n",
       "      <td>False</td>\n",
       "      <td>False</td>\n",
       "      <td>False</td>\n",
       "      <td>False</td>\n",
       "    </tr>\n",
       "    <tr>\n",
       "      <th>6</th>\n",
       "      <td>False</td>\n",
       "      <td>False</td>\n",
       "      <td>False</td>\n",
       "      <td>False</td>\n",
       "      <td>False</td>\n",
       "      <td>False</td>\n",
       "      <td>False</td>\n",
       "      <td>False</td>\n",
       "      <td>False</td>\n",
       "      <td>False</td>\n",
       "      <td>...</td>\n",
       "      <td>False</td>\n",
       "      <td>False</td>\n",
       "      <td>False</td>\n",
       "      <td>False</td>\n",
       "      <td>False</td>\n",
       "      <td>False</td>\n",
       "      <td>False</td>\n",
       "      <td>False</td>\n",
       "      <td>False</td>\n",
       "      <td>False</td>\n",
       "    </tr>\n",
       "    <tr>\n",
       "      <th>7</th>\n",
       "      <td>False</td>\n",
       "      <td>False</td>\n",
       "      <td>False</td>\n",
       "      <td>False</td>\n",
       "      <td>False</td>\n",
       "      <td>False</td>\n",
       "      <td>False</td>\n",
       "      <td>False</td>\n",
       "      <td>False</td>\n",
       "      <td>False</td>\n",
       "      <td>...</td>\n",
       "      <td>False</td>\n",
       "      <td>False</td>\n",
       "      <td>False</td>\n",
       "      <td>False</td>\n",
       "      <td>False</td>\n",
       "      <td>False</td>\n",
       "      <td>False</td>\n",
       "      <td>True</td>\n",
       "      <td>False</td>\n",
       "      <td>False</td>\n",
       "    </tr>\n",
       "    <tr>\n",
       "      <th>8</th>\n",
       "      <td>False</td>\n",
       "      <td>False</td>\n",
       "      <td>False</td>\n",
       "      <td>False</td>\n",
       "      <td>False</td>\n",
       "      <td>False</td>\n",
       "      <td>False</td>\n",
       "      <td>False</td>\n",
       "      <td>False</td>\n",
       "      <td>False</td>\n",
       "      <td>...</td>\n",
       "      <td>False</td>\n",
       "      <td>False</td>\n",
       "      <td>False</td>\n",
       "      <td>False</td>\n",
       "      <td>False</td>\n",
       "      <td>False</td>\n",
       "      <td>False</td>\n",
       "      <td>False</td>\n",
       "      <td>False</td>\n",
       "      <td>False</td>\n",
       "    </tr>\n",
       "    <tr>\n",
       "      <th>9</th>\n",
       "      <td>False</td>\n",
       "      <td>False</td>\n",
       "      <td>False</td>\n",
       "      <td>False</td>\n",
       "      <td>False</td>\n",
       "      <td>False</td>\n",
       "      <td>False</td>\n",
       "      <td>False</td>\n",
       "      <td>False</td>\n",
       "      <td>False</td>\n",
       "      <td>...</td>\n",
       "      <td>False</td>\n",
       "      <td>False</td>\n",
       "      <td>False</td>\n",
       "      <td>False</td>\n",
       "      <td>False</td>\n",
       "      <td>False</td>\n",
       "      <td>False</td>\n",
       "      <td>False</td>\n",
       "      <td>False</td>\n",
       "      <td>False</td>\n",
       "    </tr>\n",
       "  </tbody>\n",
       "</table>\n",
       "<p>10 rows × 3583 columns</p>\n",
       "</div>"
      ],
      "text/plain": [
       "    Bodhi Top   Holly Bottoms   John Dress  \"Danny\" ChattyFeet Novelty Socks  \\\n",
       "0       False           False        False                             False   \n",
       "1       False           False        False                             False   \n",
       "2       False           False        False                             False   \n",
       "3       False           False        False                             False   \n",
       "4       False           False        False                             False   \n",
       "5       False           False        False                             False   \n",
       "6       False           False        False                             False   \n",
       "7       False           False        False                             False   \n",
       "8       False           False        False                             False   \n",
       "9       False           False        False                             False   \n",
       "\n",
       "   \"Petite\" Tatum Diamante Strappy Heel Sandals  003 Jeans  \\\n",
       "0                                         False      False   \n",
       "1                                         False      False   \n",
       "2                                         False      False   \n",
       "3                                         False      False   \n",
       "4                                         False      False   \n",
       "5                                         False      False   \n",
       "6                                         False      False   \n",
       "7                                         False      False   \n",
       "8                                         False      False   \n",
       "9                                         False      False   \n",
       "\n",
       "   1 5/8\" Polo Player Plaque Belt  134/S  1460 8 Eye Boots Smooth  \\\n",
       "0                           False  False                    False   \n",
       "1                           False  False                    False   \n",
       "2                           False  False                    False   \n",
       "3                           False  False                    False   \n",
       "4                           False  False                    False   \n",
       "5                           False  False                    False   \n",
       "6                           False  False                    False   \n",
       "7                           False  False                    False   \n",
       "8                           False  False                    False   \n",
       "9                           False  False                    False   \n",
       "\n",
       "   2 Pack 3/4 Leggings  ...  Zip Through Dress  Zoe Dress  Zoe Loafers  \\\n",
       "0                False  ...              False      False        False   \n",
       "1                False  ...              False      False        False   \n",
       "2                False  ...              False      False        False   \n",
       "3                False  ...              False      False        False   \n",
       "4                False  ...              False      False        False   \n",
       "5                False  ...              False      False        False   \n",
       "6                False  ...              False      False        False   \n",
       "7                False  ...              False      False        False   \n",
       "8                False  ...              False      False        False   \n",
       "9                False  ...              False      False        False   \n",
       "\n",
       "   Zoe Tights  Zoe V-Back Tee  Zoey Off-Shoulder Top  Zoey Silky Cami  \\\n",
       "0       False           False                  False            False   \n",
       "1       False           False                  False            False   \n",
       "2       False           False                  False            False   \n",
       "3       False           False                  False            False   \n",
       "4       False           False                  False            False   \n",
       "5       False           False                  False            False   \n",
       "6       False           False                  False            False   \n",
       "7       False           False                  False            False   \n",
       "8       False           False                  False            False   \n",
       "9       False           False                  False            False   \n",
       "\n",
       "   Zonal Cooling Relay Tank  Zoom All Out Low - Men's  Zsa Zsa 3/4  \n",
       "0                     False                     False        False  \n",
       "1                     False                     False        False  \n",
       "2                     False                     False        False  \n",
       "3                     False                     False        False  \n",
       "4                     False                     False        False  \n",
       "5                     False                     False        False  \n",
       "6                     False                     False        False  \n",
       "7                      True                     False        False  \n",
       "8                     False                     False        False  \n",
       "9                     False                     False        False  \n",
       "\n",
       "[10 rows x 3583 columns]"
      ]
     },
     "execution_count": 10,
     "metadata": {},
     "output_type": "execute_result"
    }
   ],
   "source": [
    "from mlxtend.frequent_patterns import association_rules, apriori\n",
    "from mlxtend.preprocessing import TransactionEncoder\n",
    "\n",
    "# get all the transactions as alist\n",
    "transactions = list(df1['Product_Name'].apply(lambda x: sorted(x.split(','))))\n",
    "\n",
    "# instantiate transaction encoder\n",
    "encoder = TransactionEncoder().fit(transactions)\n",
    "\n",
    "onehot = encoder.transform(transactions)\n",
    "\n",
    "# convert onehot encode data to DataFrame\n",
    "onehot_df = pd.DataFrame(onehot, columns=encoder.columns_)\n",
    "\n",
    "onehot_df.head(10)"
   ]
  },
  {
   "cell_type": "code",
   "execution_count": 13,
   "metadata": {},
   "outputs": [
    {
     "data": {
      "text/plain": [
       "(2808, 10)"
      ]
     },
     "execution_count": 13,
     "metadata": {},
     "output_type": "execute_result"
    }
   ],
   "source": [
    "test_df = onehot_df.iloc[:, :10]\n",
    "test_df.shape"
   ]
  },
  {
   "cell_type": "code",
   "execution_count": 14,
   "metadata": {},
   "outputs": [
    {
     "data": {
      "text/html": [
       "<div>\n",
       "<style scoped>\n",
       "    .dataframe tbody tr th:only-of-type {\n",
       "        vertical-align: middle;\n",
       "    }\n",
       "\n",
       "    .dataframe tbody tr th {\n",
       "        vertical-align: top;\n",
       "    }\n",
       "\n",
       "    .dataframe thead th {\n",
       "        text-align: right;\n",
       "    }\n",
       "</style>\n",
       "<table border=\"1\" class=\"dataframe\">\n",
       "  <thead>\n",
       "    <tr style=\"text-align: right;\">\n",
       "      <th></th>\n",
       "      <th>support</th>\n",
       "      <th>itemsets</th>\n",
       "    </tr>\n",
       "  </thead>\n",
       "  <tbody>\n",
       "  </tbody>\n",
       "</table>\n",
       "</div>"
      ],
      "text/plain": [
       "Empty DataFrame\n",
       "Columns: [support, itemsets]\n",
       "Index: []"
      ]
     },
     "execution_count": 14,
     "metadata": {},
     "output_type": "execute_result"
    }
   ],
   "source": [
    "# compute frequent items using Apriori algorithm - At least 3 items\n",
    "frequent_itemsets = apriori(test_df, min_support=0.03, max_len=3, use_colnames=True)\n",
    "\n",
    "frequent_itemsets"
   ]
  },
  {
   "cell_type": "code",
   "execution_count": 8,
   "metadata": {},
   "outputs": [
    {
     "data": {
      "text/html": [
       "<div>\n",
       "<style scoped>\n",
       "    .dataframe tbody tr th:only-of-type {\n",
       "        vertical-align: middle;\n",
       "    }\n",
       "\n",
       "    .dataframe tbody tr th {\n",
       "        vertical-align: top;\n",
       "    }\n",
       "\n",
       "    .dataframe thead th {\n",
       "        text-align: right;\n",
       "    }\n",
       "</style>\n",
       "<table border=\"1\" class=\"dataframe\">\n",
       "  <thead>\n",
       "    <tr style=\"text-align: right;\">\n",
       "      <th></th>\n",
       "      <th>user ID</th>\n",
       "      <th>Product_Name</th>\n",
       "    </tr>\n",
       "  </thead>\n",
       "  <tbody>\n",
       "    <tr>\n",
       "      <th>4940</th>\n",
       "      <td>4304</td>\n",
       "      <td>Hawaiian Swim Shorts,Ringer T-Shirt,The Sol Cr...</td>\n",
       "    </tr>\n",
       "    <tr>\n",
       "      <th>10818</th>\n",
       "      <td>9445</td>\n",
       "      <td>Dimension Frill Wrap Dress</td>\n",
       "    </tr>\n",
       "    <tr>\n",
       "      <th>45417</th>\n",
       "      <td>40122</td>\n",
       "      <td>Stencil Hoodie,Finns Block Stripe Tee,T-Shirt,...</td>\n",
       "    </tr>\n",
       "    <tr>\n",
       "      <th>45263</th>\n",
       "      <td>39979</td>\n",
       "      <td>Freya Lace Mini Dress</td>\n",
       "    </tr>\n",
       "    <tr>\n",
       "      <th>10764</th>\n",
       "      <td>9397</td>\n",
       "      <td>Ellen Laser Pants,Abrasion Denim Knee Shorts,B...</td>\n",
       "    </tr>\n",
       "    <tr>\n",
       "      <th>44093</th>\n",
       "      <td>38923</td>\n",
       "      <td>Tradie Lady 6pk G-String,Michelle Top,Core Tra...</td>\n",
       "    </tr>\n",
       "    <tr>\n",
       "      <th>23845</th>\n",
       "      <td>20971</td>\n",
       "      <td>Wayside Cap</td>\n",
       "    </tr>\n",
       "    <tr>\n",
       "      <th>20885</th>\n",
       "      <td>18340</td>\n",
       "      <td>Star Printed T-Shirt,Bondi Tank,Knot Crop,Isob...</td>\n",
       "    </tr>\n",
       "    <tr>\n",
       "      <th>33108</th>\n",
       "      <td>29214</td>\n",
       "      <td>Women's Elite MCS Compression Tights</td>\n",
       "    </tr>\n",
       "    <tr>\n",
       "      <th>29185</th>\n",
       "      <td>25711</td>\n",
       "      <td>Tubular Viral 2 W,Women's Tubular Shadow</td>\n",
       "    </tr>\n",
       "  </tbody>\n",
       "</table>\n",
       "</div>"
      ],
      "text/plain": [
       "       user ID                                       Product_Name\n",
       "4940      4304  Hawaiian Swim Shorts,Ringer T-Shirt,The Sol Cr...\n",
       "10818     9445                         Dimension Frill Wrap Dress\n",
       "45417    40122  Stencil Hoodie,Finns Block Stripe Tee,T-Shirt,...\n",
       "45263    39979                              Freya Lace Mini Dress\n",
       "10764     9397  Ellen Laser Pants,Abrasion Denim Knee Shorts,B...\n",
       "44093    38923  Tradie Lady 6pk G-String,Michelle Top,Core Tra...\n",
       "23845    20971                                        Wayside Cap\n",
       "20885    18340  Star Printed T-Shirt,Bondi Tank,Knot Crop,Isob...\n",
       "33108    29214               Women's Elite MCS Compression Tights\n",
       "29185    25711           Tubular Viral 2 W,Women's Tubular Shadow"
      ]
     },
     "execution_count": 8,
     "metadata": {},
     "output_type": "execute_result"
    }
   ],
   "source": [
    "products = df1[['user ID','Product_Name']]\n",
    "\n",
    "products.sample(10)"
   ]
  },
  {
   "cell_type": "code",
   "execution_count": 9,
   "metadata": {},
   "outputs": [],
   "source": [
    "products['Product_Name'] = products['Product_Name'].str.strip()"
   ]
  },
  {
   "cell_type": "code",
   "execution_count": null,
   "metadata": {},
   "outputs": [],
   "source": [
    "transactions"
   ]
  },
  {
   "cell_type": "code",
   "execution_count": null,
   "metadata": {},
   "outputs": [],
   "source": []
  },
  {
   "cell_type": "markdown",
   "metadata": {},
   "source": [
    "Using all the Products isn't feasible atleast on my machine. So i picked a threshold of 5 i.e the product has been bought 5 times or more"
   ]
  },
  {
   "cell_type": "code",
   "execution_count": 6,
   "metadata": {},
   "outputs": [],
   "source": [
    "df1['Product_Name'] = df1['Product_Name'].str.strip()\n",
    "basket = pd.pivot_table(data=df1, index='user ID', columns='Product_Name', aggfunc='sum', fill_value=0)"
   ]
  },
  {
   "cell_type": "code",
   "execution_count": 7,
   "metadata": {},
   "outputs": [
    {
     "data": {
      "text/plain": [
       "(2493, 2506)"
      ]
     },
     "execution_count": 7,
     "metadata": {},
     "output_type": "execute_result"
    }
   ],
   "source": [
    "basket.shape"
   ]
  },
  {
   "cell_type": "code",
   "execution_count": null,
   "metadata": {},
   "outputs": [],
   "source": []
  },
  {
   "cell_type": "code",
   "execution_count": 185,
   "metadata": {},
   "outputs": [
    {
     "data": {
      "text/plain": [
       "483"
      ]
     },
     "execution_count": 185,
     "metadata": {},
     "output_type": "execute_result"
    }
   ],
   "source": [
    "a = products[products.groupby('Product_Name').Product_Name.transform('count')>1]\n",
    "len(a)"
   ]
  },
  {
   "cell_type": "code",
   "execution_count": 186,
   "metadata": {},
   "outputs": [
    {
     "data": {
      "text/html": [
       "<div>\n",
       "<style scoped>\n",
       "    .dataframe tbody tr th:only-of-type {\n",
       "        vertical-align: middle;\n",
       "    }\n",
       "\n",
       "    .dataframe tbody tr th {\n",
       "        vertical-align: top;\n",
       "    }\n",
       "\n",
       "    .dataframe thead th {\n",
       "        text-align: right;\n",
       "    }\n",
       "</style>\n",
       "<table border=\"1\" class=\"dataframe\">\n",
       "  <thead>\n",
       "    <tr style=\"text-align: right;\">\n",
       "      <th></th>\n",
       "      <th>user ID</th>\n",
       "      <th>Product_Name</th>\n",
       "    </tr>\n",
       "  </thead>\n",
       "  <tbody>\n",
       "    <tr>\n",
       "      <th>217</th>\n",
       "      <td>90</td>\n",
       "      <td>Gia</td>\n",
       "    </tr>\n",
       "    <tr>\n",
       "      <th>324</th>\n",
       "      <td>180</td>\n",
       "      <td>Stacey Plunge Mini Dress</td>\n",
       "    </tr>\n",
       "    <tr>\n",
       "      <th>439</th>\n",
       "      <td>279</td>\n",
       "      <td>Small Canvas Clutch</td>\n",
       "    </tr>\n",
       "    <tr>\n",
       "      <th>559</th>\n",
       "      <td>390</td>\n",
       "      <td>Gabbi Strapless Bow Dress</td>\n",
       "    </tr>\n",
       "    <tr>\n",
       "      <th>603</th>\n",
       "      <td>433</td>\n",
       "      <td>Violetta Ruffle Dress</td>\n",
       "    </tr>\n",
       "  </tbody>\n",
       "</table>\n",
       "</div>"
      ],
      "text/plain": [
       "     user ID               Product_Name\n",
       "217       90                        Gia\n",
       "324      180   Stacey Plunge Mini Dress\n",
       "439      279        Small Canvas Clutch\n",
       "559      390  Gabbi Strapless Bow Dress\n",
       "603      433      Violetta Ruffle Dress"
      ]
     },
     "execution_count": 186,
     "metadata": {},
     "output_type": "execute_result"
    }
   ],
   "source": [
    "a.head()"
   ]
  },
  {
   "cell_type": "markdown",
   "metadata": {},
   "source": [
    "Repeating the now-infamous phrase `correlation is not causation`. The phrase means that the results from affinity analysis cannot give a cause\n",
    "\n",
    "Affinity Analysis is a type of data mining that gives similarity between samples(objects). This could be the similarity between Users, Items \n",
    "\n"
   ]
  },
  {
   "cell_type": "code",
   "execution_count": 187,
   "metadata": {},
   "outputs": [],
   "source": [
    "onehot = a.pivot_table(index='user ID', columns='Product_Name', aggfunc=len, fill_value=0)"
   ]
  },
  {
   "cell_type": "code",
   "execution_count": 188,
   "metadata": {},
   "outputs": [
    {
     "data": {
      "text/html": [
       "<div>\n",
       "<style scoped>\n",
       "    .dataframe tbody tr th:only-of-type {\n",
       "        vertical-align: middle;\n",
       "    }\n",
       "\n",
       "    .dataframe tbody tr th {\n",
       "        vertical-align: top;\n",
       "    }\n",
       "\n",
       "    .dataframe thead th {\n",
       "        text-align: right;\n",
       "    }\n",
       "</style>\n",
       "<table border=\"1\" class=\"dataframe\">\n",
       "  <thead>\n",
       "    <tr style=\"text-align: right;\">\n",
       "      <th>Product_Name</th>\n",
       "      <th>2750 Cotu Classic</th>\n",
       "      <th>2750 Lamé</th>\n",
       "      <th>3-Pack Cotton Stretch Trunks</th>\n",
       "      <th>32mm Classic Petite</th>\n",
       "      <th>574 - Men's</th>\n",
       "      <th>90s Flock Cropped Tank</th>\n",
       "      <th>90s Sweatshirt</th>\n",
       "      <th>Air Max 90 Ultra 2.0 SE - Men's</th>\n",
       "      <th>Air Max Zero Essential - Men's</th>\n",
       "      <th>Alessandra Dress</th>\n",
       "      <th>...</th>\n",
       "      <th>Women's Nike Air Max Thea</th>\n",
       "      <th>Women's Nike Flex 2-in-1 Running Shorts</th>\n",
       "      <th>Women's Nike Juvenate</th>\n",
       "      <th>Women's Nike Sock Dart</th>\n",
       "      <th>Women's Nike Sportswear Rally Hoodie</th>\n",
       "      <th>Women's Tubular Shadow</th>\n",
       "      <th>Woven Kim Slides</th>\n",
       "      <th>X_Plr - Unisex</th>\n",
       "      <th>Yates</th>\n",
       "      <th>Yoko</th>\n",
       "    </tr>\n",
       "    <tr>\n",
       "      <th>user ID</th>\n",
       "      <th></th>\n",
       "      <th></th>\n",
       "      <th></th>\n",
       "      <th></th>\n",
       "      <th></th>\n",
       "      <th></th>\n",
       "      <th></th>\n",
       "      <th></th>\n",
       "      <th></th>\n",
       "      <th></th>\n",
       "      <th></th>\n",
       "      <th></th>\n",
       "      <th></th>\n",
       "      <th></th>\n",
       "      <th></th>\n",
       "      <th></th>\n",
       "      <th></th>\n",
       "      <th></th>\n",
       "      <th></th>\n",
       "      <th></th>\n",
       "      <th></th>\n",
       "    </tr>\n",
       "  </thead>\n",
       "  <tbody>\n",
       "    <tr>\n",
       "      <th>90</th>\n",
       "      <td>0</td>\n",
       "      <td>0</td>\n",
       "      <td>0</td>\n",
       "      <td>0</td>\n",
       "      <td>0</td>\n",
       "      <td>0</td>\n",
       "      <td>0</td>\n",
       "      <td>0</td>\n",
       "      <td>0</td>\n",
       "      <td>0</td>\n",
       "      <td>...</td>\n",
       "      <td>0</td>\n",
       "      <td>0</td>\n",
       "      <td>0</td>\n",
       "      <td>0</td>\n",
       "      <td>0</td>\n",
       "      <td>0</td>\n",
       "      <td>0</td>\n",
       "      <td>0</td>\n",
       "      <td>0</td>\n",
       "      <td>0</td>\n",
       "    </tr>\n",
       "    <tr>\n",
       "      <th>180</th>\n",
       "      <td>0</td>\n",
       "      <td>0</td>\n",
       "      <td>0</td>\n",
       "      <td>0</td>\n",
       "      <td>0</td>\n",
       "      <td>0</td>\n",
       "      <td>0</td>\n",
       "      <td>0</td>\n",
       "      <td>0</td>\n",
       "      <td>0</td>\n",
       "      <td>...</td>\n",
       "      <td>0</td>\n",
       "      <td>0</td>\n",
       "      <td>0</td>\n",
       "      <td>0</td>\n",
       "      <td>0</td>\n",
       "      <td>0</td>\n",
       "      <td>0</td>\n",
       "      <td>0</td>\n",
       "      <td>0</td>\n",
       "      <td>0</td>\n",
       "    </tr>\n",
       "    <tr>\n",
       "      <th>279</th>\n",
       "      <td>0</td>\n",
       "      <td>0</td>\n",
       "      <td>0</td>\n",
       "      <td>0</td>\n",
       "      <td>0</td>\n",
       "      <td>0</td>\n",
       "      <td>0</td>\n",
       "      <td>0</td>\n",
       "      <td>0</td>\n",
       "      <td>0</td>\n",
       "      <td>...</td>\n",
       "      <td>0</td>\n",
       "      <td>0</td>\n",
       "      <td>0</td>\n",
       "      <td>0</td>\n",
       "      <td>0</td>\n",
       "      <td>0</td>\n",
       "      <td>0</td>\n",
       "      <td>0</td>\n",
       "      <td>0</td>\n",
       "      <td>0</td>\n",
       "    </tr>\n",
       "    <tr>\n",
       "      <th>390</th>\n",
       "      <td>0</td>\n",
       "      <td>0</td>\n",
       "      <td>0</td>\n",
       "      <td>0</td>\n",
       "      <td>0</td>\n",
       "      <td>0</td>\n",
       "      <td>0</td>\n",
       "      <td>0</td>\n",
       "      <td>0</td>\n",
       "      <td>0</td>\n",
       "      <td>...</td>\n",
       "      <td>0</td>\n",
       "      <td>0</td>\n",
       "      <td>0</td>\n",
       "      <td>0</td>\n",
       "      <td>0</td>\n",
       "      <td>0</td>\n",
       "      <td>0</td>\n",
       "      <td>0</td>\n",
       "      <td>0</td>\n",
       "      <td>0</td>\n",
       "    </tr>\n",
       "    <tr>\n",
       "      <th>433</th>\n",
       "      <td>0</td>\n",
       "      <td>0</td>\n",
       "      <td>0</td>\n",
       "      <td>0</td>\n",
       "      <td>0</td>\n",
       "      <td>0</td>\n",
       "      <td>0</td>\n",
       "      <td>0</td>\n",
       "      <td>0</td>\n",
       "      <td>0</td>\n",
       "      <td>...</td>\n",
       "      <td>0</td>\n",
       "      <td>0</td>\n",
       "      <td>0</td>\n",
       "      <td>0</td>\n",
       "      <td>0</td>\n",
       "      <td>0</td>\n",
       "      <td>0</td>\n",
       "      <td>0</td>\n",
       "      <td>0</td>\n",
       "      <td>0</td>\n",
       "    </tr>\n",
       "  </tbody>\n",
       "</table>\n",
       "<p>5 rows × 181 columns</p>\n",
       "</div>"
      ],
      "text/plain": [
       "Product_Name  2750 Cotu Classic  2750 Lamé  3-Pack Cotton Stretch Trunks  \\\n",
       "user ID                                                                    \n",
       "90                            0          0                             0   \n",
       "180                           0          0                             0   \n",
       "279                           0          0                             0   \n",
       "390                           0          0                             0   \n",
       "433                           0          0                             0   \n",
       "\n",
       "Product_Name  32mm Classic Petite  574 - Men's  90s Flock Cropped Tank  \\\n",
       "user ID                                                                  \n",
       "90                              0            0                       0   \n",
       "180                             0            0                       0   \n",
       "279                             0            0                       0   \n",
       "390                             0            0                       0   \n",
       "433                             0            0                       0   \n",
       "\n",
       "Product_Name  90s Sweatshirt  Air Max 90 Ultra 2.0 SE - Men's  \\\n",
       "user ID                                                         \n",
       "90                         0                                0   \n",
       "180                        0                                0   \n",
       "279                        0                                0   \n",
       "390                        0                                0   \n",
       "433                        0                                0   \n",
       "\n",
       "Product_Name  Air Max Zero Essential - Men's  Alessandra Dress  ...  \\\n",
       "user ID                                                         ...   \n",
       "90                                         0                 0  ...   \n",
       "180                                        0                 0  ...   \n",
       "279                                        0                 0  ...   \n",
       "390                                        0                 0  ...   \n",
       "433                                        0                 0  ...   \n",
       "\n",
       "Product_Name  Women's Nike Air Max Thea  \\\n",
       "user ID                                   \n",
       "90                                    0   \n",
       "180                                   0   \n",
       "279                                   0   \n",
       "390                                   0   \n",
       "433                                   0   \n",
       "\n",
       "Product_Name  Women's Nike Flex 2-in-1 Running Shorts  Women's Nike Juvenate  \\\n",
       "user ID                                                                        \n",
       "90                                                  0                      0   \n",
       "180                                                 0                      0   \n",
       "279                                                 0                      0   \n",
       "390                                                 0                      0   \n",
       "433                                                 0                      0   \n",
       "\n",
       "Product_Name  Women's Nike Sock Dart  Women's Nike Sportswear Rally Hoodie  \\\n",
       "user ID                                                                      \n",
       "90                                 0                                     0   \n",
       "180                                0                                     0   \n",
       "279                                0                                     0   \n",
       "390                                0                                     0   \n",
       "433                                0                                     0   \n",
       "\n",
       "Product_Name  Women's Tubular Shadow  Woven Kim Slides  X_Plr - Unisex  Yates  \\\n",
       "user ID                                                                         \n",
       "90                                 0                 0               0      0   \n",
       "180                                0                 0               0      0   \n",
       "279                                0                 0               0      0   \n",
       "390                                0                 0               0      0   \n",
       "433                                0                 0               0      0   \n",
       "\n",
       "Product_Name  Yoko  \n",
       "user ID             \n",
       "90               0  \n",
       "180              0  \n",
       "279              0  \n",
       "390              0  \n",
       "433              0  \n",
       "\n",
       "[5 rows x 181 columns]"
      ]
     },
     "execution_count": 188,
     "metadata": {},
     "output_type": "execute_result"
    }
   ],
   "source": [
    "onehot.head()"
   ]
  },
  {
   "cell_type": "markdown",
   "metadata": {},
   "source": [
    "We don't need the sum or len, we need either has taken or not. So if a user has taken that item mark as 1 else mark has 0"
   ]
  },
  {
   "cell_type": "code",
   "execution_count": 189,
   "metadata": {},
   "outputs": [],
   "source": [
    "def convert_to_binary(x):\n",
    "    if x > 0: return 1\n",
    "    else: return 0"
   ]
  },
  {
   "cell_type": "code",
   "execution_count": 198,
   "metadata": {},
   "outputs": [],
   "source": [
    "basket_sets = basket.applymap(convert_to_binary)"
   ]
  },
  {
   "cell_type": "code",
   "execution_count": 199,
   "metadata": {},
   "outputs": [
    {
     "data": {
      "text/html": [
       "<div>\n",
       "<style scoped>\n",
       "    .dataframe tbody tr th:only-of-type {\n",
       "        vertical-align: middle;\n",
       "    }\n",
       "\n",
       "    .dataframe tbody tr th {\n",
       "        vertical-align: top;\n",
       "    }\n",
       "\n",
       "    .dataframe thead th {\n",
       "        text-align: right;\n",
       "    }\n",
       "</style>\n",
       "<table border=\"1\" class=\"dataframe\">\n",
       "  <thead>\n",
       "    <tr style=\"text-align: right;\">\n",
       "      <th>Product_Name</th>\n",
       "      <th>003 Jeans</th>\n",
       "      <th>1 5/8\" Polo Player Plaque Belt</th>\n",
       "      <th>134/S</th>\n",
       "      <th>1460 8 Eye Boots Smooth</th>\n",
       "      <th>2 Pack Cami Top Black,Suki Dot Dress,Astrid Sheer Shift Dress,Amalia Dobby Flutter Maxi,Juliette Flutter Dress</th>\n",
       "      <th>2 Pack Crop Leggings,Stripe Tee,Birds Fly Away Sweater</th>\n",
       "      <th>2 Pack Sheer Lace Bralettes</th>\n",
       "      <th>2 Pack Tank Top</th>\n",
       "      <th>2-Pack Basic Trunks,Campus - Unisex</th>\n",
       "      <th>2750 Cotu Classic</th>\n",
       "      <th>...</th>\n",
       "      <th>Ziggy</th>\n",
       "      <th>Ziggy (Reversible),Marar,Crushed Canvas Sneakers</th>\n",
       "      <th>Zoe Dress</th>\n",
       "      <th>Zoe Loafers,Perfect Graphic Tee,Stan Smith</th>\n",
       "      <th>Zoe Tights</th>\n",
       "      <th>Zoe V-Back Tee,Rust Roses Wrap Dress</th>\n",
       "      <th>Zoe V-Back Tee,Sunset,Mushroom Cold Shoulder Top,Ivy Frill Lace Insert Top</th>\n",
       "      <th>Zonal Cooling Relay Tank,Basic 3/4 Tights,Julia Dress</th>\n",
       "      <th>Zoom All Out Low - Men's,Women's Nike Presto Fly</th>\n",
       "      <th>Zsa Zsa 3/4,Essential Sweatpants,Cowl Neck Pullover</th>\n",
       "    </tr>\n",
       "    <tr>\n",
       "      <th>user ID</th>\n",
       "      <th></th>\n",
       "      <th></th>\n",
       "      <th></th>\n",
       "      <th></th>\n",
       "      <th></th>\n",
       "      <th></th>\n",
       "      <th></th>\n",
       "      <th></th>\n",
       "      <th></th>\n",
       "      <th></th>\n",
       "      <th></th>\n",
       "      <th></th>\n",
       "      <th></th>\n",
       "      <th></th>\n",
       "      <th></th>\n",
       "      <th></th>\n",
       "      <th></th>\n",
       "      <th></th>\n",
       "      <th></th>\n",
       "      <th></th>\n",
       "      <th></th>\n",
       "    </tr>\n",
       "  </thead>\n",
       "  <tbody>\n",
       "    <tr>\n",
       "      <th>2188</th>\n",
       "      <td>0</td>\n",
       "      <td>0</td>\n",
       "      <td>0</td>\n",
       "      <td>0</td>\n",
       "      <td>0</td>\n",
       "      <td>0</td>\n",
       "      <td>0</td>\n",
       "      <td>0</td>\n",
       "      <td>0</td>\n",
       "      <td>0</td>\n",
       "      <td>...</td>\n",
       "      <td>0</td>\n",
       "      <td>0</td>\n",
       "      <td>0</td>\n",
       "      <td>0</td>\n",
       "      <td>0</td>\n",
       "      <td>0</td>\n",
       "      <td>0</td>\n",
       "      <td>0</td>\n",
       "      <td>0</td>\n",
       "      <td>0</td>\n",
       "    </tr>\n",
       "    <tr>\n",
       "      <th>19261</th>\n",
       "      <td>0</td>\n",
       "      <td>0</td>\n",
       "      <td>0</td>\n",
       "      <td>0</td>\n",
       "      <td>0</td>\n",
       "      <td>0</td>\n",
       "      <td>0</td>\n",
       "      <td>0</td>\n",
       "      <td>0</td>\n",
       "      <td>0</td>\n",
       "      <td>...</td>\n",
       "      <td>0</td>\n",
       "      <td>0</td>\n",
       "      <td>0</td>\n",
       "      <td>0</td>\n",
       "      <td>0</td>\n",
       "      <td>0</td>\n",
       "      <td>0</td>\n",
       "      <td>0</td>\n",
       "      <td>0</td>\n",
       "      <td>0</td>\n",
       "    </tr>\n",
       "    <tr>\n",
       "      <th>43612</th>\n",
       "      <td>0</td>\n",
       "      <td>0</td>\n",
       "      <td>0</td>\n",
       "      <td>0</td>\n",
       "      <td>0</td>\n",
       "      <td>0</td>\n",
       "      <td>0</td>\n",
       "      <td>0</td>\n",
       "      <td>0</td>\n",
       "      <td>0</td>\n",
       "      <td>...</td>\n",
       "      <td>0</td>\n",
       "      <td>0</td>\n",
       "      <td>0</td>\n",
       "      <td>0</td>\n",
       "      <td>0</td>\n",
       "      <td>0</td>\n",
       "      <td>0</td>\n",
       "      <td>0</td>\n",
       "      <td>0</td>\n",
       "      <td>0</td>\n",
       "    </tr>\n",
       "  </tbody>\n",
       "</table>\n",
       "<p>3 rows × 2506 columns</p>\n",
       "</div>"
      ],
      "text/plain": [
       "Product_Name  003 Jeans  1 5/8\" Polo Player Plaque Belt  134/S  \\\n",
       "user ID                                                          \n",
       "2188                  0                               0      0   \n",
       "19261                 0                               0      0   \n",
       "43612                 0                               0      0   \n",
       "\n",
       "Product_Name  1460 8 Eye Boots Smooth  \\\n",
       "user ID                                 \n",
       "2188                                0   \n",
       "19261                               0   \n",
       "43612                               0   \n",
       "\n",
       "Product_Name  2 Pack Cami Top Black,Suki Dot Dress,Astrid Sheer Shift Dress,Amalia Dobby Flutter Maxi,Juliette Flutter Dress  \\\n",
       "user ID                                                                                                                        \n",
       "2188                                                          0                                                                \n",
       "19261                                                         0                                                                \n",
       "43612                                                         0                                                                \n",
       "\n",
       "Product_Name  2 Pack Crop Leggings,Stripe Tee,Birds Fly Away Sweater  \\\n",
       "user ID                                                                \n",
       "2188                                                          0        \n",
       "19261                                                         0        \n",
       "43612                                                         0        \n",
       "\n",
       "Product_Name  2 Pack Sheer Lace Bralettes  2 Pack Tank Top  \\\n",
       "user ID                                                      \n",
       "2188                                    0                0   \n",
       "19261                                   0                0   \n",
       "43612                                   0                0   \n",
       "\n",
       "Product_Name  2-Pack Basic Trunks,Campus - Unisex  2750 Cotu Classic  ...  \\\n",
       "user ID                                                               ...   \n",
       "2188                                            0                  0  ...   \n",
       "19261                                           0                  0  ...   \n",
       "43612                                           0                  0  ...   \n",
       "\n",
       "Product_Name  Ziggy  Ziggy (Reversible),Marar,Crushed Canvas Sneakers  \\\n",
       "user ID                                                                 \n",
       "2188              0                                                 0   \n",
       "19261             0                                                 0   \n",
       "43612             0                                                 0   \n",
       "\n",
       "Product_Name  Zoe Dress  Zoe Loafers,Perfect Graphic Tee,Stan Smith  \\\n",
       "user ID                                                               \n",
       "2188                  0                                           0   \n",
       "19261                 0                                           0   \n",
       "43612                 0                                           0   \n",
       "\n",
       "Product_Name  Zoe Tights  Zoe V-Back Tee,Rust Roses Wrap Dress  \\\n",
       "user ID                                                          \n",
       "2188                   0                                     0   \n",
       "19261                  0                                     0   \n",
       "43612                  0                                     0   \n",
       "\n",
       "Product_Name  Zoe V-Back Tee,Sunset,Mushroom Cold Shoulder Top,Ivy Frill Lace Insert Top  \\\n",
       "user ID                                                                                    \n",
       "2188                                                          0                            \n",
       "19261                                                         0                            \n",
       "43612                                                         0                            \n",
       "\n",
       "Product_Name  Zonal Cooling Relay Tank,Basic 3/4 Tights,Julia Dress  \\\n",
       "user ID                                                               \n",
       "2188                                                          0       \n",
       "19261                                                         0       \n",
       "43612                                                         0       \n",
       "\n",
       "Product_Name  Zoom All Out Low - Men's,Women's Nike Presto Fly  \\\n",
       "user ID                                                          \n",
       "2188                                                         0   \n",
       "19261                                                        0   \n",
       "43612                                                        0   \n",
       "\n",
       "Product_Name  Zsa Zsa 3/4,Essential Sweatpants,Cowl Neck Pullover  \n",
       "user ID                                                            \n",
       "2188                                                          0    \n",
       "19261                                                         0    \n",
       "43612                                                         0    \n",
       "\n",
       "[3 rows x 2506 columns]"
      ]
     },
     "execution_count": 199,
     "metadata": {},
     "output_type": "execute_result"
    }
   ],
   "source": [
    "basket_sets.sample(3)"
   ]
  },
  {
   "cell_type": "code",
   "execution_count": 202,
   "metadata": {},
   "outputs": [
    {
     "data": {
      "text/html": [
       "<div>\n",
       "<style scoped>\n",
       "    .dataframe tbody tr th:only-of-type {\n",
       "        vertical-align: middle;\n",
       "    }\n",
       "\n",
       "    .dataframe tbody tr th {\n",
       "        vertical-align: top;\n",
       "    }\n",
       "\n",
       "    .dataframe thead th {\n",
       "        text-align: right;\n",
       "    }\n",
       "</style>\n",
       "<table border=\"1\" class=\"dataframe\">\n",
       "  <thead>\n",
       "    <tr style=\"text-align: right;\">\n",
       "      <th></th>\n",
       "      <th>support</th>\n",
       "      <th>itemsets</th>\n",
       "    </tr>\n",
       "  </thead>\n",
       "  <tbody>\n",
       "  </tbody>\n",
       "</table>\n",
       "</div>"
      ],
      "text/plain": [
       "Empty DataFrame\n",
       "Columns: [support, itemsets]\n",
       "Index: []"
      ]
     },
     "execution_count": 202,
     "metadata": {},
     "output_type": "execute_result"
    }
   ],
   "source": [
    "# used a minimum support value of 7% which means 7 times in total number of transaction\n",
    "from mlxtend.frequent_patterns import association_rules, apriori\n",
    "\n",
    "# compute frequent items using the Apriori algorithm\n",
    "frequent_itemsets = apriori(basket_sets, min_support=0.07, use_colnames=True)\n",
    "\n",
    "frequent_itemsets"
   ]
  },
  {
   "cell_type": "code",
   "execution_count": 194,
   "metadata": {},
   "outputs": [
    {
     "data": {
      "text/html": [
       "<div>\n",
       "<style scoped>\n",
       "    .dataframe tbody tr th:only-of-type {\n",
       "        vertical-align: middle;\n",
       "    }\n",
       "\n",
       "    .dataframe tbody tr th {\n",
       "        vertical-align: top;\n",
       "    }\n",
       "\n",
       "    .dataframe thead th {\n",
       "        text-align: right;\n",
       "    }\n",
       "</style>\n",
       "<table border=\"1\" class=\"dataframe\">\n",
       "  <thead>\n",
       "    <tr style=\"text-align: right;\">\n",
       "      <th></th>\n",
       "      <th>support</th>\n",
       "      <th>itemsets</th>\n",
       "    </tr>\n",
       "  </thead>\n",
       "  <tbody>\n",
       "  </tbody>\n",
       "</table>\n",
       "</div>"
      ],
      "text/plain": [
       "Empty DataFrame\n",
       "Columns: [support, itemsets]\n",
       "Index: []"
      ]
     },
     "execution_count": 194,
     "metadata": {},
     "output_type": "execute_result"
    }
   ],
   "source": []
  },
  {
   "cell_type": "code",
   "execution_count": null,
   "metadata": {},
   "outputs": [],
   "source": [
    "# compute all association rules for frequent_itemsets\n",
    "rules = association_rules(frequent_itemsets)\n",
    "\n",
    "# check the first 5 rules\n",
    "rules.head()"
   ]
  },
  {
   "cell_type": "code",
   "execution_count": null,
   "metadata": {},
   "outputs": [],
   "source": []
  },
  {
   "cell_type": "markdown",
   "metadata": {},
   "source": [
    "### 3. Customer Segmentation\n",
    "Based on your analysis, arrive at a statistical segmentation of the brand's audience based on Revenue. The number of segments is up to you. Please provide definitions of each group."
   ]
  },
  {
   "cell_type": "code",
   "execution_count": 5,
   "metadata": {},
   "outputs": [],
   "source": [
    "#For standardizing features. We'll use the StandardScaler module.\n",
    "from sklearn.preprocessing import StandardScaler\n",
    "#Sk learn is one of the most widely used libraries for machine learning. We'll use the k means and pca modules.\n",
    "from sklearn.cluster import KMeans\n",
    "from sklearn.decomposition import PCA"
   ]
  },
  {
   "cell_type": "code",
   "execution_count": 6,
   "metadata": {},
   "outputs": [
    {
     "data": {
      "text/html": [
       "<div>\n",
       "<style scoped>\n",
       "    .dataframe tbody tr th:only-of-type {\n",
       "        vertical-align: middle;\n",
       "    }\n",
       "\n",
       "    .dataframe tbody tr th {\n",
       "        vertical-align: top;\n",
       "    }\n",
       "\n",
       "    .dataframe thead th {\n",
       "        text-align: right;\n",
       "    }\n",
       "</style>\n",
       "<table border=\"1\" class=\"dataframe\">\n",
       "  <thead>\n",
       "    <tr style=\"text-align: right;\">\n",
       "      <th></th>\n",
       "      <th>timestamp</th>\n",
       "      <th>user ID</th>\n",
       "      <th>ip_address</th>\n",
       "      <th>Product_Name</th>\n",
       "      <th>Product_ID</th>\n",
       "      <th>Is_First_Order</th>\n",
       "      <th>User_Gender</th>\n",
       "      <th>Payment_Type</th>\n",
       "      <th>Number_of_Products</th>\n",
       "      <th>Order_Coupon_Code</th>\n",
       "      <th>City</th>\n",
       "      <th>Country_Province</th>\n",
       "      <th>User_Birthday</th>\n",
       "      <th>Country</th>\n",
       "      <th>Revenue</th>\n",
       "    </tr>\n",
       "  </thead>\n",
       "  <tbody>\n",
       "    <tr>\n",
       "      <th>0</th>\n",
       "      <td>2017-10-21 20:52:31</td>\n",
       "      <td>0</td>\n",
       "      <td>49.227.243.31</td>\n",
       "      <td>Kendrick</td>\n",
       "      <td>SE043SH31VBS</td>\n",
       "      <td>0</td>\n",
       "      <td>female</td>\n",
       "      <td>cc@braintree</td>\n",
       "      <td>1</td>\n",
       "      <td>YAY15</td>\n",
       "      <td>Kaitaia</td>\n",
       "      <td>NaN</td>\n",
       "      <td>1993-10-05 00:00:00</td>\n",
       "      <td>NZ</td>\n",
       "      <td>212.50</td>\n",
       "    </tr>\n",
       "    <tr>\n",
       "      <th>1</th>\n",
       "      <td>2017-10-21 20:55:12</td>\n",
       "      <td>0</td>\n",
       "      <td>111.220.172.119</td>\n",
       "      <td>Smartwatch Bradshaw Gold</td>\n",
       "      <td>MI329AC90OUB</td>\n",
       "      <td>1</td>\n",
       "      <td>male</td>\n",
       "      <td>pbi@afterpay</td>\n",
       "      <td>1</td>\n",
       "      <td>NaN</td>\n",
       "      <td>Shepparton</td>\n",
       "      <td>VIC</td>\n",
       "      <td>NaN</td>\n",
       "      <td>AU</td>\n",
       "      <td>526.36</td>\n",
       "    </tr>\n",
       "    <tr>\n",
       "      <th>2</th>\n",
       "      <td>2017-10-21 20:56:41</td>\n",
       "      <td>0</td>\n",
       "      <td>210.84.59.179</td>\n",
       "      <td>Classic Slides</td>\n",
       "      <td>SA849SH69SAK</td>\n",
       "      <td>1</td>\n",
       "      <td>female</td>\n",
       "      <td>cc@braintree</td>\n",
       "      <td>1</td>\n",
       "      <td>NaN</td>\n",
       "      <td>Essendon</td>\n",
       "      <td>VIC</td>\n",
       "      <td>NaN</td>\n",
       "      <td>AU</td>\n",
       "      <td>77.23</td>\n",
       "    </tr>\n",
       "    <tr>\n",
       "      <th>3</th>\n",
       "      <td>2017-10-21 20:59:27</td>\n",
       "      <td>0</td>\n",
       "      <td>59.167.79.119</td>\n",
       "      <td>Bonaire Flared Sleeve Tunic</td>\n",
       "      <td>SH045AA22AGR</td>\n",
       "      <td>0</td>\n",
       "      <td>female</td>\n",
       "      <td>pbi@afterpay</td>\n",
       "      <td>1</td>\n",
       "      <td>NaN</td>\n",
       "      <td>Karabar</td>\n",
       "      <td>NSW</td>\n",
       "      <td>NaN</td>\n",
       "      <td>AU</td>\n",
       "      <td>190.91</td>\n",
       "    </tr>\n",
       "    <tr>\n",
       "      <th>4</th>\n",
       "      <td>2017-10-21 21:00:56</td>\n",
       "      <td>0</td>\n",
       "      <td>1.129.107.188</td>\n",
       "      <td>Tall Tales Man Style Pants</td>\n",
       "      <td>MA146AA45RAK</td>\n",
       "      <td>0</td>\n",
       "      <td>female</td>\n",
       "      <td>cc@braintree</td>\n",
       "      <td>1</td>\n",
       "      <td>NaN</td>\n",
       "      <td>Mosman</td>\n",
       "      <td>NSW</td>\n",
       "      <td>NaN</td>\n",
       "      <td>AU</td>\n",
       "      <td>204.09</td>\n",
       "    </tr>\n",
       "  </tbody>\n",
       "</table>\n",
       "</div>"
      ],
      "text/plain": [
       "            timestamp  user ID       ip_address                 Product_Name  \\\n",
       "0 2017-10-21 20:52:31        0    49.227.243.31                     Kendrick   \n",
       "1 2017-10-21 20:55:12        0  111.220.172.119     Smartwatch Bradshaw Gold   \n",
       "2 2017-10-21 20:56:41        0    210.84.59.179               Classic Slides   \n",
       "3 2017-10-21 20:59:27        0    59.167.79.119  Bonaire Flared Sleeve Tunic   \n",
       "4 2017-10-21 21:00:56        0    1.129.107.188   Tall Tales Man Style Pants   \n",
       "\n",
       "     Product_ID Is_First_Order User_Gender  Payment_Type Number_of_Products  \\\n",
       "0  SE043SH31VBS              0      female  cc@braintree                  1   \n",
       "1  MI329AC90OUB              1        male  pbi@afterpay                  1   \n",
       "2  SA849SH69SAK              1      female  cc@braintree                  1   \n",
       "3  SH045AA22AGR              0      female  pbi@afterpay                  1   \n",
       "4  MA146AA45RAK              0      female  cc@braintree                  1   \n",
       "\n",
       "  Order_Coupon_Code        City Country_Province        User_Birthday Country  \\\n",
       "0             YAY15     Kaitaia              NaN  1993-10-05 00:00:00      NZ   \n",
       "1               NaN  Shepparton              VIC                  NaN      AU   \n",
       "2               NaN    Essendon              VIC                  NaN      AU   \n",
       "3               NaN     Karabar              NSW                  NaN      AU   \n",
       "4               NaN      Mosman              NSW                  NaN      AU   \n",
       "\n",
       "   Revenue  \n",
       "0   212.50  \n",
       "1   526.36  \n",
       "2    77.23  \n",
       "3   190.91  \n",
       "4   204.09  "
      ]
     },
     "execution_count": 6,
     "metadata": {},
     "output_type": "execute_result"
    }
   ],
   "source": [
    "df.head()"
   ]
  },
  {
   "cell_type": "code",
   "execution_count": 21,
   "metadata": {},
   "outputs": [],
   "source": [
    "no_product = list(df['Number_of_Products'].apply(lambda x: str(x).split(',')))"
   ]
  },
  {
   "cell_type": "code",
   "execution_count": 35,
   "metadata": {},
   "outputs": [
    {
     "data": {
      "text/plain": [
       "27275"
      ]
     },
     "execution_count": 35,
     "metadata": {},
     "output_type": "execute_result"
    }
   ],
   "source": [
    "df['User_Birthday'].isna().sum()"
   ]
  },
  {
   "cell_type": "code",
   "execution_count": 60,
   "metadata": {},
   "outputs": [],
   "source": [
    "df['User_Birthday'] = pd.to_datetime(df['User_Birthday'])\n",
    "df['User_Birthyear'] = df['User_Birthday'].dt.year\n",
    "df['User_Age'] = 2017 - df['User_Birthyear']"
   ]
  },
  {
   "cell_type": "code",
   "execution_count": 61,
   "metadata": {},
   "outputs": [],
   "source": [
    "df['User_Age'] = df.groupby(['User_Gender', 'City', 'Country_Province'])['User_Age'].transform(lambda x: x.fillna(x.mean()))"
   ]
  },
  {
   "cell_type": "code",
   "execution_count": 62,
   "metadata": {},
   "outputs": [
    {
     "data": {
      "text/plain": [
       "timestamp                 0\n",
       "user ID                   0\n",
       "ip_address                0\n",
       "Product_Name              0\n",
       "Product_ID                0\n",
       "Is_First_Order            0\n",
       "User_Gender               0\n",
       "Payment_Type              0\n",
       "Number_of_Products        0\n",
       "Order_Coupon_Code     38104\n",
       "City                      0\n",
       "Country_Province          0\n",
       "User_Birthday         27274\n",
       "Country                   0\n",
       "Revenue                   0\n",
       "User_Birthyear        27274\n",
       "User_Age                  0\n",
       "dtype: int64"
      ]
     },
     "execution_count": 62,
     "metadata": {},
     "output_type": "execute_result"
    }
   ],
   "source": [
    "df['User_Age'] = df['User_Age'].fillna(method='ffill')\n",
    "df.isna().sum()"
   ]
  },
  {
   "cell_type": "code",
   "execution_count": 63,
   "metadata": {},
   "outputs": [
    {
     "data": {
      "text/html": [
       "<div>\n",
       "<style scoped>\n",
       "    .dataframe tbody tr th:only-of-type {\n",
       "        vertical-align: middle;\n",
       "    }\n",
       "\n",
       "    .dataframe tbody tr th {\n",
       "        vertical-align: top;\n",
       "    }\n",
       "\n",
       "    .dataframe thead th {\n",
       "        text-align: right;\n",
       "    }\n",
       "</style>\n",
       "<table border=\"1\" class=\"dataframe\">\n",
       "  <thead>\n",
       "    <tr style=\"text-align: right;\">\n",
       "      <th></th>\n",
       "      <th>user ID</th>\n",
       "      <th>Revenue</th>\n",
       "      <th>User_Birthyear</th>\n",
       "      <th>User_Age</th>\n",
       "    </tr>\n",
       "  </thead>\n",
       "  <tbody>\n",
       "    <tr>\n",
       "      <th>count</th>\n",
       "      <td>49983.000000</td>\n",
       "      <td>49983.000000</td>\n",
       "      <td>22709.000000</td>\n",
       "      <td>49983.000000</td>\n",
       "    </tr>\n",
       "    <tr>\n",
       "      <th>mean</th>\n",
       "      <td>22015.103675</td>\n",
       "      <td>133.934658</td>\n",
       "      <td>1985.342948</td>\n",
       "      <td>31.455758</td>\n",
       "    </tr>\n",
       "    <tr>\n",
       "      <th>std</th>\n",
       "      <td>12779.283040</td>\n",
       "      <td>130.402318</td>\n",
       "      <td>10.242642</td>\n",
       "      <td>8.257191</td>\n",
       "    </tr>\n",
       "    <tr>\n",
       "      <th>min</th>\n",
       "      <td>0.000000</td>\n",
       "      <td>0.000000</td>\n",
       "      <td>1900.000000</td>\n",
       "      <td>0.000000</td>\n",
       "    </tr>\n",
       "    <tr>\n",
       "      <th>25%</th>\n",
       "      <td>10938.500000</td>\n",
       "      <td>63.590000</td>\n",
       "      <td>1980.000000</td>\n",
       "      <td>26.333333</td>\n",
       "    </tr>\n",
       "    <tr>\n",
       "      <th>50%</th>\n",
       "      <td>22012.000000</td>\n",
       "      <td>98.180000</td>\n",
       "      <td>1988.000000</td>\n",
       "      <td>30.285714</td>\n",
       "    </tr>\n",
       "    <tr>\n",
       "      <th>75%</th>\n",
       "      <td>33115.500000</td>\n",
       "      <td>163.540000</td>\n",
       "      <td>1993.000000</td>\n",
       "      <td>34.500000</td>\n",
       "    </tr>\n",
       "    <tr>\n",
       "      <th>max</th>\n",
       "      <td>44103.000000</td>\n",
       "      <td>3691.500000</td>\n",
       "      <td>2017.000000</td>\n",
       "      <td>117.000000</td>\n",
       "    </tr>\n",
       "  </tbody>\n",
       "</table>\n",
       "</div>"
      ],
      "text/plain": [
       "            user ID       Revenue  User_Birthyear      User_Age\n",
       "count  49983.000000  49983.000000    22709.000000  49983.000000\n",
       "mean   22015.103675    133.934658     1985.342948     31.455758\n",
       "std    12779.283040    130.402318       10.242642      8.257191\n",
       "min        0.000000      0.000000     1900.000000      0.000000\n",
       "25%    10938.500000     63.590000     1980.000000     26.333333\n",
       "50%    22012.000000     98.180000     1988.000000     30.285714\n",
       "75%    33115.500000    163.540000     1993.000000     34.500000\n",
       "max    44103.000000   3691.500000     2017.000000    117.000000"
      ]
     },
     "execution_count": 63,
     "metadata": {},
     "output_type": "execute_result"
    }
   ],
   "source": [
    "df.describe()"
   ]
  },
  {
   "cell_type": "code",
   "execution_count": 52,
   "metadata": {},
   "outputs": [
    {
     "data": {
      "text/html": [
       "<div>\n",
       "<style scoped>\n",
       "    .dataframe tbody tr th:only-of-type {\n",
       "        vertical-align: middle;\n",
       "    }\n",
       "\n",
       "    .dataframe tbody tr th {\n",
       "        vertical-align: top;\n",
       "    }\n",
       "\n",
       "    .dataframe thead th {\n",
       "        text-align: right;\n",
       "    }\n",
       "</style>\n",
       "<table border=\"1\" class=\"dataframe\">\n",
       "  <thead>\n",
       "    <tr style=\"text-align: right;\">\n",
       "      <th></th>\n",
       "      <th>timestamp</th>\n",
       "      <th>user ID</th>\n",
       "      <th>ip_address</th>\n",
       "      <th>Product_Name</th>\n",
       "      <th>Product_ID</th>\n",
       "      <th>Is_First_Order</th>\n",
       "      <th>User_Gender</th>\n",
       "      <th>Payment_Type</th>\n",
       "      <th>Number_of_Products</th>\n",
       "      <th>Order_Coupon_Code</th>\n",
       "      <th>City</th>\n",
       "      <th>Country_Province</th>\n",
       "      <th>User_Birthday</th>\n",
       "      <th>Country</th>\n",
       "      <th>Revenue</th>\n",
       "      <th>User_Birthyear</th>\n",
       "      <th>User_Age</th>\n",
       "    </tr>\n",
       "  </thead>\n",
       "  <tbody>\n",
       "    <tr>\n",
       "      <th>14880</th>\n",
       "      <td>2017-10-15 21:40:26</td>\n",
       "      <td>13059</td>\n",
       "      <td>58.111.129.91</td>\n",
       "      <td>Taina Cape Dress,Jungle Juice Radius Dress,Lee...</td>\n",
       "      <td>MO542AA41WPU,TH909AA83MSI,TU931AA37ANU,HO372AA...</td>\n",
       "      <td>0</td>\n",
       "      <td>female</td>\n",
       "      <td>cc@braintree</td>\n",
       "      <td>1,2,2,1,1,1,1,1,1,2,1,2,2,1,1,1,2,2,1,1,2,2,2,...</td>\n",
       "      <td>NaN</td>\n",
       "      <td>Lane Cove North</td>\n",
       "      <td>NSW</td>\n",
       "      <td>NaT</td>\n",
       "      <td>AU</td>\n",
       "      <td>5387.71</td>\n",
       "      <td>NaN</td>\n",
       "      <td>35.75</td>\n",
       "    </tr>\n",
       "  </tbody>\n",
       "</table>\n",
       "</div>"
      ],
      "text/plain": [
       "                timestamp  user ID     ip_address  \\\n",
       "14880 2017-10-15 21:40:26    13059  58.111.129.91   \n",
       "\n",
       "                                            Product_Name  \\\n",
       "14880  Taina Cape Dress,Jungle Juice Radius Dress,Lee...   \n",
       "\n",
       "                                              Product_ID Is_First_Order  \\\n",
       "14880  MO542AA41WPU,TH909AA83MSI,TU931AA37ANU,HO372AA...              0   \n",
       "\n",
       "      User_Gender  Payment_Type  \\\n",
       "14880      female  cc@braintree   \n",
       "\n",
       "                                      Number_of_Products Order_Coupon_Code  \\\n",
       "14880  1,2,2,1,1,1,1,1,1,2,1,2,2,1,1,1,2,2,1,1,2,2,2,...               NaN   \n",
       "\n",
       "                  City Country_Province User_Birthday Country  Revenue  \\\n",
       "14880  Lane Cove North              NSW           NaT      AU  5387.71   \n",
       "\n",
       "       User_Birthyear  User_Age  \n",
       "14880             NaN     35.75  "
      ]
     },
     "execution_count": 52,
     "metadata": {},
     "output_type": "execute_result"
    }
   ],
   "source": [
    "df[df['Revenue'] >= 5000]"
   ]
  },
  {
   "cell_type": "markdown",
   "metadata": {},
   "source": [
    "Because of Analysis and for proper segmentation, the extreme value can be removed. Esscentially, it is an outlier but a good outlier"
   ]
  },
  {
   "cell_type": "code",
   "execution_count": 53,
   "metadata": {},
   "outputs": [],
   "source": [
    "df = df[df['Revenue'] < 5000]"
   ]
  },
  {
   "cell_type": "code",
   "execution_count": 54,
   "metadata": {},
   "outputs": [
    {
     "data": {
      "image/png": "[encoded data removed]",
      "text/plain": [
       "<Figure size 1008x432 with 1 Axes>"
      ]
     },
     "metadata": {},
     "output_type": "display_data"
    }
   ],
   "source": [
    "plt.figure(figsize=(14, 6))\n",
    "plt.hist(df['Revenue'], bins=50, );"
   ]
  },
  {
   "cell_type": "markdown",
   "metadata": {},
   "source": [
    "Highly Skewed a left tail"
   ]
  },
  {
   "cell_type": "code",
   "execution_count": 55,
   "metadata": {},
   "outputs": [
    {
     "data": {
      "text/plain": [
       "count    49983.000000\n",
       "mean       133.934658\n",
       "std        130.402318\n",
       "min          0.000000\n",
       "25%         63.590000\n",
       "50%         98.180000\n",
       "75%        163.540000\n",
       "max       3691.500000\n",
       "Name: Revenue, dtype: float64"
      ]
     },
     "execution_count": 55,
     "metadata": {},
     "output_type": "execute_result"
    }
   ],
   "source": [
    "df.Revenue.describe()"
   ]
  },
  {
   "cell_type": "markdown",
   "metadata": {},
   "source": [
    "### Visualize the Raw Data"
   ]
  },
  {
   "cell_type": "code",
   "execution_count": 64,
   "metadata": {},
   "outputs": [
    {
     "data": {
      "text/plain": [
       "Text(0.5, 1.0, 'Visualization of raw data')"
      ]
     },
     "execution_count": 64,
     "metadata": {},
     "output_type": "execute_result"
    },
    {
     "data": {
      "image/png": "[encoded data removed]",
      "text/plain": [
       "<Figure size 864x648 with 1 Axes>"
      ]
     },
     "metadata": {},
     "output_type": "display_data"
    }
   ],
   "source": [
    "# We'll plot the data. We create a 12 by 9 inches figure.\n",
    "# We have 2000 data points, which we'll scatter acrros Age and Income, located on positions 2 and 4 in our data set. \n",
    "plt.figure(figsize = (12, 9))\n",
    "plt.scatter(df['User_Age'], df['Revenue'])\n",
    "plt.xlabel('Age')\n",
    "plt.ylabel('Revenue')\n",
    "plt.title('Visualization of raw data')"
   ]
  },
  {
   "cell_type": "markdown",
   "metadata": {},
   "source": [
    "Most of the Revenue revolves around the mean. There exist some users with age greater than 100"
   ]
  },
  {
   "cell_type": "code",
   "execution_count": 112,
   "metadata": {},
   "outputs": [],
   "source": [
    "df_segmentation = df[['User_Age', 'Revenue', 'Is_First_Order', 'User_Gender']]"
   ]
  },
  {
   "cell_type": "code",
   "execution_count": 113,
   "metadata": {},
   "outputs": [],
   "source": [
    "scaler = StandardScaler()\n",
    "segmentation_std = scaler.fit_transform(df_segmentation)"
   ]
  },
  {
   "cell_type": "markdown",
   "metadata": {},
   "source": [
    "### K-Means Clustering"
   ]
  },
  {
   "cell_type": "code",
   "execution_count": 114,
   "metadata": {},
   "outputs": [],
   "source": [
    "wcss = []\n",
    "for i in range(1,11):\n",
    "    kmeans = KMeans(n_clusters = i, init = 'k-means++', random_state = 42)\n",
    "    kmeans.fit(segmentation_std)\n",
    "    wcss.append(kmeans.inertia_)"
   ]
  },
  {
   "cell_type": "code",
   "execution_count": 115,
   "metadata": {},
   "outputs": [
    {
     "data": {
      "image/png": "[encoded data removed]",
      "text/plain": [
       "<Figure size 720x576 with 1 Axes>"
      ]
     },
     "metadata": {},
     "output_type": "display_data"
    }
   ],
   "source": [
    "plt.figure(figsize = (10,8))\n",
    "plt.plot(range(1, 11), wcss, marker = 'o', linestyle = '--')\n",
    "plt.xlabel('Number of Clusters')\n",
    "plt.ylabel('WCSS')\n",
    "plt.title('K-means Clustering')\n",
    "plt.show()"
   ]
  },
  {
   "cell_type": "code",
   "execution_count": 116,
   "metadata": {},
   "outputs": [],
   "source": [
    "kmeans = KMeans(n_clusters = 4, init = 'k-means++', random_state = 42)"
   ]
  },
  {
   "cell_type": "code",
   "execution_count": 117,
   "metadata": {},
   "outputs": [
    {
     "data": {
      "text/plain": [
       "KMeans(n_clusters=4, random_state=42)"
      ]
     },
     "execution_count": 117,
     "metadata": {},
     "output_type": "execute_result"
    }
   ],
   "source": [
    "kmeans.fit(segmentation_std)"
   ]
  },
  {
   "cell_type": "markdown",
   "metadata": {},
   "source": [
    "### Results"
   ]
  },
  {
   "cell_type": "code",
   "execution_count": 118,
   "metadata": {},
   "outputs": [],
   "source": [
    "# We create a new data frame with the original features and add a new column with the assigned clusters for each point.\n",
    "df_segm_kmeans = df.copy()\n",
    "df_segm_kmeans['Segment K-means'] = kmeans.labels_"
   ]
  },
  {
   "cell_type": "code",
   "execution_count": 119,
   "metadata": {},
   "outputs": [
    {
     "data": {
      "text/html": [
       "<div>\n",
       "<style scoped>\n",
       "    .dataframe tbody tr th:only-of-type {\n",
       "        vertical-align: middle;\n",
       "    }\n",
       "\n",
       "    .dataframe tbody tr th {\n",
       "        vertical-align: top;\n",
       "    }\n",
       "\n",
       "    .dataframe thead th {\n",
       "        text-align: right;\n",
       "    }\n",
       "</style>\n",
       "<table border=\"1\" class=\"dataframe\">\n",
       "  <thead>\n",
       "    <tr style=\"text-align: right;\">\n",
       "      <th></th>\n",
       "      <th>user ID</th>\n",
       "      <th>Is_First_Order</th>\n",
       "      <th>User_Gender</th>\n",
       "      <th>Revenue</th>\n",
       "      <th>User_Birthyear</th>\n",
       "      <th>User_Age</th>\n",
       "    </tr>\n",
       "    <tr>\n",
       "      <th>Segment K-means</th>\n",
       "      <th></th>\n",
       "      <th></th>\n",
       "      <th></th>\n",
       "      <th></th>\n",
       "      <th></th>\n",
       "      <th></th>\n",
       "    </tr>\n",
       "  </thead>\n",
       "  <tbody>\n",
       "    <tr>\n",
       "      <th>0</th>\n",
       "      <td>22088.434794</td>\n",
       "      <td>0.000000</td>\n",
       "      <td>0.00000</td>\n",
       "      <td>114.136254</td>\n",
       "      <td>1989.927562</td>\n",
       "      <td>28.383354</td>\n",
       "    </tr>\n",
       "    <tr>\n",
       "      <th>1</th>\n",
       "      <td>21963.565751</td>\n",
       "      <td>1.000000</td>\n",
       "      <td>0.00000</td>\n",
       "      <td>115.419780</td>\n",
       "      <td>1987.947705</td>\n",
       "      <td>30.873071</td>\n",
       "    </tr>\n",
       "    <tr>\n",
       "      <th>2</th>\n",
       "      <td>22097.413123</td>\n",
       "      <td>0.387927</td>\n",
       "      <td>1.00000</td>\n",
       "      <td>121.524572</td>\n",
       "      <td>1987.215366</td>\n",
       "      <td>30.398396</td>\n",
       "    </tr>\n",
       "    <tr>\n",
       "      <th>3</th>\n",
       "      <td>21745.547107</td>\n",
       "      <td>0.021742</td>\n",
       "      <td>0.01602</td>\n",
       "      <td>231.444106</td>\n",
       "      <td>1971.976867</td>\n",
       "      <td>43.327883</td>\n",
       "    </tr>\n",
       "  </tbody>\n",
       "</table>\n",
       "</div>"
      ],
      "text/plain": [
       "                      user ID  Is_First_Order  User_Gender     Revenue  \\\n",
       "Segment K-means                                                          \n",
       "0                22088.434794        0.000000      0.00000  114.136254   \n",
       "1                21963.565751        1.000000      0.00000  115.419780   \n",
       "2                22097.413123        0.387927      1.00000  121.524572   \n",
       "3                21745.547107        0.021742      0.01602  231.444106   \n",
       "\n",
       "                 User_Birthyear   User_Age  \n",
       "Segment K-means                             \n",
       "0                   1989.927562  28.383354  \n",
       "1                   1987.947705  30.873071  \n",
       "2                   1987.215366  30.398396  \n",
       "3                   1971.976867  43.327883  "
      ]
     },
     "execution_count": 119,
     "metadata": {},
     "output_type": "execute_result"
    }
   ],
   "source": [
    "# Calculate mean values for the clusters\n",
    "df_segm_analysis = df_segm_kmeans.groupby(['Segment K-means']).mean()\n",
    "df_segm_analysis"
   ]
  },
  {
   "cell_type": "code",
   "execution_count": 120,
   "metadata": {},
   "outputs": [],
   "source": [
    "# Compute the size and proportions of the four clusters\n",
    "df_segm_analysis['N Obs'] = df_segm_kmeans[['Segment K-means','City']].groupby(['Segment K-means']).count()\n",
    "df_segm_analysis['Prop Obs'] = df_segm_analysis['N Obs'] / df_segm_analysis['N Obs'].sum()"
   ]
  },
  {
   "cell_type": "code",
   "execution_count": 121,
   "metadata": {},
   "outputs": [
    {
     "data": {
      "text/html": [
       "<div>\n",
       "<style scoped>\n",
       "    .dataframe tbody tr th:only-of-type {\n",
       "        vertical-align: middle;\n",
       "    }\n",
       "\n",
       "    .dataframe tbody tr th {\n",
       "        vertical-align: top;\n",
       "    }\n",
       "\n",
       "    .dataframe thead th {\n",
       "        text-align: right;\n",
       "    }\n",
       "</style>\n",
       "<table border=\"1\" class=\"dataframe\">\n",
       "  <thead>\n",
       "    <tr style=\"text-align: right;\">\n",
       "      <th></th>\n",
       "      <th>user ID</th>\n",
       "      <th>Is_First_Order</th>\n",
       "      <th>User_Gender</th>\n",
       "      <th>Revenue</th>\n",
       "      <th>User_Birthyear</th>\n",
       "      <th>User_Age</th>\n",
       "      <th>N Obs</th>\n",
       "      <th>Prop Obs</th>\n",
       "    </tr>\n",
       "    <tr>\n",
       "      <th>Segment K-means</th>\n",
       "      <th></th>\n",
       "      <th></th>\n",
       "      <th></th>\n",
       "      <th></th>\n",
       "      <th></th>\n",
       "      <th></th>\n",
       "      <th></th>\n",
       "      <th></th>\n",
       "    </tr>\n",
       "  </thead>\n",
       "  <tbody>\n",
       "    <tr>\n",
       "      <th>0</th>\n",
       "      <td>22088.434794</td>\n",
       "      <td>0.000000</td>\n",
       "      <td>0.00000</td>\n",
       "      <td>114.136254</td>\n",
       "      <td>1989.927562</td>\n",
       "      <td>28.383354</td>\n",
       "      <td>26194</td>\n",
       "      <td>0.524058</td>\n",
       "    </tr>\n",
       "    <tr>\n",
       "      <th>1</th>\n",
       "      <td>21963.565751</td>\n",
       "      <td>1.000000</td>\n",
       "      <td>0.00000</td>\n",
       "      <td>115.419780</td>\n",
       "      <td>1987.947705</td>\n",
       "      <td>30.873071</td>\n",
       "      <td>8304</td>\n",
       "      <td>0.166136</td>\n",
       "    </tr>\n",
       "    <tr>\n",
       "      <th>2</th>\n",
       "      <td>22097.413123</td>\n",
       "      <td>0.387927</td>\n",
       "      <td>1.00000</td>\n",
       "      <td>121.524572</td>\n",
       "      <td>1987.215366</td>\n",
       "      <td>30.398396</td>\n",
       "      <td>7620</td>\n",
       "      <td>0.152452</td>\n",
       "    </tr>\n",
       "    <tr>\n",
       "      <th>3</th>\n",
       "      <td>21745.547107</td>\n",
       "      <td>0.021742</td>\n",
       "      <td>0.01602</td>\n",
       "      <td>231.444106</td>\n",
       "      <td>1971.976867</td>\n",
       "      <td>43.327883</td>\n",
       "      <td>7865</td>\n",
       "      <td>0.157354</td>\n",
       "    </tr>\n",
       "  </tbody>\n",
       "</table>\n",
       "</div>"
      ],
      "text/plain": [
       "                      user ID  Is_First_Order  User_Gender     Revenue  \\\n",
       "Segment K-means                                                          \n",
       "0                22088.434794        0.000000      0.00000  114.136254   \n",
       "1                21963.565751        1.000000      0.00000  115.419780   \n",
       "2                22097.413123        0.387927      1.00000  121.524572   \n",
       "3                21745.547107        0.021742      0.01602  231.444106   \n",
       "\n",
       "                 User_Birthyear   User_Age  N Obs  Prop Obs  \n",
       "Segment K-means                                              \n",
       "0                   1989.927562  28.383354  26194  0.524058  \n",
       "1                   1987.947705  30.873071   8304  0.166136  \n",
       "2                   1987.215366  30.398396   7620  0.152452  \n",
       "3                   1971.976867  43.327883   7865  0.157354  "
      ]
     },
     "execution_count": 121,
     "metadata": {},
     "output_type": "execute_result"
    }
   ],
   "source": [
    "df_segm_analysis"
   ]
  },
  {
   "cell_type": "code",
   "execution_count": 122,
   "metadata": {},
   "outputs": [
    {
     "data": {
      "text/html": [
       "<div>\n",
       "<style scoped>\n",
       "    .dataframe tbody tr th:only-of-type {\n",
       "        vertical-align: middle;\n",
       "    }\n",
       "\n",
       "    .dataframe tbody tr th {\n",
       "        vertical-align: top;\n",
       "    }\n",
       "\n",
       "    .dataframe thead th {\n",
       "        text-align: right;\n",
       "    }\n",
       "</style>\n",
       "<table border=\"1\" class=\"dataframe\">\n",
       "  <thead>\n",
       "    <tr style=\"text-align: right;\">\n",
       "      <th></th>\n",
       "      <th>user ID</th>\n",
       "      <th>Is_First_Order</th>\n",
       "      <th>User_Gender</th>\n",
       "      <th>Revenue</th>\n",
       "      <th>User_Birthyear</th>\n",
       "      <th>User_Age</th>\n",
       "      <th>N Obs</th>\n",
       "      <th>Prop Obs</th>\n",
       "    </tr>\n",
       "    <tr>\n",
       "      <th>Segment K-means</th>\n",
       "      <th></th>\n",
       "      <th></th>\n",
       "      <th></th>\n",
       "      <th></th>\n",
       "      <th></th>\n",
       "      <th></th>\n",
       "      <th></th>\n",
       "      <th></th>\n",
       "    </tr>\n",
       "  </thead>\n",
       "  <tbody>\n",
       "    <tr>\n",
       "      <th>fewer-opportunities</th>\n",
       "      <td>22088.434794</td>\n",
       "      <td>0.000000</td>\n",
       "      <td>0.00000</td>\n",
       "      <td>114.136254</td>\n",
       "      <td>1989.927562</td>\n",
       "      <td>28.383354</td>\n",
       "      <td>26194</td>\n",
       "      <td>0.524058</td>\n",
       "    </tr>\n",
       "    <tr>\n",
       "      <th>average</th>\n",
       "      <td>21963.565751</td>\n",
       "      <td>1.000000</td>\n",
       "      <td>0.00000</td>\n",
       "      <td>115.419780</td>\n",
       "      <td>1987.947705</td>\n",
       "      <td>30.873071</td>\n",
       "      <td>8304</td>\n",
       "      <td>0.166136</td>\n",
       "    </tr>\n",
       "    <tr>\n",
       "      <th>standard</th>\n",
       "      <td>22097.413123</td>\n",
       "      <td>0.387927</td>\n",
       "      <td>1.00000</td>\n",
       "      <td>121.524572</td>\n",
       "      <td>1987.215366</td>\n",
       "      <td>30.398396</td>\n",
       "      <td>7620</td>\n",
       "      <td>0.152452</td>\n",
       "    </tr>\n",
       "    <tr>\n",
       "      <th>well-off</th>\n",
       "      <td>21745.547107</td>\n",
       "      <td>0.021742</td>\n",
       "      <td>0.01602</td>\n",
       "      <td>231.444106</td>\n",
       "      <td>1971.976867</td>\n",
       "      <td>43.327883</td>\n",
       "      <td>7865</td>\n",
       "      <td>0.157354</td>\n",
       "    </tr>\n",
       "  </tbody>\n",
       "</table>\n",
       "</div>"
      ],
      "text/plain": [
       "                          user ID  Is_First_Order  User_Gender     Revenue  \\\n",
       "Segment K-means                                                              \n",
       "fewer-opportunities  22088.434794        0.000000      0.00000  114.136254   \n",
       "average              21963.565751        1.000000      0.00000  115.419780   \n",
       "standard             22097.413123        0.387927      1.00000  121.524572   \n",
       "well-off             21745.547107        0.021742      0.01602  231.444106   \n",
       "\n",
       "                     User_Birthyear   User_Age  N Obs  Prop Obs  \n",
       "Segment K-means                                                  \n",
       "fewer-opportunities     1989.927562  28.383354  26194  0.524058  \n",
       "average                 1987.947705  30.873071   8304  0.166136  \n",
       "standard                1987.215366  30.398396   7620  0.152452  \n",
       "well-off                1971.976867  43.327883   7865  0.157354  "
      ]
     },
     "execution_count": 122,
     "metadata": {},
     "output_type": "execute_result"
    }
   ],
   "source": [
    "df_segm_analysis.rename({0:'fewer-opportunities',\n",
    "                         1:'average',\n",
    "                         2:'standard',\n",
    "                         3:'well-off'})"
   ]
  },
  {
   "cell_type": "code",
   "execution_count": 123,
   "metadata": {},
   "outputs": [],
   "source": [
    "# Add the segment labels to our table\n",
    "df_segm_kmeans['Labels'] = df_segm_kmeans['Segment K-means'].map({0:'fewer-opportunities',\n",
    "                                                                 1:'average',\n",
    "                                                                 2:'standard',\n",
    "                                                                 3:'well-off'})"
   ]
  },
  {
   "cell_type": "code",
   "execution_count": 124,
   "metadata": {},
   "outputs": [
    {
     "data": {
      "text/html": [
       "<div>\n",
       "<style scoped>\n",
       "    .dataframe tbody tr th:only-of-type {\n",
       "        vertical-align: middle;\n",
       "    }\n",
       "\n",
       "    .dataframe tbody tr th {\n",
       "        vertical-align: top;\n",
       "    }\n",
       "\n",
       "    .dataframe thead th {\n",
       "        text-align: right;\n",
       "    }\n",
       "</style>\n",
       "<table border=\"1\" class=\"dataframe\">\n",
       "  <thead>\n",
       "    <tr style=\"text-align: right;\">\n",
       "      <th></th>\n",
       "      <th>timestamp</th>\n",
       "      <th>user ID</th>\n",
       "      <th>ip_address</th>\n",
       "      <th>Product_Name</th>\n",
       "      <th>Product_ID</th>\n",
       "      <th>Is_First_Order</th>\n",
       "      <th>User_Gender</th>\n",
       "      <th>Payment_Type</th>\n",
       "      <th>Number_of_Products</th>\n",
       "      <th>Order_Coupon_Code</th>\n",
       "      <th>City</th>\n",
       "      <th>Country_Province</th>\n",
       "      <th>User_Birthday</th>\n",
       "      <th>Country</th>\n",
       "      <th>Revenue</th>\n",
       "      <th>User_Birthyear</th>\n",
       "      <th>User_Age</th>\n",
       "      <th>Segment K-means</th>\n",
       "      <th>Labels</th>\n",
       "    </tr>\n",
       "  </thead>\n",
       "  <tbody>\n",
       "    <tr>\n",
       "      <th>0</th>\n",
       "      <td>2017-10-21 20:52:31</td>\n",
       "      <td>0</td>\n",
       "      <td>49.227.243.31</td>\n",
       "      <td>Kendrick</td>\n",
       "      <td>SE043SH31VBS</td>\n",
       "      <td>0</td>\n",
       "      <td>0</td>\n",
       "      <td>cc@braintree</td>\n",
       "      <td>1</td>\n",
       "      <td>YAY15</td>\n",
       "      <td>Kaitaia</td>\n",
       "      <td>NSW</td>\n",
       "      <td>1993-10-05</td>\n",
       "      <td>NZ</td>\n",
       "      <td>212.50</td>\n",
       "      <td>1993.0</td>\n",
       "      <td>24.0</td>\n",
       "      <td>0</td>\n",
       "      <td>fewer-opportunities</td>\n",
       "    </tr>\n",
       "    <tr>\n",
       "      <th>1</th>\n",
       "      <td>2017-10-21 20:55:12</td>\n",
       "      <td>0</td>\n",
       "      <td>111.220.172.119</td>\n",
       "      <td>Smartwatch Bradshaw Gold</td>\n",
       "      <td>MI329AC90OUB</td>\n",
       "      <td>1</td>\n",
       "      <td>1</td>\n",
       "      <td>pbi@afterpay</td>\n",
       "      <td>1</td>\n",
       "      <td>NaN</td>\n",
       "      <td>Shepparton</td>\n",
       "      <td>VIC</td>\n",
       "      <td>NaT</td>\n",
       "      <td>AU</td>\n",
       "      <td>526.36</td>\n",
       "      <td>NaN</td>\n",
       "      <td>24.0</td>\n",
       "      <td>2</td>\n",
       "      <td>standard</td>\n",
       "    </tr>\n",
       "  </tbody>\n",
       "</table>\n",
       "</div>"
      ],
      "text/plain": [
       "            timestamp  user ID       ip_address              Product_Name  \\\n",
       "0 2017-10-21 20:52:31        0    49.227.243.31                  Kendrick   \n",
       "1 2017-10-21 20:55:12        0  111.220.172.119  Smartwatch Bradshaw Gold   \n",
       "\n",
       "     Product_ID  Is_First_Order  User_Gender  Payment_Type Number_of_Products  \\\n",
       "0  SE043SH31VBS               0            0  cc@braintree                  1   \n",
       "1  MI329AC90OUB               1            1  pbi@afterpay                  1   \n",
       "\n",
       "  Order_Coupon_Code        City Country_Province User_Birthday Country  \\\n",
       "0             YAY15     Kaitaia              NSW    1993-10-05      NZ   \n",
       "1               NaN  Shepparton              VIC           NaT      AU   \n",
       "\n",
       "   Revenue  User_Birthyear  User_Age  Segment K-means               Labels  \n",
       "0   212.50          1993.0      24.0                0  fewer-opportunities  \n",
       "1   526.36             NaN      24.0                2             standard  "
      ]
     },
     "execution_count": 124,
     "metadata": {},
     "output_type": "execute_result"
    }
   ],
   "source": [
    "df_segm_kmeans.head(2)"
   ]
  },
  {
   "cell_type": "code",
   "execution_count": 128,
   "metadata": {},
   "outputs": [
    {
     "ename": "ValueError",
     "evalue": "zero-size array to reduction operation minimum which has no identity",
     "output_type": "error",
     "traceback": [
      "\u001b[1;31m---------------------------------------------------------------------------\u001b[0m",
      "\u001b[1;31mValueError\u001b[0m                                Traceback (most recent call last)",
      "\u001b[1;32mc:\\users\\abuton\\appdata\\local\\programs\\python\\python37\\lib\\site-packages\\IPython\\core\\formatters.py\u001b[0m in \u001b[0;36m__call__\u001b[1;34m(self, obj)\u001b[0m\n\u001b[0;32m    339\u001b[0m                 \u001b[1;32mpass\u001b[0m\u001b[1;33m\u001b[0m\u001b[1;33m\u001b[0m\u001b[0m\n\u001b[0;32m    340\u001b[0m             \u001b[1;32melse\u001b[0m\u001b[1;33m:\u001b[0m\u001b[1;33m\u001b[0m\u001b[1;33m\u001b[0m\u001b[0m\n\u001b[1;32m--> 341\u001b[1;33m                 \u001b[1;32mreturn\u001b[0m \u001b[0mprinter\u001b[0m\u001b[1;33m(\u001b[0m\u001b[0mobj\u001b[0m\u001b[1;33m)\u001b[0m\u001b[1;33m\u001b[0m\u001b[1;33m\u001b[0m\u001b[0m\n\u001b[0m\u001b[0;32m    342\u001b[0m             \u001b[1;31m# Finally look for special method names\u001b[0m\u001b[1;33m\u001b[0m\u001b[1;33m\u001b[0m\u001b[1;33m\u001b[0m\u001b[0m\n\u001b[0;32m    343\u001b[0m             \u001b[0mmethod\u001b[0m \u001b[1;33m=\u001b[0m \u001b[0mget_real_method\u001b[0m\u001b[1;33m(\u001b[0m\u001b[0mobj\u001b[0m\u001b[1;33m,\u001b[0m \u001b[0mself\u001b[0m\u001b[1;33m.\u001b[0m\u001b[0mprint_method\u001b[0m\u001b[1;33m)\u001b[0m\u001b[1;33m\u001b[0m\u001b[1;33m\u001b[0m\u001b[0m\n",
      "\u001b[1;32mc:\\users\\abuton\\appdata\\local\\programs\\python\\python37\\lib\\site-packages\\IPython\\core\\pylabtools.py\u001b[0m in \u001b[0;36m<lambda>\u001b[1;34m(fig)\u001b[0m\n\u001b[0;32m    246\u001b[0m \u001b[1;33m\u001b[0m\u001b[0m\n\u001b[0;32m    247\u001b[0m     \u001b[1;32mif\u001b[0m \u001b[1;34m'png'\u001b[0m \u001b[1;32min\u001b[0m \u001b[0mformats\u001b[0m\u001b[1;33m:\u001b[0m\u001b[1;33m\u001b[0m\u001b[1;33m\u001b[0m\u001b[0m\n\u001b[1;32m--> 248\u001b[1;33m         \u001b[0mpng_formatter\u001b[0m\u001b[1;33m.\u001b[0m\u001b[0mfor_type\u001b[0m\u001b[1;33m(\u001b[0m\u001b[0mFigure\u001b[0m\u001b[1;33m,\u001b[0m \u001b[1;32mlambda\u001b[0m \u001b[0mfig\u001b[0m\u001b[1;33m:\u001b[0m \u001b[0mprint_figure\u001b[0m\u001b[1;33m(\u001b[0m\u001b[0mfig\u001b[0m\u001b[1;33m,\u001b[0m \u001b[1;34m'png'\u001b[0m\u001b[1;33m,\u001b[0m \u001b[1;33m**\u001b[0m\u001b[0mkwargs\u001b[0m\u001b[1;33m)\u001b[0m\u001b[1;33m)\u001b[0m\u001b[1;33m\u001b[0m\u001b[1;33m\u001b[0m\u001b[0m\n\u001b[0m\u001b[0;32m    249\u001b[0m     \u001b[1;32mif\u001b[0m \u001b[1;34m'retina'\u001b[0m \u001b[1;32min\u001b[0m \u001b[0mformats\u001b[0m \u001b[1;32mor\u001b[0m \u001b[1;34m'png2x'\u001b[0m \u001b[1;32min\u001b[0m \u001b[0mformats\u001b[0m\u001b[1;33m:\u001b[0m\u001b[1;33m\u001b[0m\u001b[1;33m\u001b[0m\u001b[0m\n\u001b[0;32m    250\u001b[0m         \u001b[0mpng_formatter\u001b[0m\u001b[1;33m.\u001b[0m\u001b[0mfor_type\u001b[0m\u001b[1;33m(\u001b[0m\u001b[0mFigure\u001b[0m\u001b[1;33m,\u001b[0m \u001b[1;32mlambda\u001b[0m \u001b[0mfig\u001b[0m\u001b[1;33m:\u001b[0m \u001b[0mretina_figure\u001b[0m\u001b[1;33m(\u001b[0m\u001b[0mfig\u001b[0m\u001b[1;33m,\u001b[0m \u001b[1;33m**\u001b[0m\u001b[0mkwargs\u001b[0m\u001b[1;33m)\u001b[0m\u001b[1;33m)\u001b[0m\u001b[1;33m\u001b[0m\u001b[1;33m\u001b[0m\u001b[0m\n",
      "\u001b[1;32mc:\\users\\abuton\\appdata\\local\\programs\\python\\python37\\lib\\site-packages\\IPython\\core\\pylabtools.py\u001b[0m in \u001b[0;36mprint_figure\u001b[1;34m(fig, fmt, bbox_inches, **kwargs)\u001b[0m\n\u001b[0;32m    130\u001b[0m         \u001b[0mFigureCanvasBase\u001b[0m\u001b[1;33m(\u001b[0m\u001b[0mfig\u001b[0m\u001b[1;33m)\u001b[0m\u001b[1;33m\u001b[0m\u001b[1;33m\u001b[0m\u001b[0m\n\u001b[0;32m    131\u001b[0m \u001b[1;33m\u001b[0m\u001b[0m\n\u001b[1;32m--> 132\u001b[1;33m     \u001b[0mfig\u001b[0m\u001b[1;33m.\u001b[0m\u001b[0mcanvas\u001b[0m\u001b[1;33m.\u001b[0m\u001b[0mprint_figure\u001b[0m\u001b[1;33m(\u001b[0m\u001b[0mbytes_io\u001b[0m\u001b[1;33m,\u001b[0m \u001b[1;33m**\u001b[0m\u001b[0mkw\u001b[0m\u001b[1;33m)\u001b[0m\u001b[1;33m\u001b[0m\u001b[1;33m\u001b[0m\u001b[0m\n\u001b[0m\u001b[0;32m    133\u001b[0m     \u001b[0mdata\u001b[0m \u001b[1;33m=\u001b[0m \u001b[0mbytes_io\u001b[0m\u001b[1;33m.\u001b[0m\u001b[0mgetvalue\u001b[0m\u001b[1;33m(\u001b[0m\u001b[1;33m)\u001b[0m\u001b[1;33m\u001b[0m\u001b[1;33m\u001b[0m\u001b[0m\n\u001b[0;32m    134\u001b[0m     \u001b[1;32mif\u001b[0m \u001b[0mfmt\u001b[0m \u001b[1;33m==\u001b[0m \u001b[1;34m'svg'\u001b[0m\u001b[1;33m:\u001b[0m\u001b[1;33m\u001b[0m\u001b[1;33m\u001b[0m\u001b[0m\n",
      "\u001b[1;32mc:\\users\\abuton\\appdata\\local\\programs\\python\\python37\\lib\\site-packages\\matplotlib\\backend_bases.py\u001b[0m in \u001b[0;36mprint_figure\u001b[1;34m(self, filename, dpi, facecolor, edgecolor, orientation, format, bbox_inches, pad_inches, bbox_extra_artists, backend, **kwargs)\u001b[0m\n\u001b[0;32m   2191\u001b[0m                            else suppress())\n\u001b[0;32m   2192\u001b[0m                     \u001b[1;32mwith\u001b[0m \u001b[0mctx\u001b[0m\u001b[1;33m:\u001b[0m\u001b[1;33m\u001b[0m\u001b[1;33m\u001b[0m\u001b[0m\n\u001b[1;32m-> 2193\u001b[1;33m                         \u001b[0mself\u001b[0m\u001b[1;33m.\u001b[0m\u001b[0mfigure\u001b[0m\u001b[1;33m.\u001b[0m\u001b[0mdraw\u001b[0m\u001b[1;33m(\u001b[0m\u001b[0mrenderer\u001b[0m\u001b[1;33m)\u001b[0m\u001b[1;33m\u001b[0m\u001b[1;33m\u001b[0m\u001b[0m\n\u001b[0m\u001b[0;32m   2194\u001b[0m \u001b[1;33m\u001b[0m\u001b[0m\n\u001b[0;32m   2195\u001b[0m                     bbox_inches = self.figure.get_tightbbox(\n",
      "\u001b[1;32mc:\\users\\abuton\\appdata\\local\\programs\\python\\python37\\lib\\site-packages\\matplotlib\\artist.py\u001b[0m in \u001b[0;36mdraw_wrapper\u001b[1;34m(artist, renderer, *args, **kwargs)\u001b[0m\n\u001b[0;32m     39\u001b[0m                 \u001b[0mrenderer\u001b[0m\u001b[1;33m.\u001b[0m\u001b[0mstart_filter\u001b[0m\u001b[1;33m(\u001b[0m\u001b[1;33m)\u001b[0m\u001b[1;33m\u001b[0m\u001b[1;33m\u001b[0m\u001b[0m\n\u001b[0;32m     40\u001b[0m \u001b[1;33m\u001b[0m\u001b[0m\n\u001b[1;32m---> 41\u001b[1;33m             \u001b[1;32mreturn\u001b[0m \u001b[0mdraw\u001b[0m\u001b[1;33m(\u001b[0m\u001b[0martist\u001b[0m\u001b[1;33m,\u001b[0m \u001b[0mrenderer\u001b[0m\u001b[1;33m,\u001b[0m \u001b[1;33m*\u001b[0m\u001b[0margs\u001b[0m\u001b[1;33m,\u001b[0m \u001b[1;33m**\u001b[0m\u001b[0mkwargs\u001b[0m\u001b[1;33m)\u001b[0m\u001b[1;33m\u001b[0m\u001b[1;33m\u001b[0m\u001b[0m\n\u001b[0m\u001b[0;32m     42\u001b[0m         \u001b[1;32mfinally\u001b[0m\u001b[1;33m:\u001b[0m\u001b[1;33m\u001b[0m\u001b[1;33m\u001b[0m\u001b[0m\n\u001b[0;32m     43\u001b[0m             \u001b[1;32mif\u001b[0m \u001b[0martist\u001b[0m\u001b[1;33m.\u001b[0m\u001b[0mget_agg_filter\u001b[0m\u001b[1;33m(\u001b[0m\u001b[1;33m)\u001b[0m \u001b[1;32mis\u001b[0m \u001b[1;32mnot\u001b[0m \u001b[1;32mNone\u001b[0m\u001b[1;33m:\u001b[0m\u001b[1;33m\u001b[0m\u001b[1;33m\u001b[0m\u001b[0m\n",
      "\u001b[1;32mc:\\users\\abuton\\appdata\\local\\programs\\python\\python37\\lib\\site-packages\\matplotlib\\figure.py\u001b[0m in \u001b[0;36mdraw\u001b[1;34m(self, renderer)\u001b[0m\n\u001b[0;32m   1862\u001b[0m             \u001b[0mself\u001b[0m\u001b[1;33m.\u001b[0m\u001b[0mpatch\u001b[0m\u001b[1;33m.\u001b[0m\u001b[0mdraw\u001b[0m\u001b[1;33m(\u001b[0m\u001b[0mrenderer\u001b[0m\u001b[1;33m)\u001b[0m\u001b[1;33m\u001b[0m\u001b[1;33m\u001b[0m\u001b[0m\n\u001b[0;32m   1863\u001b[0m             mimage._draw_list_compositing_images(\n\u001b[1;32m-> 1864\u001b[1;33m                 renderer, self, artists, self.suppressComposite)\n\u001b[0m\u001b[0;32m   1865\u001b[0m \u001b[1;33m\u001b[0m\u001b[0m\n\u001b[0;32m   1866\u001b[0m             \u001b[0mrenderer\u001b[0m\u001b[1;33m.\u001b[0m\u001b[0mclose_group\u001b[0m\u001b[1;33m(\u001b[0m\u001b[1;34m'figure'\u001b[0m\u001b[1;33m)\u001b[0m\u001b[1;33m\u001b[0m\u001b[1;33m\u001b[0m\u001b[0m\n",
      "\u001b[1;32mc:\\users\\abuton\\appdata\\local\\programs\\python\\python37\\lib\\site-packages\\matplotlib\\image.py\u001b[0m in \u001b[0;36m_draw_list_compositing_images\u001b[1;34m(renderer, parent, artists, suppress_composite)\u001b[0m\n\u001b[0;32m    129\u001b[0m     \u001b[1;32mif\u001b[0m \u001b[0mnot_composite\u001b[0m \u001b[1;32mor\u001b[0m \u001b[1;32mnot\u001b[0m \u001b[0mhas_images\u001b[0m\u001b[1;33m:\u001b[0m\u001b[1;33m\u001b[0m\u001b[1;33m\u001b[0m\u001b[0m\n\u001b[0;32m    130\u001b[0m         \u001b[1;32mfor\u001b[0m \u001b[0ma\u001b[0m \u001b[1;32min\u001b[0m \u001b[0martists\u001b[0m\u001b[1;33m:\u001b[0m\u001b[1;33m\u001b[0m\u001b[1;33m\u001b[0m\u001b[0m\n\u001b[1;32m--> 131\u001b[1;33m             \u001b[0ma\u001b[0m\u001b[1;33m.\u001b[0m\u001b[0mdraw\u001b[0m\u001b[1;33m(\u001b[0m\u001b[0mrenderer\u001b[0m\u001b[1;33m)\u001b[0m\u001b[1;33m\u001b[0m\u001b[1;33m\u001b[0m\u001b[0m\n\u001b[0m\u001b[0;32m    132\u001b[0m     \u001b[1;32melse\u001b[0m\u001b[1;33m:\u001b[0m\u001b[1;33m\u001b[0m\u001b[1;33m\u001b[0m\u001b[0m\n\u001b[0;32m    133\u001b[0m         \u001b[1;31m# Composite any adjacent images together\u001b[0m\u001b[1;33m\u001b[0m\u001b[1;33m\u001b[0m\u001b[1;33m\u001b[0m\u001b[0m\n",
      "\u001b[1;32mc:\\users\\abuton\\appdata\\local\\programs\\python\\python37\\lib\\site-packages\\matplotlib\\artist.py\u001b[0m in \u001b[0;36mdraw_wrapper\u001b[1;34m(artist, renderer, *args, **kwargs)\u001b[0m\n\u001b[0;32m     39\u001b[0m                 \u001b[0mrenderer\u001b[0m\u001b[1;33m.\u001b[0m\u001b[0mstart_filter\u001b[0m\u001b[1;33m(\u001b[0m\u001b[1;33m)\u001b[0m\u001b[1;33m\u001b[0m\u001b[1;33m\u001b[0m\u001b[0m\n\u001b[0;32m     40\u001b[0m \u001b[1;33m\u001b[0m\u001b[0m\n\u001b[1;32m---> 41\u001b[1;33m             \u001b[1;32mreturn\u001b[0m \u001b[0mdraw\u001b[0m\u001b[1;33m(\u001b[0m\u001b[0martist\u001b[0m\u001b[1;33m,\u001b[0m \u001b[0mrenderer\u001b[0m\u001b[1;33m,\u001b[0m \u001b[1;33m*\u001b[0m\u001b[0margs\u001b[0m\u001b[1;33m,\u001b[0m \u001b[1;33m**\u001b[0m\u001b[0mkwargs\u001b[0m\u001b[1;33m)\u001b[0m\u001b[1;33m\u001b[0m\u001b[1;33m\u001b[0m\u001b[0m\n\u001b[0m\u001b[0;32m     42\u001b[0m         \u001b[1;32mfinally\u001b[0m\u001b[1;33m:\u001b[0m\u001b[1;33m\u001b[0m\u001b[1;33m\u001b[0m\u001b[0m\n\u001b[0;32m     43\u001b[0m             \u001b[1;32mif\u001b[0m \u001b[0martist\u001b[0m\u001b[1;33m.\u001b[0m\u001b[0mget_agg_filter\u001b[0m\u001b[1;33m(\u001b[0m\u001b[1;33m)\u001b[0m \u001b[1;32mis\u001b[0m \u001b[1;32mnot\u001b[0m \u001b[1;32mNone\u001b[0m\u001b[1;33m:\u001b[0m\u001b[1;33m\u001b[0m\u001b[1;33m\u001b[0m\u001b[0m\n",
      "\u001b[1;32mc:\\users\\abuton\\appdata\\local\\programs\\python\\python37\\lib\\site-packages\\matplotlib\\cbook\\deprecation.py\u001b[0m in \u001b[0;36mwrapper\u001b[1;34m(*inner_args, **inner_kwargs)\u001b[0m\n\u001b[0;32m    409\u001b[0m                          \u001b[1;32melse\u001b[0m \u001b[0mdeprecation_addendum\u001b[0m\u001b[1;33m,\u001b[0m\u001b[1;33m\u001b[0m\u001b[1;33m\u001b[0m\u001b[0m\n\u001b[0;32m    410\u001b[0m                 **kwargs)\n\u001b[1;32m--> 411\u001b[1;33m         \u001b[1;32mreturn\u001b[0m \u001b[0mfunc\u001b[0m\u001b[1;33m(\u001b[0m\u001b[1;33m*\u001b[0m\u001b[0minner_args\u001b[0m\u001b[1;33m,\u001b[0m \u001b[1;33m**\u001b[0m\u001b[0minner_kwargs\u001b[0m\u001b[1;33m)\u001b[0m\u001b[1;33m\u001b[0m\u001b[1;33m\u001b[0m\u001b[0m\n\u001b[0m\u001b[0;32m    412\u001b[0m \u001b[1;33m\u001b[0m\u001b[0m\n\u001b[0;32m    413\u001b[0m     \u001b[1;32mreturn\u001b[0m \u001b[0mwrapper\u001b[0m\u001b[1;33m\u001b[0m\u001b[1;33m\u001b[0m\u001b[0m\n",
      "\u001b[1;32mc:\\users\\abuton\\appdata\\local\\programs\\python\\python37\\lib\\site-packages\\matplotlib\\axes\\_base.py\u001b[0m in \u001b[0;36mdraw\u001b[1;34m(self, renderer, inframe)\u001b[0m\n\u001b[0;32m   2746\u001b[0m             \u001b[0mrenderer\u001b[0m\u001b[1;33m.\u001b[0m\u001b[0mstop_rasterizing\u001b[0m\u001b[1;33m(\u001b[0m\u001b[1;33m)\u001b[0m\u001b[1;33m\u001b[0m\u001b[1;33m\u001b[0m\u001b[0m\n\u001b[0;32m   2747\u001b[0m \u001b[1;33m\u001b[0m\u001b[0m\n\u001b[1;32m-> 2748\u001b[1;33m         \u001b[0mmimage\u001b[0m\u001b[1;33m.\u001b[0m\u001b[0m_draw_list_compositing_images\u001b[0m\u001b[1;33m(\u001b[0m\u001b[0mrenderer\u001b[0m\u001b[1;33m,\u001b[0m \u001b[0mself\u001b[0m\u001b[1;33m,\u001b[0m \u001b[0martists\u001b[0m\u001b[1;33m)\u001b[0m\u001b[1;33m\u001b[0m\u001b[1;33m\u001b[0m\u001b[0m\n\u001b[0m\u001b[0;32m   2749\u001b[0m \u001b[1;33m\u001b[0m\u001b[0m\n\u001b[0;32m   2750\u001b[0m         \u001b[0mrenderer\u001b[0m\u001b[1;33m.\u001b[0m\u001b[0mclose_group\u001b[0m\u001b[1;33m(\u001b[0m\u001b[1;34m'axes'\u001b[0m\u001b[1;33m)\u001b[0m\u001b[1;33m\u001b[0m\u001b[1;33m\u001b[0m\u001b[0m\n",
      "\u001b[1;32mc:\\users\\abuton\\appdata\\local\\programs\\python\\python37\\lib\\site-packages\\matplotlib\\image.py\u001b[0m in \u001b[0;36m_draw_list_compositing_images\u001b[1;34m(renderer, parent, artists, suppress_composite)\u001b[0m\n\u001b[0;32m    129\u001b[0m     \u001b[1;32mif\u001b[0m \u001b[0mnot_composite\u001b[0m \u001b[1;32mor\u001b[0m \u001b[1;32mnot\u001b[0m \u001b[0mhas_images\u001b[0m\u001b[1;33m:\u001b[0m\u001b[1;33m\u001b[0m\u001b[1;33m\u001b[0m\u001b[0m\n\u001b[0;32m    130\u001b[0m         \u001b[1;32mfor\u001b[0m \u001b[0ma\u001b[0m \u001b[1;32min\u001b[0m \u001b[0martists\u001b[0m\u001b[1;33m:\u001b[0m\u001b[1;33m\u001b[0m\u001b[1;33m\u001b[0m\u001b[0m\n\u001b[1;32m--> 131\u001b[1;33m             \u001b[0ma\u001b[0m\u001b[1;33m.\u001b[0m\u001b[0mdraw\u001b[0m\u001b[1;33m(\u001b[0m\u001b[0mrenderer\u001b[0m\u001b[1;33m)\u001b[0m\u001b[1;33m\u001b[0m\u001b[1;33m\u001b[0m\u001b[0m\n\u001b[0m\u001b[0;32m    132\u001b[0m     \u001b[1;32melse\u001b[0m\u001b[1;33m:\u001b[0m\u001b[1;33m\u001b[0m\u001b[1;33m\u001b[0m\u001b[0m\n\u001b[0;32m    133\u001b[0m         \u001b[1;31m# Composite any adjacent images together\u001b[0m\u001b[1;33m\u001b[0m\u001b[1;33m\u001b[0m\u001b[1;33m\u001b[0m\u001b[0m\n",
      "\u001b[1;32mc:\\users\\abuton\\appdata\\local\\programs\\python\\python37\\lib\\site-packages\\matplotlib\\artist.py\u001b[0m in \u001b[0;36mdraw_wrapper\u001b[1;34m(artist, renderer, *args, **kwargs)\u001b[0m\n\u001b[0;32m     39\u001b[0m                 \u001b[0mrenderer\u001b[0m\u001b[1;33m.\u001b[0m\u001b[0mstart_filter\u001b[0m\u001b[1;33m(\u001b[0m\u001b[1;33m)\u001b[0m\u001b[1;33m\u001b[0m\u001b[1;33m\u001b[0m\u001b[0m\n\u001b[0;32m     40\u001b[0m \u001b[1;33m\u001b[0m\u001b[0m\n\u001b[1;32m---> 41\u001b[1;33m             \u001b[1;32mreturn\u001b[0m \u001b[0mdraw\u001b[0m\u001b[1;33m(\u001b[0m\u001b[0martist\u001b[0m\u001b[1;33m,\u001b[0m \u001b[0mrenderer\u001b[0m\u001b[1;33m,\u001b[0m \u001b[1;33m*\u001b[0m\u001b[0margs\u001b[0m\u001b[1;33m,\u001b[0m \u001b[1;33m**\u001b[0m\u001b[0mkwargs\u001b[0m\u001b[1;33m)\u001b[0m\u001b[1;33m\u001b[0m\u001b[1;33m\u001b[0m\u001b[0m\n\u001b[0m\u001b[0;32m     42\u001b[0m         \u001b[1;32mfinally\u001b[0m\u001b[1;33m:\u001b[0m\u001b[1;33m\u001b[0m\u001b[1;33m\u001b[0m\u001b[0m\n\u001b[0;32m     43\u001b[0m             \u001b[1;32mif\u001b[0m \u001b[0martist\u001b[0m\u001b[1;33m.\u001b[0m\u001b[0mget_agg_filter\u001b[0m\u001b[1;33m(\u001b[0m\u001b[1;33m)\u001b[0m \u001b[1;32mis\u001b[0m \u001b[1;32mnot\u001b[0m \u001b[1;32mNone\u001b[0m\u001b[1;33m:\u001b[0m\u001b[1;33m\u001b[0m\u001b[1;33m\u001b[0m\u001b[0m\n",
      "\u001b[1;32mc:\\users\\abuton\\appdata\\local\\programs\\python\\python37\\lib\\site-packages\\matplotlib\\collections.py\u001b[0m in \u001b[0;36mdraw\u001b[1;34m(self, renderer)\u001b[0m\n\u001b[0;32m    929\u001b[0m     \u001b[1;32mdef\u001b[0m \u001b[0mdraw\u001b[0m\u001b[1;33m(\u001b[0m\u001b[0mself\u001b[0m\u001b[1;33m,\u001b[0m \u001b[0mrenderer\u001b[0m\u001b[1;33m)\u001b[0m\u001b[1;33m:\u001b[0m\u001b[1;33m\u001b[0m\u001b[1;33m\u001b[0m\u001b[0m\n\u001b[0;32m    930\u001b[0m         \u001b[0mself\u001b[0m\u001b[1;33m.\u001b[0m\u001b[0mset_sizes\u001b[0m\u001b[1;33m(\u001b[0m\u001b[0mself\u001b[0m\u001b[1;33m.\u001b[0m\u001b[0m_sizes\u001b[0m\u001b[1;33m,\u001b[0m \u001b[0mself\u001b[0m\u001b[1;33m.\u001b[0m\u001b[0mfigure\u001b[0m\u001b[1;33m.\u001b[0m\u001b[0mdpi\u001b[0m\u001b[1;33m)\u001b[0m\u001b[1;33m\u001b[0m\u001b[1;33m\u001b[0m\u001b[0m\n\u001b[1;32m--> 931\u001b[1;33m         \u001b[0mCollection\u001b[0m\u001b[1;33m.\u001b[0m\u001b[0mdraw\u001b[0m\u001b[1;33m(\u001b[0m\u001b[0mself\u001b[0m\u001b[1;33m,\u001b[0m \u001b[0mrenderer\u001b[0m\u001b[1;33m)\u001b[0m\u001b[1;33m\u001b[0m\u001b[1;33m\u001b[0m\u001b[0m\n\u001b[0m\u001b[0;32m    932\u001b[0m \u001b[1;33m\u001b[0m\u001b[0m\n\u001b[0;32m    933\u001b[0m \u001b[1;33m\u001b[0m\u001b[0m\n",
      "\u001b[1;32mc:\\users\\abuton\\appdata\\local\\programs\\python\\python37\\lib\\site-packages\\matplotlib\\artist.py\u001b[0m in \u001b[0;36mdraw_wrapper\u001b[1;34m(artist, renderer, *args, **kwargs)\u001b[0m\n\u001b[0;32m     39\u001b[0m                 \u001b[0mrenderer\u001b[0m\u001b[1;33m.\u001b[0m\u001b[0mstart_filter\u001b[0m\u001b[1;33m(\u001b[0m\u001b[1;33m)\u001b[0m\u001b[1;33m\u001b[0m\u001b[1;33m\u001b[0m\u001b[0m\n\u001b[0;32m     40\u001b[0m \u001b[1;33m\u001b[0m\u001b[0m\n\u001b[1;32m---> 41\u001b[1;33m             \u001b[1;32mreturn\u001b[0m \u001b[0mdraw\u001b[0m\u001b[1;33m(\u001b[0m\u001b[0martist\u001b[0m\u001b[1;33m,\u001b[0m \u001b[0mrenderer\u001b[0m\u001b[1;33m,\u001b[0m \u001b[1;33m*\u001b[0m\u001b[0margs\u001b[0m\u001b[1;33m,\u001b[0m \u001b[1;33m**\u001b[0m\u001b[0mkwargs\u001b[0m\u001b[1;33m)\u001b[0m\u001b[1;33m\u001b[0m\u001b[1;33m\u001b[0m\u001b[0m\n\u001b[0m\u001b[0;32m     42\u001b[0m         \u001b[1;32mfinally\u001b[0m\u001b[1;33m:\u001b[0m\u001b[1;33m\u001b[0m\u001b[1;33m\u001b[0m\u001b[0m\n\u001b[0;32m     43\u001b[0m             \u001b[1;32mif\u001b[0m \u001b[0martist\u001b[0m\u001b[1;33m.\u001b[0m\u001b[0mget_agg_filter\u001b[0m\u001b[1;33m(\u001b[0m\u001b[1;33m)\u001b[0m \u001b[1;32mis\u001b[0m \u001b[1;32mnot\u001b[0m \u001b[1;32mNone\u001b[0m\u001b[1;33m:\u001b[0m\u001b[1;33m\u001b[0m\u001b[1;33m\u001b[0m\u001b[0m\n",
      "\u001b[1;32mc:\\users\\abuton\\appdata\\local\\programs\\python\\python37\\lib\\site-packages\\matplotlib\\collections.py\u001b[0m in \u001b[0;36mdraw\u001b[1;34m(self, renderer)\u001b[0m\n\u001b[0;32m    383\u001b[0m             \u001b[1;32melse\u001b[0m\u001b[1;33m:\u001b[0m\u001b[1;33m\u001b[0m\u001b[1;33m\u001b[0m\u001b[0m\n\u001b[0;32m    384\u001b[0m                 \u001b[0mcombined_transform\u001b[0m \u001b[1;33m=\u001b[0m \u001b[0mtransform\u001b[0m\u001b[1;33m\u001b[0m\u001b[1;33m\u001b[0m\u001b[0m\n\u001b[1;32m--> 385\u001b[1;33m             \u001b[0mextents\u001b[0m \u001b[1;33m=\u001b[0m \u001b[0mpaths\u001b[0m\u001b[1;33m[\u001b[0m\u001b[1;36m0\u001b[0m\u001b[1;33m]\u001b[0m\u001b[1;33m.\u001b[0m\u001b[0mget_extents\u001b[0m\u001b[1;33m(\u001b[0m\u001b[0mcombined_transform\u001b[0m\u001b[1;33m)\u001b[0m\u001b[1;33m\u001b[0m\u001b[1;33m\u001b[0m\u001b[0m\n\u001b[0m\u001b[0;32m    386\u001b[0m             if (extents.width < self.figure.bbox.width\n\u001b[0;32m    387\u001b[0m                     and extents.height < self.figure.bbox.height):\n",
      "\u001b[1;32mc:\\users\\abuton\\appdata\\local\\programs\\python\\python37\\lib\\site-packages\\matplotlib\\path.py\u001b[0m in \u001b[0;36mget_extents\u001b[1;34m(self, transform, **kwargs)\u001b[0m\n\u001b[0;32m    601\u001b[0m                 \u001b[0mxys\u001b[0m\u001b[1;33m.\u001b[0m\u001b[0mappend\u001b[0m\u001b[1;33m(\u001b[0m\u001b[0mcurve\u001b[0m\u001b[1;33m(\u001b[0m\u001b[1;33m[\u001b[0m\u001b[1;36m0\u001b[0m\u001b[1;33m,\u001b[0m \u001b[1;33m*\u001b[0m\u001b[0mdzeros\u001b[0m\u001b[1;33m,\u001b[0m \u001b[1;36m1\u001b[0m\u001b[1;33m]\u001b[0m\u001b[1;33m)\u001b[0m\u001b[1;33m)\u001b[0m\u001b[1;33m\u001b[0m\u001b[1;33m\u001b[0m\u001b[0m\n\u001b[0;32m    602\u001b[0m             \u001b[0mxys\u001b[0m \u001b[1;33m=\u001b[0m \u001b[0mnp\u001b[0m\u001b[1;33m.\u001b[0m\u001b[0mconcatenate\u001b[0m\u001b[1;33m(\u001b[0m\u001b[0mxys\u001b[0m\u001b[1;33m)\u001b[0m\u001b[1;33m\u001b[0m\u001b[1;33m\u001b[0m\u001b[0m\n\u001b[1;32m--> 603\u001b[1;33m         \u001b[1;32mreturn\u001b[0m \u001b[0mBbox\u001b[0m\u001b[1;33m(\u001b[0m\u001b[1;33m[\u001b[0m\u001b[0mxys\u001b[0m\u001b[1;33m.\u001b[0m\u001b[0mmin\u001b[0m\u001b[1;33m(\u001b[0m\u001b[0maxis\u001b[0m\u001b[1;33m=\u001b[0m\u001b[1;36m0\u001b[0m\u001b[1;33m)\u001b[0m\u001b[1;33m,\u001b[0m \u001b[0mxys\u001b[0m\u001b[1;33m.\u001b[0m\u001b[0mmax\u001b[0m\u001b[1;33m(\u001b[0m\u001b[0maxis\u001b[0m\u001b[1;33m=\u001b[0m\u001b[1;36m0\u001b[0m\u001b[1;33m)\u001b[0m\u001b[1;33m]\u001b[0m\u001b[1;33m)\u001b[0m\u001b[1;33m\u001b[0m\u001b[1;33m\u001b[0m\u001b[0m\n\u001b[0m\u001b[0;32m    604\u001b[0m \u001b[1;33m\u001b[0m\u001b[0m\n\u001b[0;32m    605\u001b[0m     \u001b[1;32mdef\u001b[0m \u001b[0mintersects_path\u001b[0m\u001b[1;33m(\u001b[0m\u001b[0mself\u001b[0m\u001b[1;33m,\u001b[0m \u001b[0mother\u001b[0m\u001b[1;33m,\u001b[0m \u001b[0mfilled\u001b[0m\u001b[1;33m=\u001b[0m\u001b[1;32mTrue\u001b[0m\u001b[1;33m)\u001b[0m\u001b[1;33m:\u001b[0m\u001b[1;33m\u001b[0m\u001b[1;33m\u001b[0m\u001b[0m\n",
      "\u001b[1;32mc:\\users\\abuton\\appdata\\local\\programs\\python\\python37\\lib\\site-packages\\numpy\\core\\_methods.py\u001b[0m in \u001b[0;36m_amin\u001b[1;34m(a, axis, out, keepdims, initial, where)\u001b[0m\n\u001b[0;32m     32\u001b[0m def _amin(a, axis=None, out=None, keepdims=False,\n\u001b[0;32m     33\u001b[0m           initial=_NoValue, where=True):\n\u001b[1;32m---> 34\u001b[1;33m     \u001b[1;32mreturn\u001b[0m \u001b[0mumr_minimum\u001b[0m\u001b[1;33m(\u001b[0m\u001b[0ma\u001b[0m\u001b[1;33m,\u001b[0m \u001b[0maxis\u001b[0m\u001b[1;33m,\u001b[0m \u001b[1;32mNone\u001b[0m\u001b[1;33m,\u001b[0m \u001b[0mout\u001b[0m\u001b[1;33m,\u001b[0m \u001b[0mkeepdims\u001b[0m\u001b[1;33m,\u001b[0m \u001b[0minitial\u001b[0m\u001b[1;33m,\u001b[0m \u001b[0mwhere\u001b[0m\u001b[1;33m)\u001b[0m\u001b[1;33m\u001b[0m\u001b[1;33m\u001b[0m\u001b[0m\n\u001b[0m\u001b[0;32m     35\u001b[0m \u001b[1;33m\u001b[0m\u001b[0m\n\u001b[0;32m     36\u001b[0m def _sum(a, axis=None, dtype=None, out=None, keepdims=False,\n",
      "\u001b[1;31mValueError\u001b[0m: zero-size array to reduction operation minimum which has no identity"
     ]
    },
    {
     "data": {
      "text/plain": [
       "<Figure size 864x576 with 1 Axes>"
      ]
     },
     "metadata": {},
     "output_type": "display_data"
    }
   ],
   "source": [
    "# plot the results from the K-means algorithm. \n",
    "# Each point in our data set is plotted with the color of the clusters it has been assigned to.\n",
    "x_axis = 'User_Age'\n",
    "y_axis = 'Revenue'\n",
    "plt.figure(figsize = (12, 8))\n",
    "sns.scatterplot(x_axis, y_axis, hue = df_segm_kmeans['Labels'], palette = ['g', 'r', 'c', 'm'], data=df_segm_kmeans)\n",
    "plt.title('Segmentation K-means')\n",
    "plt.show()"
   ]
  },
  {
   "cell_type": "markdown",
   "metadata": {},
   "source": [
    "Since the separation is not so clear, i employed the PCA dimentionality reduction method"
   ]
  },
  {
   "cell_type": "code",
   "execution_count": 129,
   "metadata": {},
   "outputs": [],
   "source": [
    "# Employ PCA to find a subset of components, which explain the variance in the data.\n",
    "pca = PCA()"
   ]
  },
  {
   "cell_type": "code",
   "execution_count": 130,
   "metadata": {},
   "outputs": [
    {
     "data": {
      "text/plain": [
       "PCA()"
      ]
     },
     "execution_count": 130,
     "metadata": {},
     "output_type": "execute_result"
    }
   ],
   "source": [
    "# Fit PCA with our standardized data.\n",
    "pca.fit(segmentation_std)"
   ]
  },
  {
   "cell_type": "code",
   "execution_count": 131,
   "metadata": {},
   "outputs": [
    {
     "data": {
      "text/plain": [
       "array([0.29696098, 0.24940507, 0.24377   , 0.20986395])"
      ]
     },
     "execution_count": 131,
     "metadata": {},
     "output_type": "execute_result"
    }
   ],
   "source": [
    "# The attribute shows how much variance is explained by each of the seven individual components.\n",
    "pca.explained_variance_ratio_"
   ]
  },
  {
   "cell_type": "code",
   "execution_count": 133,
   "metadata": {},
   "outputs": [
    {
     "data": {
      "text/plain": [
       "Text(0, 0.5, 'Cumulative Explained Variance')"
      ]
     },
     "execution_count": 133,
     "metadata": {},
     "output_type": "execute_result"
    },
    {
     "data": {
      "image/png": "[encoded data removed]",
      "text/plain": [
       "<Figure size 864x648 with 1 Axes>"
      ]
     },
     "metadata": {},
     "output_type": "display_data"
    }
   ],
   "source": [
    "# Plot the cumulative variance explained by total number of components.\n",
    "# On this graph we choose the subset of components we want to keep. \n",
    "# Generally, we want to keep around 80 % of the explained variance.\n",
    "plt.figure(figsize = (12,9))\n",
    "plt.plot(range(1,5), pca.explained_variance_ratio_.cumsum(), marker = 'o', linestyle = '--')\n",
    "plt.title('Explained Variance by Components')\n",
    "plt.xlabel('Number of Components')\n",
    "plt.ylabel('Cumulative Explained Variance')"
   ]
  },
  {
   "cell_type": "code",
   "execution_count": 134,
   "metadata": {},
   "outputs": [],
   "source": [
    "# We choose three components. 3 or 4 seems the right choice according to the previous graph.\n",
    "pca = PCA(n_components = 3)"
   ]
  },
  {
   "cell_type": "code",
   "execution_count": 135,
   "metadata": {},
   "outputs": [
    {
     "data": {
      "text/plain": [
       "PCA(n_components=3)"
      ]
     },
     "execution_count": 135,
     "metadata": {},
     "output_type": "execute_result"
    }
   ],
   "source": [
    "#Fit the model the our data with the selected number of components. In our case three.\n",
    "pca.fit(segmentation_std)"
   ]
  },
  {
   "cell_type": "markdown",
   "metadata": {},
   "source": [
    "#### PCA Results"
   ]
  },
  {
   "cell_type": "code",
   "execution_count": 136,
   "metadata": {},
   "outputs": [
    {
     "data": {
      "text/plain": [
       "array([[ 0.21857039,  0.3234744 , -0.65881712, -0.64307954],\n",
       "       [ 0.82138902,  0.44816995,  0.24170809,  0.25698437],\n",
       "       [-0.52365592,  0.82505726,  0.02567497,  0.21072683]])"
      ]
     },
     "execution_count": 136,
     "metadata": {},
     "output_type": "execute_result"
    }
   ],
   "source": [
    "# The components attribute shows the loadings of each component on each of the seven original features.\n",
    "# The loadings are the correlations between the components and the original features. \n",
    "pca.components_"
   ]
  },
  {
   "cell_type": "code",
   "execution_count": 137,
   "metadata": {},
   "outputs": [
    {
     "data": {
      "text/html": [
       "<div>\n",
       "<style scoped>\n",
       "    .dataframe tbody tr th:only-of-type {\n",
       "        vertical-align: middle;\n",
       "    }\n",
       "\n",
       "    .dataframe tbody tr th {\n",
       "        vertical-align: top;\n",
       "    }\n",
       "\n",
       "    .dataframe thead th {\n",
       "        text-align: right;\n",
       "    }\n",
       "</style>\n",
       "<table border=\"1\" class=\"dataframe\">\n",
       "  <thead>\n",
       "    <tr style=\"text-align: right;\">\n",
       "      <th></th>\n",
       "      <th>User_Age</th>\n",
       "      <th>Revenue</th>\n",
       "      <th>Is_First_Order</th>\n",
       "      <th>User_Gender</th>\n",
       "    </tr>\n",
       "  </thead>\n",
       "  <tbody>\n",
       "    <tr>\n",
       "      <th>Component 1</th>\n",
       "      <td>0.218570</td>\n",
       "      <td>0.323474</td>\n",
       "      <td>-0.658817</td>\n",
       "      <td>-0.643080</td>\n",
       "    </tr>\n",
       "    <tr>\n",
       "      <th>Component 2</th>\n",
       "      <td>0.821389</td>\n",
       "      <td>0.448170</td>\n",
       "      <td>0.241708</td>\n",
       "      <td>0.256984</td>\n",
       "    </tr>\n",
       "    <tr>\n",
       "      <th>Component 3</th>\n",
       "      <td>-0.523656</td>\n",
       "      <td>0.825057</td>\n",
       "      <td>0.025675</td>\n",
       "      <td>0.210727</td>\n",
       "    </tr>\n",
       "  </tbody>\n",
       "</table>\n",
       "</div>"
      ],
      "text/plain": [
       "             User_Age   Revenue  Is_First_Order  User_Gender\n",
       "Component 1  0.218570  0.323474       -0.658817    -0.643080\n",
       "Component 2  0.821389  0.448170        0.241708     0.256984\n",
       "Component 3 -0.523656  0.825057        0.025675     0.210727"
      ]
     },
     "execution_count": 137,
     "metadata": {},
     "output_type": "execute_result"
    }
   ],
   "source": [
    "df_pca_comp = pd.DataFrame(data = pca.components_,\n",
    "                           columns = df_segmentation.columns.values,\n",
    "                           index = ['Component 1', 'Component 2', 'Component 3'])\n",
    "df_pca_comp"
   ]
  },
  {
   "cell_type": "code",
   "execution_count": 138,
   "metadata": {},
   "outputs": [
    {
     "data": {
      "image/png": "[encoded data removed]",
      "text/plain": [
       "<Figure size 432x288 with 2 Axes>"
      ]
     },
     "metadata": {},
     "output_type": "display_data"
    }
   ],
   "source": [
    "# Heat Map for Principal Components against original features. Again we use the RdBu color scheme and set borders to -1 and 1.\n",
    "sns.heatmap(df_pca_comp,\n",
    "            vmin = -1, \n",
    "            vmax = 1,\n",
    "            cmap = 'RdBu',\n",
    "            annot = True)\n",
    "plt.yticks([0, 1, 2], \n",
    "           ['Component 1', 'Component 2', 'Component 3'],\n",
    "           rotation = 45,\n",
    "           fontsize = 9);\n",
    "plt.show()"
   ]
  },
  {
   "cell_type": "code",
   "execution_count": 139,
   "metadata": {},
   "outputs": [],
   "source": [
    "scores_pca = pca.transform(segmentation_std)"
   ]
  },
  {
   "cell_type": "markdown",
   "metadata": {},
   "source": [
    "#### PCA with K-Means"
   ]
  },
  {
   "cell_type": "code",
   "execution_count": 140,
   "metadata": {},
   "outputs": [],
   "source": [
    "# We fit K means using the transformed data from the PCA.\n",
    "wcss = []\n",
    "for i in range(1,11):\n",
    "    kmeans_pca = KMeans(n_clusters = i, init = 'k-means++', random_state = 42)\n",
    "    kmeans_pca.fit(scores_pca)\n",
    "    wcss.append(kmeans_pca.inertia_)"
   ]
  },
  {
   "cell_type": "code",
   "execution_count": 141,
   "metadata": {},
   "outputs": [
    {
     "data": {
      "image/png": "[encoded data removed]",
      "text/plain": [
       "<Figure size 720x576 with 1 Axes>"
      ]
     },
     "metadata": {},
     "output_type": "display_data"
    }
   ],
   "source": [
    "# Plot the Within Cluster Sum of Squares for the K-means PCA model. Here we make a decission about the number of clusters.\n",
    "# Again it looks like four is the best option.\n",
    "plt.figure(figsize = (10,8))\n",
    "plt.plot(range(1, 11), wcss, marker = 'o', linestyle = '--')\n",
    "plt.xlabel('Number of Clusters')\n",
    "plt.ylabel('WCSS')\n",
    "plt.title('K-means with PCA Clustering')\n",
    "plt.show()"
   ]
  },
  {
   "cell_type": "code",
   "execution_count": 142,
   "metadata": {},
   "outputs": [],
   "source": [
    "# Same initializer and random state as before.\n",
    "kmeans_pca = KMeans(n_clusters = 4, init = 'k-means++', random_state = 42)"
   ]
  },
  {
   "cell_type": "code",
   "execution_count": 143,
   "metadata": {},
   "outputs": [
    {
     "data": {
      "text/plain": [
       "KMeans(n_clusters=4, random_state=42)"
      ]
     },
     "execution_count": 143,
     "metadata": {},
     "output_type": "execute_result"
    }
   ],
   "source": [
    "kmeans_pca.fit(scores_pca)"
   ]
  },
  {
   "cell_type": "markdown",
   "metadata": {},
   "source": [
    "### ${\\textbf{K-means clustering with PCA Results}}$"
   ]
  },
  {
   "cell_type": "code",
   "execution_count": 144,
   "metadata": {},
   "outputs": [],
   "source": [
    "# We create a new data frame with the original features and add the PCA scores and assigned clusters.\n",
    "df_segm_pca_kmeans = pd.concat([df_segmentation.reset_index(drop = True), pd.DataFrame(scores_pca)], axis = 1)\n",
    "df_segm_pca_kmeans.columns.values[-3: ] = ['Component 1', 'Component 2', 'Component 3']\n",
    "# The last column we add contains the pca k-means clustering labels.\n",
    "df_segm_pca_kmeans['Segment K-means PCA'] = kmeans_pca.labels_"
   ]
  },
  {
   "cell_type": "code",
   "execution_count": 145,
   "metadata": {},
   "outputs": [
    {
     "data": {
      "text/html": [
       "<div>\n",
       "<style scoped>\n",
       "    .dataframe tbody tr th:only-of-type {\n",
       "        vertical-align: middle;\n",
       "    }\n",
       "\n",
       "    .dataframe tbody tr th {\n",
       "        vertical-align: top;\n",
       "    }\n",
       "\n",
       "    .dataframe thead th {\n",
       "        text-align: right;\n",
       "    }\n",
       "</style>\n",
       "<table border=\"1\" class=\"dataframe\">\n",
       "  <thead>\n",
       "    <tr style=\"text-align: right;\">\n",
       "      <th></th>\n",
       "      <th>User_Age</th>\n",
       "      <th>Revenue</th>\n",
       "      <th>Is_First_Order</th>\n",
       "      <th>User_Gender</th>\n",
       "      <th>Component 1</th>\n",
       "      <th>Component 2</th>\n",
       "      <th>Component 3</th>\n",
       "      <th>Segment K-means PCA</th>\n",
       "    </tr>\n",
       "  </thead>\n",
       "  <tbody>\n",
       "    <tr>\n",
       "      <th>0</th>\n",
       "      <td>24.000000</td>\n",
       "      <td>212.50</td>\n",
       "      <td>0</td>\n",
       "      <td>0</td>\n",
       "      <td>0.631671</td>\n",
       "      <td>-0.713324</td>\n",
       "      <td>0.865701</td>\n",
       "      <td>0</td>\n",
       "    </tr>\n",
       "    <tr>\n",
       "      <th>1</th>\n",
       "      <td>24.000000</td>\n",
       "      <td>526.36</td>\n",
       "      <td>1</td>\n",
       "      <td>1</td>\n",
       "      <td>-1.935457</td>\n",
       "      <td>1.651012</td>\n",
       "      <td>3.494962</td>\n",
       "      <td>2</td>\n",
       "    </tr>\n",
       "    <tr>\n",
       "      <th>2</th>\n",
       "      <td>34.500000</td>\n",
       "      <td>77.23</td>\n",
       "      <td>1</td>\n",
       "      <td>0</td>\n",
       "      <td>-0.994575</td>\n",
       "      <td>0.441780</td>\n",
       "      <td>-0.594929</td>\n",
       "      <td>1</td>\n",
       "    </tr>\n",
       "    <tr>\n",
       "      <th>3</th>\n",
       "      <td>31.000000</td>\n",
       "      <td>190.91</td>\n",
       "      <td>0</td>\n",
       "      <td>0</td>\n",
       "      <td>0.763408</td>\n",
       "      <td>-0.091190</td>\n",
       "      <td>0.285168</td>\n",
       "      <td>0</td>\n",
       "    </tr>\n",
       "    <tr>\n",
       "      <th>4</th>\n",
       "      <td>30.627119</td>\n",
       "      <td>204.09</td>\n",
       "      <td>0</td>\n",
       "      <td>0</td>\n",
       "      <td>0.786232</td>\n",
       "      <td>-0.082985</td>\n",
       "      <td>0.392206</td>\n",
       "      <td>0</td>\n",
       "    </tr>\n",
       "    <tr>\n",
       "      <th>...</th>\n",
       "      <td>...</td>\n",
       "      <td>...</td>\n",
       "      <td>...</td>\n",
       "      <td>...</td>\n",
       "      <td>...</td>\n",
       "      <td>...</td>\n",
       "      <td>...</td>\n",
       "      <td>...</td>\n",
       "    </tr>\n",
       "    <tr>\n",
       "      <th>49978</th>\n",
       "      <td>30.176471</td>\n",
       "      <td>99.09</td>\n",
       "      <td>0</td>\n",
       "      <td>1</td>\n",
       "      <td>-1.263219</td>\n",
       "      <td>0.221456</td>\n",
       "      <td>0.338756</td>\n",
       "      <td>1</td>\n",
       "    </tr>\n",
       "    <tr>\n",
       "      <th>49979</th>\n",
       "      <td>26.000000</td>\n",
       "      <td>30.87</td>\n",
       "      <td>0</td>\n",
       "      <td>0</td>\n",
       "      <td>0.234058</td>\n",
       "      <td>-1.138608</td>\n",
       "      <td>-0.410324</td>\n",
       "      <td>0</td>\n",
       "    </tr>\n",
       "    <tr>\n",
       "      <th>49980</th>\n",
       "      <td>16.000000</td>\n",
       "      <td>236.36</td>\n",
       "      <td>1</td>\n",
       "      <td>0</td>\n",
       "      <td>-1.089541</td>\n",
       "      <td>-0.851630</td>\n",
       "      <td>1.585147</td>\n",
       "      <td>1</td>\n",
       "    </tr>\n",
       "    <tr>\n",
       "      <th>49981</th>\n",
       "      <td>26.000000</td>\n",
       "      <td>257.19</td>\n",
       "      <td>0</td>\n",
       "      <td>0</td>\n",
       "      <td>0.795470</td>\n",
       "      <td>-0.360778</td>\n",
       "      <td>1.021620</td>\n",
       "      <td>0</td>\n",
       "    </tr>\n",
       "    <tr>\n",
       "      <th>49982</th>\n",
       "      <td>28.000000</td>\n",
       "      <td>109.00</td>\n",
       "      <td>0</td>\n",
       "      <td>0</td>\n",
       "      <td>0.480810</td>\n",
       "      <td>-0.671133</td>\n",
       "      <td>-0.042827</td>\n",
       "      <td>0</td>\n",
       "    </tr>\n",
       "  </tbody>\n",
       "</table>\n",
       "<p>49983 rows × 8 columns</p>\n",
       "</div>"
      ],
      "text/plain": [
       "        User_Age  Revenue  Is_First_Order  User_Gender  Component 1  \\\n",
       "0      24.000000   212.50               0            0     0.631671   \n",
       "1      24.000000   526.36               1            1    -1.935457   \n",
       "2      34.500000    77.23               1            0    -0.994575   \n",
       "3      31.000000   190.91               0            0     0.763408   \n",
       "4      30.627119   204.09               0            0     0.786232   \n",
       "...          ...      ...             ...          ...          ...   \n",
       "49978  30.176471    99.09               0            1    -1.263219   \n",
       "49979  26.000000    30.87               0            0     0.234058   \n",
       "49980  16.000000   236.36               1            0    -1.089541   \n",
       "49981  26.000000   257.19               0            0     0.795470   \n",
       "49982  28.000000   109.00               0            0     0.480810   \n",
       "\n",
       "       Component 2  Component 3  Segment K-means PCA  \n",
       "0        -0.713324     0.865701                    0  \n",
       "1         1.651012     3.494962                    2  \n",
       "2         0.441780    -0.594929                    1  \n",
       "3        -0.091190     0.285168                    0  \n",
       "4        -0.082985     0.392206                    0  \n",
       "...            ...          ...                  ...  \n",
       "49978     0.221456     0.338756                    1  \n",
       "49979    -1.138608    -0.410324                    0  \n",
       "49980    -0.851630     1.585147                    1  \n",
       "49981    -0.360778     1.021620                    0  \n",
       "49982    -0.671133    -0.042827                    0  \n",
       "\n",
       "[49983 rows x 8 columns]"
      ]
     },
     "execution_count": 145,
     "metadata": {},
     "output_type": "execute_result"
    }
   ],
   "source": [
    "df_segm_pca_kmeans"
   ]
  },
  {
   "cell_type": "code",
   "execution_count": 164,
   "metadata": {},
   "outputs": [
    {
     "data": {
      "text/html": [
       "<div>\n",
       "<style scoped>\n",
       "    .dataframe tbody tr th:only-of-type {\n",
       "        vertical-align: middle;\n",
       "    }\n",
       "\n",
       "    .dataframe tbody tr th {\n",
       "        vertical-align: top;\n",
       "    }\n",
       "\n",
       "    .dataframe thead th {\n",
       "        text-align: right;\n",
       "    }\n",
       "</style>\n",
       "<table border=\"1\" class=\"dataframe\">\n",
       "  <thead>\n",
       "    <tr style=\"text-align: right;\">\n",
       "      <th></th>\n",
       "      <th>User_Age</th>\n",
       "      <th>Revenue</th>\n",
       "      <th>Is_First_Order</th>\n",
       "      <th>User_Gender</th>\n",
       "      <th>Component 1</th>\n",
       "      <th>Component 2</th>\n",
       "      <th>Component 3</th>\n",
       "    </tr>\n",
       "    <tr>\n",
       "      <th>Segment K-means PCA</th>\n",
       "      <th></th>\n",
       "      <th></th>\n",
       "      <th></th>\n",
       "      <th></th>\n",
       "      <th></th>\n",
       "      <th></th>\n",
       "      <th></th>\n",
       "    </tr>\n",
       "  </thead>\n",
       "  <tbody>\n",
       "    <tr>\n",
       "      <th>0</th>\n",
       "      <td>28.400992</td>\n",
       "      <td>111.387980</td>\n",
       "      <td>0.000000</td>\n",
       "      <td>0.000000</td>\n",
       "      <td>0.497348</td>\n",
       "      <td>-0.623036</td>\n",
       "      <td>-0.053148</td>\n",
       "    </tr>\n",
       "    <tr>\n",
       "      <th>1</th>\n",
       "      <td>29.782399</td>\n",
       "      <td>108.586326</td>\n",
       "      <td>0.714683</td>\n",
       "      <td>0.482180</td>\n",
       "      <td>-1.450975</td>\n",
       "      <td>0.258471</td>\n",
       "      <td>0.165988</td>\n",
       "    </tr>\n",
       "    <tr>\n",
       "      <th>2</th>\n",
       "      <td>31.417473</td>\n",
       "      <td>509.132545</td>\n",
       "      <td>0.097561</td>\n",
       "      <td>0.099682</td>\n",
       "      <td>1.233668</td>\n",
       "      <td>1.170960</td>\n",
       "      <td>2.336121</td>\n",
       "    </tr>\n",
       "    <tr>\n",
       "      <th>3</th>\n",
       "      <td>46.543318</td>\n",
       "      <td>117.689622</td>\n",
       "      <td>0.091882</td>\n",
       "      <td>0.052902</td>\n",
       "      <td>0.755080</td>\n",
       "      <td>1.293804</td>\n",
       "      <td>-1.127420</td>\n",
       "    </tr>\n",
       "  </tbody>\n",
       "</table>\n",
       "</div>"
      ],
      "text/plain": [
       "                      User_Age     Revenue  Is_First_Order  User_Gender  \\\n",
       "Segment K-means PCA                                                       \n",
       "0                    28.400992  111.387980        0.000000     0.000000   \n",
       "1                    29.782399  108.586326        0.714683     0.482180   \n",
       "2                    31.417473  509.132545        0.097561     0.099682   \n",
       "3                    46.543318  117.689622        0.091882     0.052902   \n",
       "\n",
       "                     Component 1  Component 2  Component 3  \n",
       "Segment K-means PCA                                         \n",
       "0                       0.497348    -0.623036    -0.053148  \n",
       "1                      -1.450975     0.258471     0.165988  \n",
       "2                       1.233668     1.170960     2.336121  \n",
       "3                       0.755080     1.293804    -1.127420  "
      ]
     },
     "execution_count": 164,
     "metadata": {},
     "output_type": "execute_result"
    }
   ],
   "source": [
    "# We calculate the means by segments.\n",
    "df_segm_pca_kmeans_freq = df_segm_pca_kmeans.groupby(['Segment K-means PCA']).mean()\n",
    "df_segm_pca_kmeans_freq"
   ]
  },
  {
   "cell_type": "code",
   "execution_count": 165,
   "metadata": {},
   "outputs": [
    {
     "data": {
      "text/html": [
       "<div>\n",
       "<style scoped>\n",
       "    .dataframe tbody tr th:only-of-type {\n",
       "        vertical-align: middle;\n",
       "    }\n",
       "\n",
       "    .dataframe tbody tr th {\n",
       "        vertical-align: top;\n",
       "    }\n",
       "\n",
       "    .dataframe thead th {\n",
       "        text-align: right;\n",
       "    }\n",
       "</style>\n",
       "<table border=\"1\" class=\"dataframe\">\n",
       "  <thead>\n",
       "    <tr style=\"text-align: right;\">\n",
       "      <th></th>\n",
       "      <th>User_Age</th>\n",
       "      <th>Revenue</th>\n",
       "      <th>Is_First_Order</th>\n",
       "      <th>User_Gender</th>\n",
       "      <th>Component 1</th>\n",
       "      <th>Component 2</th>\n",
       "      <th>Component 3</th>\n",
       "      <th>N Obs</th>\n",
       "      <th>Prop Obs</th>\n",
       "    </tr>\n",
       "    <tr>\n",
       "      <th>Segment K-means PCA</th>\n",
       "      <th></th>\n",
       "      <th></th>\n",
       "      <th></th>\n",
       "      <th></th>\n",
       "      <th></th>\n",
       "      <th></th>\n",
       "      <th></th>\n",
       "      <th></th>\n",
       "      <th></th>\n",
       "    </tr>\n",
       "  </thead>\n",
       "  <tbody>\n",
       "    <tr>\n",
       "      <th>average</th>\n",
       "      <td>28.400992</td>\n",
       "      <td>111.387980</td>\n",
       "      <td>0.000000</td>\n",
       "      <td>0.000000</td>\n",
       "      <td>0.497348</td>\n",
       "      <td>-0.623036</td>\n",
       "      <td>-0.053148</td>\n",
       "      <td>25599</td>\n",
       "      <td>0.512154</td>\n",
       "    </tr>\n",
       "    <tr>\n",
       "      <th>fewer opportunities</th>\n",
       "      <td>29.782399</td>\n",
       "      <td>108.586326</td>\n",
       "      <td>0.714683</td>\n",
       "      <td>0.482180</td>\n",
       "      <td>-1.450975</td>\n",
       "      <td>0.258471</td>\n",
       "      <td>0.165988</td>\n",
       "      <td>14731</td>\n",
       "      <td>0.294720</td>\n",
       "    </tr>\n",
       "    <tr>\n",
       "      <th>extremely rich</th>\n",
       "      <td>31.417473</td>\n",
       "      <td>509.132545</td>\n",
       "      <td>0.097561</td>\n",
       "      <td>0.099682</td>\n",
       "      <td>1.233668</td>\n",
       "      <td>1.170960</td>\n",
       "      <td>2.336121</td>\n",
       "      <td>2829</td>\n",
       "      <td>0.056599</td>\n",
       "    </tr>\n",
       "    <tr>\n",
       "      <th>standard</th>\n",
       "      <td>46.543318</td>\n",
       "      <td>117.689622</td>\n",
       "      <td>0.091882</td>\n",
       "      <td>0.052902</td>\n",
       "      <td>0.755080</td>\n",
       "      <td>1.293804</td>\n",
       "      <td>-1.127420</td>\n",
       "      <td>6824</td>\n",
       "      <td>0.136526</td>\n",
       "    </tr>\n",
       "  </tbody>\n",
       "</table>\n",
       "</div>"
      ],
      "text/plain": [
       "                      User_Age     Revenue  Is_First_Order  User_Gender  \\\n",
       "Segment K-means PCA                                                       \n",
       "average              28.400992  111.387980        0.000000     0.000000   \n",
       "fewer opportunities  29.782399  108.586326        0.714683     0.482180   \n",
       "extremely rich       31.417473  509.132545        0.097561     0.099682   \n",
       "standard             46.543318  117.689622        0.091882     0.052902   \n",
       "\n",
       "                     Component 1  Component 2  Component 3  N Obs  Prop Obs  \n",
       "Segment K-means PCA                                                          \n",
       "average                 0.497348    -0.623036    -0.053148  25599  0.512154  \n",
       "fewer opportunities    -1.450975     0.258471     0.165988  14731  0.294720  \n",
       "extremely rich          1.233668     1.170960     2.336121   2829  0.056599  \n",
       "standard                0.755080     1.293804    -1.127420   6824  0.136526  "
      ]
     },
     "execution_count": 165,
     "metadata": {},
     "output_type": "execute_result"
    }
   ],
   "source": [
    "# Calculate the size of each cluster and its proportion to the entire data set.\n",
    "df_segm_pca_kmeans_freq['N Obs'] = df_segm_pca_kmeans[['Segment K-means PCA','User_Gender']].groupby(['Segment K-means PCA']).count()\n",
    "df_segm_pca_kmeans_freq['Prop Obs'] = df_segm_pca_kmeans_freq['N Obs'] / df_segm_pca_kmeans_freq['N Obs'].sum()\n",
    "df_segm_pca_kmeans_freq = df_segm_pca_kmeans_freq.rename({0:'average', \n",
    "                                                          1:'fewer opportunities',\n",
    "                                                          2:'extremely rich', \n",
    "                                                          3:'standard'})\n",
    "df_segm_pca_kmeans_freq"
   ]
  },
  {
   "cell_type": "code",
   "execution_count": 166,
   "metadata": {},
   "outputs": [],
   "source": [
    "df_segm_pca_kmeans['Legend'] = df_segm_pca_kmeans['Segment K-means PCA'].map({0:'average', \n",
    "                                                          1:'fewer opportunities',\n",
    "                                                          2:'extremely rich', \n",
    "                                                          3:'standard'})"
   ]
  },
  {
   "cell_type": "code",
   "execution_count": 177,
   "metadata": {},
   "outputs": [
    {
     "data": {
      "image/png": "[encoded data removed]",
      "text/plain": [
       "<Figure size 720x576 with 1 Axes>"
      ]
     },
     "metadata": {},
     "output_type": "display_data"
    }
   ],
   "source": [
    "# Plot data by PCA components. The Y axis is the first component, X axis is the second.\n",
    "x_axis = df_segm_pca_kmeans['Component 2']\n",
    "y_axis = df_segm_pca_kmeans['Component 1']\n",
    "hue = df_segm_pca_kmeans['Legend'].values\n",
    "plt.figure(figsize = (10, 8))\n",
    "sns.scatterplot(x_axis, y_axis, hue = hue, palette = ['g', 'r', 'c', 'm'])\n",
    "plt.title('Clusters by PCA Components')\n",
    "plt.show()"
   ]
  },
  {
   "cell_type": "code",
   "execution_count": 178,
   "metadata": {},
   "outputs": [
    {
     "data": {
      "image/png": "[encoded data removed]",
      "text/plain": [
       "<Figure size 720x576 with 1 Axes>"
      ]
     },
     "metadata": {},
     "output_type": "display_data"
    }
   ],
   "source": [
    "# Plot data by PCA components. The Y axis is the first component, X axis is the second.\n",
    "x_axis = df_segm_pca_kmeans['Component 3']\n",
    "y_axis = df_segm_pca_kmeans['Component 1']\n",
    "plt.figure(figsize = (10, 8))\n",
    "sns.scatterplot(x_axis, y_axis, hue = df_segm_pca_kmeans['Legend'].values, palette = ['g', 'r', 'c', 'm'])\n",
    "plt.title('Clusters by PCA Components')\n",
    "plt.show()"
   ]
  },
  {
   "cell_type": "code",
   "execution_count": 179,
   "metadata": {},
   "outputs": [
    {
     "data": {
      "image/png": "[encoded data removed]",
      "text/plain": [
       "<Figure size 720x576 with 1 Axes>"
      ]
     },
     "metadata": {},
     "output_type": "display_data"
    }
   ],
   "source": [
    "# Plot data by PCA components. The Y axis is the first component, X axis is the second.\n",
    "x_axis = df_segm_pca_kmeans['Component 3']\n",
    "y_axis = df_segm_pca_kmeans['Component 2']\n",
    "plt.figure(figsize = (10, 8))\n",
    "sns.scatterplot(x_axis, y_axis, hue = df_segm_pca_kmeans['Legend'].values, palette = ['g', 'r', 'c', 'm'])\n",
    "plt.title('Clusters by PCA Components')\n",
    "plt.show()"
   ]
  },
  {
   "cell_type": "code",
   "execution_count": 163,
   "metadata": {},
   "outputs": [],
   "source": [
    "y_kmeans = kmeans_pca.labels_"
   ]
  },
  {
   "cell_type": "code",
   "execution_count": 173,
   "metadata": {},
   "outputs": [
    {
     "data": {
      "image/png": "[encoded data removed]",
      "text/plain": [
       "<Figure size 720x360 with 1 Axes>"
      ]
     },
     "metadata": {},
     "output_type": "display_data"
    }
   ],
   "source": [
    "# unzip all values for all column in X DataFrame and store them in x(array)\n",
    "x = df_segm_pca_kmeans.values\n",
    "\n",
    "plt.figure(figsize=(10,5))\n",
    "# x[y_kmeans == 0, 0] is a conditional statement that prints the value of x[i] for all i in X, only if where y_kmeans ==0\n",
    "plt.scatter(x[y_kmeans == 0, 0], x[y_kmeans == 0, 1], s = 20, c = 'red', label = 'average')\n",
    "plt.scatter(x[y_kmeans == 1, 0], x[y_kmeans == 1, 1], s = 20, c = 'blue', label = 'fewer opportunities')\n",
    "plt.scatter(x[y_kmeans == 2, 0], x[y_kmeans == 2, 1], s = 20, c = 'green', label = 'extremely rich')\n",
    "plt.scatter(x[y_kmeans == 3, 0], x[y_kmeans == 3, 1], s = 20, c = 'cyan', label = 'standard')\n",
    "plt.title('Clusters of customers')\n",
    "plt.xlabel('Age')\n",
    "plt.ylabel('Revenue (k$)')\n",
    "plt.legend() #Show labels in all scatter plots as legend\n",
    "plt.show()"
   ]
  },
  {
   "cell_type": "markdown",
   "metadata": {},
   "source": [
    "**Provide Definition of each group**\n",
    "1. Average: these are customers which gives the brand an average revenue value (111)\n",
    "2. Fewer Opportunities: Are Customers in which 70% orders a product for the first time and return a smaller revenue value on Average\n",
    "3. Extremely Rich: These Customers transactions returns a very high revenue to the brand, they buy many products and majority are female (90%)\n",
    "4. Standard: Provides a good revenue to the brand, majority are female (91%) and buys regularly from the brand"
   ]
  },
  {
   "cell_type": "code",
   "execution_count": null,
   "metadata": {},
   "outputs": [],
   "source": []
  }
 ],
 "metadata": {
  "kernelspec": {
   "display_name": "Python 3",
   "language": "python",
   "name": "python3"
  },
  "language_info": {
   "codemirror_mode": {
    "name": "ipython",
    "version": 3
   },
   "file_extension": ".py",
   "mimetype": "text/x-python",
   "name": "python",
   "nbconvert_exporter": "python",
   "pygments_lexer": "ipython3",
   "version": "3.7.4"
  }
 },
 "nbformat": 4,
 "nbformat_minor": 4
}
