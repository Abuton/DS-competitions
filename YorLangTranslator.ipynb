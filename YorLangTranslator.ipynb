{
  "nbformat": 4,
  "nbformat_minor": 0,
  "metadata": {
    "colab": {
      "name": "YorLangTranslator.ipynb",
      "provenance": []
    },
    "kernelspec": {
      "name": "python3",
      "display_name": "Python 3"
    }
  },
  "cells": [
    {
      "cell_type": "code",
      "metadata": {
        "id": "-RU12UJQ6kVl"
      },
      "source": [
        "import string\r\n",
        "import re\r\n",
        "from numpy import array, argmax, random, take\r\n",
        "import pandas as pd\r\n",
        "from keras.models import Sequential\r\n",
        "from keras.layers import Dense, LSTM, Embedding, RepeatVector\r\n",
        "from keras.preprocessing.text import Tokenizer\r\n",
        "from keras.callbacks import ModelCheckpoint\r\n",
        "from keras.preprocessing.sequence import pad_sequences\r\n",
        "from keras.models import load_model\r\n",
        "from keras import optimizers\r\n",
        "\r\n",
        "import matplotlib.pyplot as plt\r\n",
        "\r\n",
        "pd.set_option('display.max_colwidth', 200)"
      ],
      "execution_count": 1,
      "outputs": []
    },
    {
      "cell_type": "code",
      "metadata": {
        "id": "IRyKqt5s75qS"
      },
      "source": [
        "train = pd.read_csv('Train.csv')\r\n",
        "test = pd.read_csv('Test.csv')\r\n",
        "sub = pd.read_csv('SampleSubmission.csv')"
      ],
      "execution_count": 2,
      "outputs": []
    },
    {
      "cell_type": "code",
      "metadata": {
        "colab": {
          "base_uri": "https://localhost:8080/",
          "height": 323
        },
        "id": "Jn9NmCDY8Fx3",
        "outputId": "e8e1f397-feac-416e-b607-91cc2290bd5d"
      },
      "source": [
        "train.head()"
      ],
      "execution_count": 3,
      "outputs": [
        {
          "output_type": "execute_result",
          "data": {
            "text/html": [
              "<div>\n",
              "<style scoped>\n",
              "    .dataframe tbody tr th:only-of-type {\n",
              "        vertical-align: middle;\n",
              "    }\n",
              "\n",
              "    .dataframe tbody tr th {\n",
              "        vertical-align: top;\n",
              "    }\n",
              "\n",
              "    .dataframe thead th {\n",
              "        text-align: right;\n",
              "    }\n",
              "</style>\n",
              "<table border=\"1\" class=\"dataframe\">\n",
              "  <thead>\n",
              "    <tr style=\"text-align: right;\">\n",
              "      <th></th>\n",
              "      <th>ID</th>\n",
              "      <th>Yoruba</th>\n",
              "      <th>English</th>\n",
              "    </tr>\n",
              "  </thead>\n",
              "  <tbody>\n",
              "    <tr>\n",
              "      <th>0</th>\n",
              "      <td>ID_AAJEQLCz</td>\n",
              "      <td>A ṣètò Ìgbìmọ̀ Tó Ń Ṣètò Ìrànwọ́ Nígbà Àjálù láti wá bí àwọn ará wa níbẹ̀ ṣe máa rí àwọn nǹkan tí wọ́n máa nílò lọ́jọ́ iwájú.</td>\n",
              "      <td>A Disaster Relief Committee was formed to organize the long-term relief efforts.</td>\n",
              "    </tr>\n",
              "    <tr>\n",
              "      <th>1</th>\n",
              "      <td>ID_AASNedba</td>\n",
              "      <td>Ìrọ̀lẹ́ May 22, 2018 ni wọ́n fàṣẹ ọba mú Arákùnrin Solovyev ní ibùdókọ̀ ojú irin nígbà tí òun àti Anna ìyàwó rẹ̀ ń bọ̀ láti ìrìn-àjò tí wọ́n lọ lórílẹ̀-èdè míì.</td>\n",
              "      <td>Brother Solovyev was arrested on the evening of May 22, 2018, at a railway station, as he was arriving home from a trip abroad with his wife, Anna.</td>\n",
              "    </tr>\n",
              "    <tr>\n",
              "      <th>2</th>\n",
              "      <td>ID_AAeQrhMq</td>\n",
              "      <td>Iléeṣẹ́ Creative Commons náà</td>\n",
              "      <td>Creative Commons the Organization</td>\n",
              "    </tr>\n",
              "    <tr>\n",
              "      <th>3</th>\n",
              "      <td>ID_AAxlMgPP</td>\n",
              "      <td>Pè̩lú Egypt, Morocco àti Tunisia tí wó̩n ti lo̩lé, Senegal nìkan lorílè̩èdè adúláwò̩ kan tó kù, wo̩n á fe̩sè̩wo̩nsè̩ pè̩lú Colombia ni ìfe̩sè̩wo̩nsè̩ tó ké̩yìn ikò̩ H ló̩jó̩bò̩.</td>\n",
              "      <td>With Egypt, Morocco and Tunisia out of the World Cup, Senegal, the only African nation left,  will take on Columbia in their last group H game on Thursday.</td>\n",
              "    </tr>\n",
              "    <tr>\n",
              "      <th>4</th>\n",
              "      <td>ID_ABKuMKSx</td>\n",
              "      <td>Adájọ́ àgbà lórílẹ̀ èdè Náíjíríà (Attorney General of the Federation), Justice Abubakar Malami ti pàsẹ fún ilé-isẹ́ ọ̀tẹlẹ̀múyẹ́ (Department of State Services, DSS) láti jáwọ́ lórí ẹ̀sun Omoyẹle S...</td>\n",
              "      <td>The Attorney General of the Federation, Justice Abubakar Malami has ordered the Department of State Services (DSS) to hands off the trial of Omoyele Sowore.</td>\n",
              "    </tr>\n",
              "  </tbody>\n",
              "</table>\n",
              "</div>"
            ],
            "text/plain": [
              "            ID  ...                                                                                                                                                       English\n",
              "0  ID_AAJEQLCz  ...                                                                              A Disaster Relief Committee was formed to organize the long-term relief efforts.\n",
              "1  ID_AASNedba  ...           Brother Solovyev was arrested on the evening of May 22, 2018, at a railway station, as he was arriving home from a trip abroad with his wife, Anna.\n",
              "2  ID_AAeQrhMq  ...                                                                                                                             Creative Commons the Organization\n",
              "3  ID_AAxlMgPP  ...   With Egypt, Morocco and Tunisia out of the World Cup, Senegal, the only African nation left,  will take on Columbia in their last group H game on Thursday.\n",
              "4  ID_ABKuMKSx  ...  The Attorney General of the Federation, Justice Abubakar Malami has ordered the Department of State Services (DSS) to hands off the trial of Omoyele Sowore.\n",
              "\n",
              "[5 rows x 3 columns]"
            ]
          },
          "metadata": {
            "tags": []
          },
          "execution_count": 3
        }
      ]
    },
    {
      "cell_type": "markdown",
      "metadata": {
        "id": "g7olPBZG9M5h"
      },
      "source": [
        "**Text Preprocessing**"
      ]
    },
    {
      "cell_type": "code",
      "metadata": {
        "colab": {
          "base_uri": "https://localhost:8080/"
        },
        "id": "w05H-KMT8G3w",
        "outputId": "99df1445-84be-408b-da1c-a6dc6f2487a0"
      },
      "source": [
        "# make both languages an array\r\n",
        "import numpy as np\r\n",
        "a = train[['Yoruba', 'English']]\r\n",
        "a = np.array(a)\r\n",
        "\r\n",
        "a"
      ],
      "execution_count": 4,
      "outputs": [
        {
          "output_type": "execute_result",
          "data": {
            "text/plain": [
              "array([['A ṣètò Ìgbìmọ̀ Tó Ń Ṣètò Ìrànwọ́ Nígbà Àjálù láti wá bí àwọn ará wa níbẹ̀ ṣe máa rí àwọn nǹkan tí wọ́n máa nílò lọ́jọ́ iwájú.',\n",
              "        'A Disaster Relief Committee was formed to organize the long-term relief efforts.'],\n",
              "       ['Ìrọ̀lẹ́ May 22, 2018 ni wọ́n fàṣẹ ọba mú Arákùnrin Solovyev ní ibùdókọ̀ ojú irin nígbà tí òun àti Anna ìyàwó rẹ̀ ń bọ̀ láti ìrìn-àjò tí wọ́n lọ lórílẹ̀-èdè míì.',\n",
              "        'Brother Solovyev was arrested on the evening of May 22, 2018, at a railway station, as he was arriving home from a trip abroad with his wife, Anna.'],\n",
              "       ['Iléeṣẹ́ Creative Commons náà',\n",
              "        'Creative Commons the Organization'],\n",
              "       ...,\n",
              "       ['Ọ̀mọ ilé ìgbìmọ̀ Aṣojú-ṣòfin tó ń ṣojú Àgbádárìgì Ọ̀gbẹ́ni Joseph Bamgbose ló sọ ọ̀rọ̀ yí lásìkò tó ńgbé o ríyìn fún wọ̣n pé èróngbà ìjọba ló mumú láyà àwọn aka ẹgbẹ́ ilé ìgbìmọ̀ aṣòfin ẹlẹ́ẹ̀kẹjọ, Óní gẹ́gẹ́ bíí ọmọ ilé ìgbìmọ̀ aṣòfin ọ̀hún tisa ipa ribiribi láti mú ayé dẹrùn fún àwọn ènìyàn agbègbè rẹ̀ látàrí ètò ìrónilágbára lórí ètò Ọ̀gbìn, isẹ́ ọnà ti ọ̀pọ̀lọpọ̀ oníṣẹ́-ọwọ́ náà si rí gbà láti jábọ̀ fún àwọn tó lọ sojú fún labuja bákan náà, Ódúpẹ́ púpọ̀ lọ́wọ́ àwọn agbègbè rẹ̀ fún ore-òfẹ́ tí wọn fún láti ṣojú wọn ní ilé ìgbìmọ̀ aṣòfin ósì ṣ̣e ìlérí pé òun kò ní já àwọn ènìyán náà kulẹ̀ lọ́jọ́-kọ́jọ́.',\n",
              "        'The assertion was given by a member of the Green chambers representing Badagry Constituency at the National Assemblies. Mr. Bamgbose, said that the eight assembly performed creditably all members of the chamber placed national interest above individual interests. Mr. Bamgbose who stressed that as a member of the House, he has been able to also affect his constituents positively though various empowerment programmes, ranging from agriculture, crafts and many artisans within Badagry Federal Constituency. Mr. Bamgbose thanked Badagrians for giving him the opportunity to serve and promised to continue to deliver more dividends to his people.'],\n",
              "       ['Olùdíje fún ipò asòfin àgbà nínú ẹgbẹ́, All Progressives Congress (APC),asòfin  Smart Adeyemi,ni ó jáwé olúborí nínú ètò ìdìbò asòfin tó wáyé ní apá ilà Gúsù ní ìpínlẹ̀ Kogi.',\n",
              "        'The candidate of the All Progressives Congress (APC), Senator Smart Adeyemi, has won the Kogi West senatorial district election.'],\n",
              "       ['Kùkùté kan kì í fọ́ni lépo lẹ́ẹ̀mejì.',\n",
              "        \"No one stump can break one's oil-pot twice.\"]], dtype=object)"
            ]
          },
          "metadata": {
            "tags": []
          },
          "execution_count": 4
        }
      ]
    },
    {
      "cell_type": "code",
      "metadata": {
        "id": "LXpM7-iW9yN2"
      },
      "source": [
        "# make a copy of the array\r\n",
        "yor_eng = a.copy()"
      ],
      "execution_count": 5,
      "outputs": []
    },
    {
      "cell_type": "code",
      "metadata": {
        "colab": {
          "base_uri": "https://localhost:8080/"
        },
        "id": "O1yiyaRo9ZYk",
        "outputId": "463eb59c-6237-4407-9b70-80cb877240ac"
      },
      "source": [
        "# remove Punctuations\r\n",
        "yor_eng[:, 0] = [s.translate(str.maketrans('', '', string.punctuation)) for s in yor_eng[:,0]]\r\n",
        "\r\n",
        "yor_eng[:, 1] = [s.translate(str.maketrans('', '', string.punctuation)) for s in yor_eng[:,1]]\r\n",
        "\r\n",
        "yor_eng"
      ],
      "execution_count": 6,
      "outputs": [
        {
          "output_type": "execute_result",
          "data": {
            "text/plain": [
              "array([['A ṣètò Ìgbìmọ̀ Tó Ń Ṣètò Ìrànwọ́ Nígbà Àjálù láti wá bí àwọn ará wa níbẹ̀ ṣe máa rí àwọn nǹkan tí wọ́n máa nílò lọ́jọ́ iwájú',\n",
              "        'A Disaster Relief Committee was formed to organize the longterm relief efforts'],\n",
              "       ['Ìrọ̀lẹ́ May 22 2018 ni wọ́n fàṣẹ ọba mú Arákùnrin Solovyev ní ibùdókọ̀ ojú irin nígbà tí òun àti Anna ìyàwó rẹ̀ ń bọ̀ láti ìrìnàjò tí wọ́n lọ lórílẹ̀èdè míì',\n",
              "        'Brother Solovyev was arrested on the evening of May 22 2018 at a railway station as he was arriving home from a trip abroad with his wife Anna'],\n",
              "       ['Iléeṣẹ́ Creative Commons náà',\n",
              "        'Creative Commons the Organization'],\n",
              "       ...,\n",
              "       ['Ọ̀mọ ilé ìgbìmọ̀ Aṣojúṣòfin tó ń ṣojú Àgbádárìgì Ọ̀gbẹ́ni Joseph Bamgbose ló sọ ọ̀rọ̀ yí lásìkò tó ńgbé o ríyìn fún wọ̣n pé èróngbà ìjọba ló mumú láyà àwọn aka ẹgbẹ́ ilé ìgbìmọ̀ aṣòfin ẹlẹ́ẹ̀kẹjọ Óní gẹ́gẹ́ bíí ọmọ ilé ìgbìmọ̀ aṣòfin ọ̀hún tisa ipa ribiribi láti mú ayé dẹrùn fún àwọn ènìyàn agbègbè rẹ̀ látàrí ètò ìrónilágbára lórí ètò Ọ̀gbìn isẹ́ ọnà ti ọ̀pọ̀lọpọ̀ oníṣẹ́ọwọ́ náà si rí gbà láti jábọ̀ fún àwọn tó lọ sojú fún labuja bákan náà Ódúpẹ́ púpọ̀ lọ́wọ́ àwọn agbègbè rẹ̀ fún oreòfẹ́ tí wọn fún láti ṣojú wọn ní ilé ìgbìmọ̀ aṣòfin ósì ṣ̣e ìlérí pé òun kò ní já àwọn ènìyán náà kulẹ̀ lọ́jọ́kọ́jọ́',\n",
              "        'The assertion was given by a member of the Green chambers representing Badagry Constituency at the National Assemblies Mr Bamgbose said that the eight assembly performed creditably all members of the chamber placed national interest above individual interests Mr Bamgbose who stressed that as a member of the House he has been able to also affect his constituents positively though various empowerment programmes ranging from agriculture crafts and many artisans within Badagry Federal Constituency Mr Bamgbose thanked Badagrians for giving him the opportunity to serve and promised to continue to deliver more dividends to his people'],\n",
              "       ['Olùdíje fún ipò asòfin àgbà nínú ẹgbẹ́ All Progressives Congress APCasòfin  Smart Adeyemini ó jáwé olúborí nínú ètò ìdìbò asòfin tó wáyé ní apá ilà Gúsù ní ìpínlẹ̀ Kogi',\n",
              "        'The candidate of the All Progressives Congress APC Senator Smart Adeyemi has won the Kogi West senatorial district election'],\n",
              "       ['Kùkùté kan kì í fọ́ni lépo lẹ́ẹ̀mejì',\n",
              "        'No one stump can break ones oilpot twice']], dtype=object)"
            ]
          },
          "metadata": {
            "tags": []
          },
          "execution_count": 6
        }
      ]
    },
    {
      "cell_type": "code",
      "metadata": {
        "colab": {
          "base_uri": "https://localhost:8080/"
        },
        "id": "ArcV0oIb967c",
        "outputId": "c8e46eed-920f-48f8-86d3-bd61444e797d"
      },
      "source": [
        "# convert to lowercase\r\n",
        "for i in range(len(yor_eng)):\r\n",
        "  yor_eng[i, 0] = yor_eng[i, 0].lower()\r\n",
        "  yor_eng[i, 1] = yor_eng[i, 1].lower()\r\n",
        "\r\n",
        "yor_eng"
      ],
      "execution_count": 7,
      "outputs": [
        {
          "output_type": "execute_result",
          "data": {
            "text/plain": [
              "array([['a ṣètò ìgbìmọ̀ tó ń ṣètò ìrànwọ́ nígbà àjálù láti wá bí àwọn ará wa níbẹ̀ ṣe máa rí àwọn nǹkan tí wọ́n máa nílò lọ́jọ́ iwájú',\n",
              "        'a disaster relief committee was formed to organize the longterm relief efforts'],\n",
              "       ['ìrọ̀lẹ́ may 22 2018 ni wọ́n fàṣẹ ọba mú arákùnrin solovyev ní ibùdókọ̀ ojú irin nígbà tí òun àti anna ìyàwó rẹ̀ ń bọ̀ láti ìrìnàjò tí wọ́n lọ lórílẹ̀èdè míì',\n",
              "        'brother solovyev was arrested on the evening of may 22 2018 at a railway station as he was arriving home from a trip abroad with his wife anna'],\n",
              "       ['iléeṣẹ́ creative commons náà',\n",
              "        'creative commons the organization'],\n",
              "       ...,\n",
              "       ['ọ̀mọ ilé ìgbìmọ̀ aṣojúṣòfin tó ń ṣojú àgbádárìgì ọ̀gbẹ́ni joseph bamgbose ló sọ ọ̀rọ̀ yí lásìkò tó ńgbé o ríyìn fún wọ̣n pé èróngbà ìjọba ló mumú láyà àwọn aka ẹgbẹ́ ilé ìgbìmọ̀ aṣòfin ẹlẹ́ẹ̀kẹjọ óní gẹ́gẹ́ bíí ọmọ ilé ìgbìmọ̀ aṣòfin ọ̀hún tisa ipa ribiribi láti mú ayé dẹrùn fún àwọn ènìyàn agbègbè rẹ̀ látàrí ètò ìrónilágbára lórí ètò ọ̀gbìn isẹ́ ọnà ti ọ̀pọ̀lọpọ̀ oníṣẹ́ọwọ́ náà si rí gbà láti jábọ̀ fún àwọn tó lọ sojú fún labuja bákan náà ódúpẹ́ púpọ̀ lọ́wọ́ àwọn agbègbè rẹ̀ fún oreòfẹ́ tí wọn fún láti ṣojú wọn ní ilé ìgbìmọ̀ aṣòfin ósì ṣ̣e ìlérí pé òun kò ní já àwọn ènìyán náà kulẹ̀ lọ́jọ́kọ́jọ́',\n",
              "        'the assertion was given by a member of the green chambers representing badagry constituency at the national assemblies mr bamgbose said that the eight assembly performed creditably all members of the chamber placed national interest above individual interests mr bamgbose who stressed that as a member of the house he has been able to also affect his constituents positively though various empowerment programmes ranging from agriculture crafts and many artisans within badagry federal constituency mr bamgbose thanked badagrians for giving him the opportunity to serve and promised to continue to deliver more dividends to his people'],\n",
              "       ['olùdíje fún ipò asòfin àgbà nínú ẹgbẹ́ all progressives congress apcasòfin  smart adeyemini ó jáwé olúborí nínú ètò ìdìbò asòfin tó wáyé ní apá ilà gúsù ní ìpínlẹ̀ kogi',\n",
              "        'the candidate of the all progressives congress apc senator smart adeyemi has won the kogi west senatorial district election'],\n",
              "       ['kùkùté kan kì í fọ́ni lépo lẹ́ẹ̀mejì',\n",
              "        'no one stump can break ones oilpot twice']], dtype=object)"
            ]
          },
          "metadata": {
            "tags": []
          },
          "execution_count": 7
        }
      ]
    },
    {
      "cell_type": "markdown",
      "metadata": {
        "id": "d11dnxgbAE-L"
      },
      "source": [
        "**Text 2 Sequence Conversion**"
      ]
    },
    {
      "cell_type": "code",
      "metadata": {
        "colab": {
          "base_uri": "https://localhost:8080/",
          "height": 281
        },
        "id": "JEVLNsxf9_hP",
        "outputId": "c4cf3080-5751-4105-8a4d-93352e8914ef"
      },
      "source": [
        "# visualize the length of sentences in both yoruba and english\r\n",
        "yor_l, eng_l = [], []\r\n",
        "\r\n",
        "# populate the lists with sentence lengths\r\n",
        "for i in yor_eng[:, 0]:\r\n",
        "  yor_l.append(len(i.split()))\r\n",
        "\r\n",
        "for i in yor_eng[:, 1]:\r\n",
        "  eng_l.append(len(i.split()))\r\n",
        "\r\n",
        "length_df = pd.DataFrame({'yoruba':yor_l, 'english':eng_l})\r\n",
        "\r\n",
        "# counts, bin_edges = np.histogram(length_df)\r\n",
        "length_df.hist(bins=30)\r\n",
        "plt.show()"
      ],
      "execution_count": 8,
      "outputs": [
        {
          "output_type": "display_data",
          "data": {
            "image/png": "[encoded data removed]",
            "text/plain": [
              "<Figure size 432x288 with 2 Axes>"
            ]
          },
          "metadata": {
            "tags": [],
            "needs_background": "light"
          }
        }
      ]
    },
    {
      "cell_type": "markdown",
      "metadata": {
        "id": "vPkcLLALBxWD"
      },
      "source": [
        "looks like the maximum length of yoruba sentence is 200 while that of english is 150"
      ]
    },
    {
      "cell_type": "markdown",
      "metadata": {
        "id": "R7kzDtMyCdZd"
      },
      "source": [
        "using keras's tokenizer to turn sentences into sequences of integers. Padding will be added to sentences so they all have same length"
      ]
    },
    {
      "cell_type": "code",
      "metadata": {
        "id": "R8Zk-Gt5BRHD"
      },
      "source": [
        "# function to build a tokenizer\r\n",
        "def tokenization(lines):\r\n",
        "  tokenizer = Tokenizer()\r\n",
        "  tokenizer.fit_on_texts(lines)\r\n",
        "\r\n",
        "  return tokenizer"
      ],
      "execution_count": 9,
      "outputs": []
    },
    {
      "cell_type": "code",
      "metadata": {
        "colab": {
          "base_uri": "https://localhost:8080/"
        },
        "id": "CZwVcSibC6JY",
        "outputId": "c87f8acf-4298-4468-b604-6d9d770280fc"
      },
      "source": [
        "# prepare english tokenizer\r\n",
        "eng_tokenizer = tokenization(yor_eng[:, 1])\r\n",
        "\r\n",
        "eng_vocab_size = len(eng_tokenizer.word_index) + 1\r\n",
        "\r\n",
        "eng_length = 150\r\n",
        "print('English Vocabulary Size: %d' %eng_vocab_size)"
      ],
      "execution_count": 10,
      "outputs": [
        {
          "output_type": "stream",
          "text": [
            "English Vocabulary Size: 17108\n"
          ],
          "name": "stdout"
        }
      ]
    },
    {
      "cell_type": "code",
      "metadata": {
        "colab": {
          "base_uri": "https://localhost:8080/"
        },
        "id": "snVAa0FuDm6L",
        "outputId": "782546b4-acea-4ee6-ed4d-9db802ae214e"
      },
      "source": [
        "# prepare Yoruba tokenizer\r\n",
        "yor_tokenizer = tokenization(yor_eng[:, 0])\r\n",
        "\r\n",
        "yor_vocab_size = len(yor_tokenizer.word_index) + 1\r\n",
        "\r\n",
        "yor_length = 200\r\n",
        "print('Yoruba Vocabulary Size: %d' %yor_vocab_size)"
      ],
      "execution_count": 11,
      "outputs": [
        {
          "output_type": "stream",
          "text": [
            "Yoruba Vocabulary Size: 16455\n"
          ],
          "name": "stdout"
        }
      ]
    },
    {
      "cell_type": "markdown",
      "metadata": {
        "id": "0XlcesDQEwt5"
      },
      "source": [
        "The Code below contains a function to prepare the sequences. It will also perform sequence padding to a maximum sentence length as mentioned above"
      ]
    },
    {
      "cell_type": "code",
      "metadata": {
        "id": "0ZbU2kzED_zM"
      },
      "source": [
        "# encode and padd sequences\r\n",
        "def encode_sequence(tokenizer, length, lines):\r\n",
        "  # integer encode sequences\r\n",
        "  seq = tokenizer.texts_to_sequences(lines)\r\n",
        "  # padd sequence with 0 values\r\n",
        "  seq = pad_sequences(seq, maxlen=length, padding='post')\r\n",
        "  return seq"
      ],
      "execution_count": 12,
      "outputs": []
    },
    {
      "cell_type": "markdown",
      "metadata": {
        "id": "j7QmZaeoFtk8"
      },
      "source": [
        "**Model Building**"
      ]
    },
    {
      "cell_type": "code",
      "metadata": {
        "id": "xWEcbig8FrWB"
      },
      "source": [
        "from sklearn.model_selection import train_test_split\r\n",
        "\r\n",
        "# split data into train and test set\r\n",
        "train, test = train_test_split(yor_eng, test_size=.2, random_state=32)"
      ],
      "execution_count": 13,
      "outputs": []
    },
    {
      "cell_type": "markdown",
      "metadata": {
        "id": "hZ87nMJpGME0"
      },
      "source": [
        "encoding the yoruba texts as input sequence and english as the output sequence"
      ]
    },
    {
      "cell_type": "code",
      "metadata": {
        "id": "Aja7kkl9GGN5"
      },
      "source": [
        "# prepare training data\r\n",
        "trainX = encode_sequence(yor_tokenizer, yor_length, train[:, 0])\r\n",
        "trainY = encode_sequence(eng_tokenizer, eng_length, train[:, 1])\r\n",
        "\r\n",
        "# prepare validation data\r\n",
        "testX = encode_sequence(yor_tokenizer, yor_length, test[:, 0])\r\n",
        "testY = encode_sequence(eng_tokenizer, eng_length, test[:, 1])\r\n"
      ],
      "execution_count": 14,
      "outputs": []
    },
    {
      "cell_type": "markdown",
      "metadata": {
        "id": "aDq68eeDHgWX"
      },
      "source": [
        "Defining our Seq2Seq model architecture\r\n",
        "\r\n",
        "For the encoder, I used an embedding layer and an LSTM layer\r\n",
        "\r\n",
        "For the decoder, I used another LSTM layer followed by a dense layer"
      ]
    },
    {
      "cell_type": "code",
      "metadata": {
        "id": "FjfX_OsHHcsE"
      },
      "source": [
        "# building NMT model\r\n",
        "\r\n",
        "def define_model(in_vocab, out_vocab, in_timesteps, out_timesteps, units):\r\n",
        "  model = Sequential()\r\n",
        "  model.add(Embedding(in_vocab, units, input_length=in_timesteps, mask_zero=True))\r\n",
        "  model.add(LSTM(units))\r\n",
        "  model.add(RepeatVector(out_timesteps))\r\n",
        "  model.add(LSTM(units, return_sequences=True))\r\n",
        "  model.add(Dense(out_vocab, activation='softmax'))\r\n",
        "\r\n",
        "  return model"
      ],
      "execution_count": 15,
      "outputs": []
    },
    {
      "cell_type": "code",
      "metadata": {
        "id": "lZ1Wg33GJE5Y"
      },
      "source": [
        "model = define_model(yor_vocab_size, eng_vocab_size, yor_length, eng_length, 512)"
      ],
      "execution_count": 16,
      "outputs": []
    },
    {
      "cell_type": "code",
      "metadata": {
        "id": "prupDWMfJVdc"
      },
      "source": [
        "rms = optimizers.RMSprop(lr=0.001)\r\n",
        "model.compile(optimizer=rms, loss='sparse_categorical_crossentropy')"
      ],
      "execution_count": 17,
      "outputs": []
    },
    {
      "cell_type": "code",
      "metadata": {
        "colab": {
          "base_uri": "https://localhost:8080/"
        },
        "id": "nV3gBXdHvSu5",
        "outputId": "e1ee5682-0f30-4386-a93c-124d23082d3f"
      },
      "source": [
        "trainY.reshape(trainY.shape[0], trainY.shape[1])"
      ],
      "execution_count": 26,
      "outputs": [
        {
          "output_type": "execute_result",
          "data": {
            "text/plain": [
              "array([[   10,   351,   374, ...,     0,     0,     0],\n",
              "       [    1,  1697,   284, ...,     0,     0,     0],\n",
              "       [ 1364, 14969, 14970, ...,     0,     0,     0],\n",
              "       ...,\n",
              "       [   82,    24,    63, ...,     0,     0,     0],\n",
              "       [    6,   217,     2, ...,     0,     0,     0],\n",
              "       [  399,   131,    36, ...,     0,     0,     0]], dtype=int32)"
            ]
          },
          "metadata": {
            "tags": []
          },
          "execution_count": 26
        }
      ]
    },
    {
      "cell_type": "code",
      "metadata": {
        "colab": {
          "base_uri": "https://localhost:8080/"
        },
        "id": "AHqJ5_DTJw2h",
        "outputId": "377cf853-c60b-4c89-845b-bf7138c9feed"
      },
      "source": [
        "filename = \"model.h1.trans\"\r\n",
        "checkpoint = ModelCheckpoint(filepath=filename, monitor='val_loss', verbose=1, save_best_only=True, mode='min')\r\n",
        "\r\n",
        "# train model\r\n",
        "history = model.fit(trainX, trainY.reshape(trainY.shape[0], trainY.shape[1], 1), epochs=1, \r\n",
        "                    batch_size=512, validation_split=0.2, callbacks=[checkpoint], verbose=1)"
      ],
      "execution_count": 27,
      "outputs": [
        {
          "output_type": "stream",
          "text": [
            "13/13 [==============================] - 1736s 133s/step - loss: 5.7092 - val_loss: 1.1337\n",
            "\n",
            "Epoch 00001: val_loss improved from inf to 1.13369, saving model to model.h1.trans\n"
          ],
          "name": "stdout"
        },
        {
          "output_type": "stream",
          "text": [
            "WARNING:absl:Found untraced functions such as lstm_cell_layer_call_and_return_conditional_losses, lstm_cell_layer_call_fn, lstm_cell_1_layer_call_and_return_conditional_losses, lstm_cell_1_layer_call_fn, lstm_cell_layer_call_fn while saving (showing 5 of 10). These functions will not be directly callable after loading.\n",
            "WARNING:absl:Found untraced functions such as lstm_cell_layer_call_and_return_conditional_losses, lstm_cell_layer_call_fn, lstm_cell_1_layer_call_and_return_conditional_losses, lstm_cell_1_layer_call_fn, lstm_cell_layer_call_fn while saving (showing 5 of 10). These functions will not be directly callable after loading.\n"
          ],
          "name": "stderr"
        },
        {
          "output_type": "stream",
          "text": [
            "INFO:tensorflow:Assets written to: model.h1.trans/assets\n"
          ],
          "name": "stdout"
        },
        {
          "output_type": "stream",
          "text": [
            "INFO:tensorflow:Assets written to: model.h1.trans/assets\n"
          ],
          "name": "stderr"
        }
      ]
    },
    {
      "cell_type": "code",
      "metadata": {
        "colab": {
          "base_uri": "https://localhost:8080/",
          "height": 320
        },
        "id": "xs99edifK5tG",
        "outputId": "ae733d05-1561-48dc-8748-8f0b02d2292b"
      },
      "source": [
        "plt.figure(figsize=(8, 5))\r\n",
        "plt.plot(history.history['loss'])\r\n",
        "plt.plot(history.history['val_loss'])\r\n",
        "plt.legend(['train', 'validation'])\r\n",
        "plt.show()"
      ],
      "execution_count": 28,
      "outputs": [
        {
          "output_type": "display_data",
          "data": {
            "image/png": "[encoded data removed]",
            "text/plain": [
              "<Figure size 576x360 with 1 Axes>"
            ]
          },
          "metadata": {
            "tags": [],
            "needs_background": "light"
          }
        }
      ]
    },
    {
      "cell_type": "code",
      "metadata": {
        "colab": {
          "base_uri": "https://localhost:8080/"
        },
        "id": "D9rUvqzrnaA9",
        "outputId": "b980950f-6593-4c5f-ee36-e8c871f80038"
      },
      "source": [
        "testX.reshape((testX.shape[0], testX.shape[1]))[0]"
      ],
      "execution_count": 30,
      "outputs": [
        {
          "output_type": "execute_result",
          "data": {
            "text/plain": [
              "array([   3,  711,  125,    6,   39,   18,   55,   95,  152,   31,   30,\n",
              "        277,    4, 2559,   23,  192,    0,    0,    0,    0,    0,    0,\n",
              "          0,    0,    0,    0,    0,    0,    0,    0,    0,    0,    0,\n",
              "          0,    0,    0,    0,    0,    0,    0,    0,    0,    0,    0,\n",
              "          0,    0,    0,    0,    0,    0,    0,    0,    0,    0,    0,\n",
              "          0,    0,    0,    0,    0,    0,    0,    0,    0,    0,    0,\n",
              "          0,    0,    0,    0,    0,    0,    0,    0,    0,    0,    0,\n",
              "          0,    0,    0,    0,    0,    0,    0,    0,    0,    0,    0,\n",
              "          0,    0,    0,    0,    0,    0,    0,    0,    0,    0,    0,\n",
              "          0,    0,    0,    0,    0,    0,    0,    0,    0,    0,    0,\n",
              "          0,    0,    0,    0,    0,    0,    0,    0,    0,    0,    0,\n",
              "          0,    0,    0,    0,    0,    0,    0,    0,    0,    0,    0,\n",
              "          0,    0,    0,    0,    0,    0,    0,    0,    0,    0,    0,\n",
              "          0,    0,    0,    0,    0,    0,    0,    0,    0,    0,    0,\n",
              "          0,    0,    0,    0,    0,    0,    0,    0,    0,    0,    0,\n",
              "          0,    0,    0,    0,    0,    0,    0,    0,    0,    0,    0,\n",
              "          0,    0,    0,    0,    0,    0,    0,    0,    0,    0,    0,\n",
              "          0,    0,    0,    0,    0,    0,    0,    0,    0,    0,    0,\n",
              "          0,    0], dtype=int32)"
            ]
          },
          "metadata": {
            "tags": []
          },
          "execution_count": 30
        }
      ]
    },
    {
      "cell_type": "code",
      "metadata": {
        "colab": {
          "base_uri": "https://localhost:8080/"
        },
        "id": "FzddMoLaOm7M",
        "outputId": "1c27c40e-4392-4d19-c131-169c144d2da2"
      },
      "source": [
        "# load model and make prediction\r\n",
        "model_loaded = load_model('model.h1.trans')\r\n",
        "preds = model_loaded.predict_classes(testX.reshape((testX.shape[0], testX.shape[1]))[0])"
      ],
      "execution_count": 31,
      "outputs": [
        {
          "output_type": "stream",
          "text": [
            "WARNING:tensorflow:Model was constructed with shape (None, 200) for input KerasTensor(type_spec=TensorSpec(shape=(None, 200), dtype=tf.float32, name='embedding_input'), name='embedding_input', description=\"created by layer 'embedding_input'\"), but it was called on an input with incompatible shape (None, 1).\n"
          ],
          "name": "stdout"
        },
        {
          "output_type": "stream",
          "text": [
            "/usr/local/lib/python3.6/dist-packages/tensorflow/python/keras/engine/sequential.py:450: UserWarning: `model.predict_classes()` is deprecated and will be removed after 2021-01-01. Please use instead:* `np.argmax(model.predict(x), axis=-1)`,   if your model does multi-class classification   (e.g. if it uses a `softmax` last-layer activation).* `(model.predict(x) > 0.5).astype(\"int32\")`,   if your model does binary classification   (e.g. if it uses a `sigmoid` last-layer activation).\n",
            "  warnings.warn('`model.predict_classes()` is deprecated and '\n",
            "WARNING:tensorflow:Model was constructed with shape (None, 200) for input KerasTensor(type_spec=TensorSpec(shape=(None, 200), dtype=tf.float32, name='embedding_input'), name='embedding_input', description=\"created by layer 'embedding_input'\"), but it was called on an input with incompatible shape (None, 1).\n"
          ],
          "name": "stderr"
        }
      ]
    },
    {
      "cell_type": "code",
      "metadata": {
        "id": "VszisU3ZWtD2"
      },
      "source": [
        "# convert predictions to integer\r\n",
        "def get_word(n, tokenizer):\r\n",
        "  for word, index in tokenizer.word_index.items():\r\n",
        "    if index=='n':\r\n",
        "      return word\r\n",
        "  return None"
      ],
      "execution_count": 33,
      "outputs": []
    },
    {
      "cell_type": "code",
      "metadata": {
        "id": "c-fvFi4ZWs_y"
      },
      "source": [
        "# convert prediciton into English\r\n",
        "pred_text = []\r\n",
        "for i in preds:\r\n",
        "  temp = []\r\n",
        "  for j in range(len(i)):\r\n",
        "    t = get_word(i[j], eng_tokenizer)\r\n",
        "\r\n",
        "    if j > 0:\r\n",
        "      if (t == get_word(i[j-1], eng_tokenizer)) or (t == None):\r\n",
        "        temp.append('')\r\n",
        "      else: temp.append(t)\r\n",
        "    else:\r\n",
        "      if(t == None):\r\n",
        "        temp.append('')\r\n",
        "      else: temp.append(t)\r\n",
        "\r\n",
        "      pred_text.append(\" \".join(temp))"
      ],
      "execution_count": 36,
      "outputs": []
    },
    {
      "cell_type": "code",
      "metadata": {
        "id": "RgnTDeEvWs95"
      },
      "source": [
        "pred_df = pd.DataFrame({'actual':test[:,0], 'predicted': pred_text})"
      ],
      "execution_count": null,
      "outputs": []
    },
    {
      "cell_type": "code",
      "metadata": {
        "colab": {
          "base_uri": "https://localhost:8080/"
        },
        "id": "ccSEh8vsZlym",
        "outputId": "0755bd37-c903-4bfa-cfa6-a6b987ced053"
      },
      "source": [
        "print(test[0,0] )\r\n",
        "print(pred_text)"
      ],
      "execution_count": 38,
      "outputs": [
        {
          "output_type": "stream",
          "text": [
            "ní tàwọn míì ó lè jẹ́ arákùnrin tàbí arábìnrin kan nínú ìjọ tó ṣòroó bá lò\n",
            "['', '', '', '', '', '', '', '', '', '', '', '', '', '', '', '', '', '', '', '', '', '', '', '', '', '', '', '', '', '', '', '', '', '', '', '', '', '', '', '', '', '', '', '', '', '', '', '', '', '', '', '', '', '', '', '', '', '', '', '', '', '', '', '', '', '', '', '', '', '', '', '', '', '', '', '', '', '', '', '', '', '', '', '', '', '', '', '', '', '', '', '', '', '', '', '', '', '', '', '', '', '', '', '', '', '', '', '', '', '', '', '', '', '', '', '', '', '', '', '', '', '', '', '', '', '', '', '', '', '', '', '', '', '', '', '', '', '', '', '', '', '', '', '', '', '', '', '', '', '', '', '', '', '', '', '', '', '', '', '', '', '', '', '', '', '', '', '', '', '', '', '', '', '', '', '', '', '', '', '', '', '', '', '', '', '', '', '', '', '', '', '', '', '', '', '', '', '', '', '']\n"
          ],
          "name": "stdout"
        }
      ]
    },
    {
      "cell_type": "code",
      "metadata": {
        "id": "aVnjfflkZlvt"
      },
      "source": [
        ""
      ],
      "execution_count": null,
      "outputs": []
    }
  ]
}